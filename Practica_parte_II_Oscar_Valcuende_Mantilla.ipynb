{
  "nbformat": 4,
  "nbformat_minor": 0,
  "metadata": {
    "colab": {
      "name": "Practica parte II Oscar Valcuende Mantilla.ipynb",
      "provenance": [],
      "collapsed_sections": []
    },
    "kernelspec": {
      "name": "python3",
      "display_name": "Python 3"
    },
    "accelerator": "GPU"
  },
  "cells": [
    {
      "cell_type": "code",
      "metadata": {
        "id": "4i8FlGI4o6MR",
        "colab_type": "code",
        "colab": {
          "base_uri": "https://localhost:8080/",
          "height": 34
        },
        "outputId": "706f5dc1-c6a0-4070-a364-a0ac5ba77d19"
      },
      "source": [
        "# montamos GDrive\n",
        "from google.colab import drive\n",
        "drive.mount('/content/drive')"
      ],
      "execution_count": null,
      "outputs": [
        {
          "output_type": "stream",
          "text": [
            "Drive already mounted at /content/drive; to attempt to forcibly remount, call drive.mount(\"/content/drive\", force_remount=True).\n"
          ],
          "name": "stdout"
        }
      ]
    },
    {
      "cell_type": "code",
      "metadata": {
        "id": "zBiuFIO62D7j",
        "colab_type": "code",
        "colab": {}
      },
      "source": [
        "%tensorflow_version 1.x"
      ],
      "execution_count": null,
      "outputs": []
    },
    {
      "cell_type": "code",
      "metadata": {
        "colab_type": "code",
        "id": "fGDyCPKd2KG_",
        "colab": {
          "base_uri": "https://localhost:8080/",
          "height": 34
        },
        "outputId": "14740719-4271-4cc4-d6b3-f2b2718e3fb8"
      },
      "source": [
        "import tensorflow as tf\n",
        "print(tf.__version__)"
      ],
      "execution_count": null,
      "outputs": [
        {
          "output_type": "stream",
          "text": [
            "1.15.2\n"
          ],
          "name": "stdout"
        }
      ]
    },
    {
      "cell_type": "code",
      "metadata": {
        "id": "N0NMM6apsqs-",
        "colab_type": "code",
        "colab": {}
      },
      "source": [
        "# Dataset: https://public.opendatasoft.com/explore/dataset/airbnb-listings/export/?disjunctive.host_verifications&disjunctive.amenities&disjunctive.features&refine.country=Spain&q=Madrid\n",
        "# Link directo: https://public.opendatasoft.com/explore/dataset/airbnb-listings/download/?format=csv&disjunctive.host_verifications=true&disjunctive.amenities=true&disjunctive.features=true&refine.country=Spain&q=Madrid&timezone=Europe/London&use_labels_for_header=true&csv_separator=%3B"
      ],
      "execution_count": null,
      "outputs": []
    },
    {
      "cell_type": "code",
      "metadata": {
        "id": "-47tSe6MEAiX",
        "colab_type": "code",
        "colab": {}
      },
      "source": [
        "# Recurso para aprender a cargar datos en Colab: \n",
        "# https://colab.research.google.com/notebooks/io.ipynb#scrollTo=RWSJpsyKqHjH"
      ],
      "execution_count": null,
      "outputs": []
    },
    {
      "cell_type": "code",
      "metadata": {
        "id": "11tGGRgrRodv",
        "colab_type": "code",
        "colab": {
          "base_uri": "https://localhost:8080/",
          "height": 224
        },
        "outputId": "b0b2043f-e02a-4f15-8dd1-606a396eafdf"
      },
      "source": [
        "# nos descargamos el dataset de OpenDataSoft\n",
        "!wget -O \"airbnb-listings.csv\" \"https://public.opendatasoft.com/explore/dataset/airbnb-listings/download/?format=csv&disjunctive.host_verifications=true&disjunctive.amenities=true&disjunctive.features=true&refine.country=Spain&q=Madrid&timezone=Europe/London&use_labels_for_header=true&csv_separator=%3B\""
      ],
      "execution_count": null,
      "outputs": [
        {
          "output_type": "stream",
          "text": [
            "--2020-06-26 21:44:01--  https://public.opendatasoft.com/explore/dataset/airbnb-listings/download/?format=csv&disjunctive.host_verifications=true&disjunctive.amenities=true&disjunctive.features=true&refine.country=Spain&q=Madrid&timezone=Europe/London&use_labels_for_header=true&csv_separator=%3B\n",
            "Resolving public.opendatasoft.com (public.opendatasoft.com)... 34.248.20.69, 34.249.199.226\n",
            "Connecting to public.opendatasoft.com (public.opendatasoft.com)|34.248.20.69|:443... connected.\n",
            "HTTP request sent, awaiting response... 200 OK\n",
            "Length: unspecified [application/csv]\n",
            "Saving to: ‘airbnb-listings.csv’\n",
            "\n",
            "airbnb-listings.csv     [       <=>          ]  54.19M  2.99MB/s    in 18s     \n",
            "\n",
            "2020-06-26 21:44:21 (2.99 MB/s) - ‘airbnb-listings.csv’ saved [56826824]\n",
            "\n"
          ],
          "name": "stdout"
        }
      ]
    },
    {
      "cell_type": "code",
      "metadata": {
        "id": "qnlm55IBu_Vv",
        "colab_type": "code",
        "colab": {
          "base_uri": "https://localhost:8080/",
          "height": 289
        },
        "outputId": "673d5e70-f3d9-4b06-a0ab-acc80be1edbc"
      },
      "source": [
        "!ls -lah"
      ],
      "execution_count": null,
      "outputs": [
        {
          "output_type": "stream",
          "text": [
            "total 2.0G\n",
            "drwxr-xr-x 1 root root 4.0K Jun 26 21:21 .\n",
            "drwxr-xr-x 1 root root 4.0K Jun 26 20:37 ..\n",
            "-rw-r--r-- 1 root root  55M Jun 26 21:44 airbnb-listings.csv\n",
            "drwxr-xr-x 1 root root 4.0K Jun 25 17:02 .config\n",
            "drwx------ 4 root root 4.0K Jun 26 21:03 drive\n",
            "-rw-r--r-- 1 root root 381M Jun 26 21:21 images_test.npy\n",
            "-rw-r--r-- 1 root root 1.2G Jun 26 21:37 images_train.npy\n",
            "-rw-r--r-- 1 root root 303M Jun 26 21:18 images_val.npy\n",
            "drwxr-xr-x 1 root root 4.0K Jun 17 16:18 sample_data\n",
            "-rw-r--r-- 1 root root 1.1M Jun 26 21:29 test.csv\n",
            "-rw-r--r-- 1 root root 3.5M Jun 26 21:29 train.csv\n",
            "-rw-r--r-- 1 root root 880K Jun 26 21:29 val.csv\n",
            "-rw-r--r-- 1 root root  21K Jun 26 21:21 was_loaded_test.npy\n",
            "-rw-r--r-- 1 root root  67K Jun 26 21:37 was_loaded_train.npy\n",
            "-rw-r--r-- 1 root root  17K Jun 26 21:18 was_loaded_val.npy\n"
          ],
          "name": "stdout"
        }
      ]
    },
    {
      "cell_type": "code",
      "metadata": {
        "id": "1Dllq0jBDT3f",
        "colab_type": "code",
        "colab": {}
      },
      "source": [
        "import pandas as pd\n",
        "import matplotlib.pyplot as plt"
      ],
      "execution_count": null,
      "outputs": []
    },
    {
      "cell_type": "code",
      "metadata": {
        "id": "fHqnNEDmihhO",
        "colab_type": "code",
        "colab": {}
      },
      "source": [
        "# Leemos el dataset con pandas y mostramos los 5 primeros registros\n",
        "\n",
        "data = pd.read_csv('airbnb-listings.csv', sep = ';')\n"
      ],
      "execution_count": null,
      "outputs": []
    },
    {
      "cell_type": "code",
      "metadata": {
        "id": "MPYOIUbJVASO",
        "colab_type": "code",
        "colab": {}
      },
      "source": [
        "# Hacemos un drop de todas las columnas que OBVIAMENTE no aportan información relevante\n",
        "not_useful_columns = [\n",
        "    'ID', 'Listing Url', 'Scrape ID', 'Last Scraped', 'Medium Url', \n",
        "    'Picture Url', 'XL Picture Url', 'Host ID', 'Host URL', 'Host Name', \n",
        "    'Host Thumbnail Url', 'Host Picture Url', 'Host Neighbourhood', 'Weekly Price', \n",
        "    'Monthly Price', 'Calendar Updated', 'Calendar last Scraped', 'First Review', \n",
        "    'Last Review', 'Reviews per Month', 'Geolocation', 'Calculated host listings count',\n",
        "    'Host Listings Count', 'Host Total Listings Count'\n",
        "]\n",
        "\n",
        "data.drop(not_useful_columns, axis=1, inplace=True)"
      ],
      "execution_count": null,
      "outputs": []
    },
    {
      "cell_type": "code",
      "metadata": {
        "id": "8SXPTykVYHZR",
        "colab_type": "code",
        "colab": {}
      },
      "source": [
        "# Hacemos un drop de todas las columnas que aportando información quedan fuera del scope\n",
        "somehow_useful_columns_but_droppable_anyway = ['Name', 'Summary', 'Space', 'Description',\n",
        "       'Neighborhood Overview', 'Notes', 'Transit', 'Access', 'Interaction', 'House Rules',\n",
        "       'Host Location', 'Host About','Amenities','Features','Experiences Offered','Host Verifications'\n",
        "]\n",
        "\n",
        "data.drop(somehow_useful_columns_but_droppable_anyway, axis=1, inplace=True)"
      ],
      "execution_count": null,
      "outputs": []
    },
    {
      "cell_type": "code",
      "metadata": {
        "id": "mWgxSikJT3Zp",
        "colab_type": "code",
        "colab": {
          "base_uri": "https://localhost:8080/",
          "height": 51
        },
        "outputId": "220f595c-2890-47c2-c2c0-9646d624518d"
      },
      "source": [
        "#Separamos el dataset en train y test\n",
        "from sklearn.model_selection import train_test_split\n",
        "#full_df = pd.read_csv('./airbnb-listings-extract.csv', sep=';', decimal='.')\n",
        "train, test = train_test_split(data, test_size=0.2, shuffle=True, random_state=0)\n",
        "print(f'Dimensiones del dataset de training: {train.shape}')\n",
        "print(f'Dimensiones del dataset de test: {test.shape}')\n",
        "# Guardamos\n",
        "train.to_csv('./train.csv', sep=';', decimal='.', index=False)\n",
        "test.to_csv('./test.csv', sep=';', decimal='.', index=False)\n",
        "# A partir de este momento cargamos el dataset de train y trabajamos ÚNICAMENTE con él. \n"
      ],
      "execution_count": null,
      "outputs": [
        {
          "output_type": "stream",
          "text": [
            "Dimensiones del dataset de training: (11200, 49)\n",
            "Dimensiones del dataset de test: (2801, 49)\n"
          ],
          "name": "stdout"
        }
      ]
    },
    {
      "cell_type": "code",
      "metadata": {
        "id": "BYb-LlzQCjpP",
        "colab_type": "code",
        "colab": {}
      },
      "source": [
        "dfTrain = pd.read_csv('./train.csv', sep=';', decimal='.')"
      ],
      "execution_count": null,
      "outputs": []
    },
    {
      "cell_type": "code",
      "metadata": {
        "colab_type": "code",
        "id": "zt5fxeAkYqhL",
        "colab": {
          "base_uri": "https://localhost:8080/",
          "height": 51
        },
        "outputId": "98c5a923-cfc7-479d-f5b1-293d5b6ba9a8"
      },
      "source": [
        "#Separamos el dataset de train en train y validacion\n",
        "train, val = train_test_split(dfTrain, test_size=0.2, shuffle=True, random_state=0)\n",
        "print(f'Dimensiones del dataset de training: {train.shape}')\n",
        "print(f'Dimensiones del dataset de val: {val.shape}')\n",
        "# Guardamos\n",
        "train.to_csv('./train.csv', sep=';', decimal='.', index=False)\n",
        "val.to_csv('./val.csv', sep=';', decimal='.', index=False)\n",
        "# A partir de este momento cargamos el dataset de train y trabajamos ÚNICAMENTE con él. \n",
        "dfTrain = pd.read_csv('./train.csv', sep=';', decimal='.')"
      ],
      "execution_count": null,
      "outputs": [
        {
          "output_type": "stream",
          "text": [
            "Dimensiones del dataset de training: (8960, 49)\n",
            "Dimensiones del dataset de val: (2240, 49)\n"
          ],
          "name": "stdout"
        }
      ]
    },
    {
      "cell_type": "code",
      "metadata": {
        "id": "ou1USu_qTZeO",
        "colab_type": "code",
        "colab": {
          "base_uri": "https://localhost:8080/",
          "height": 221
        },
        "outputId": "6065e7c7-1a7d-4094-bbcd-2082477a71f5"
      },
      "source": [
        "#Nos vamos a ceñir solo a Madrid capital\n",
        "dfTrain['City'].unique()\n",
        "dfTrain['City'].value_counts()"
      ],
      "execution_count": null,
      "outputs": [
        {
          "output_type": "execute_result",
          "data": {
            "text/plain": [
              "Madrid              8449\n",
              "Barcelona            192\n",
              "马德里                   33\n",
              "Alcúdia               30\n",
              "Palma                 26\n",
              "                    ... \n",
              "Pina                   1\n",
              "Muro (Mallorca)        1\n",
              "Port de Pollença       1\n",
              "Chiva                  1\n",
              "San Lázaro             1\n",
              "Name: City, Length: 109, dtype: int64"
            ]
          },
          "metadata": {
            "tags": []
          },
          "execution_count": 144
        }
      ]
    },
    {
      "cell_type": "code",
      "metadata": {
        "id": "RCRKGb2HWCiO",
        "colab_type": "code",
        "colab": {}
      },
      "source": [
        "df_Madrid = dfTrain[dfTrain['City']!='Madrid']"
      ],
      "execution_count": null,
      "outputs": []
    },
    {
      "cell_type": "code",
      "metadata": {
        "id": "wElx-Aq3WjsW",
        "colab_type": "code",
        "colab": {}
      },
      "source": [
        "dfTrain.drop(df_Madrid.index, inplace = True)"
      ],
      "execution_count": null,
      "outputs": []
    },
    {
      "cell_type": "code",
      "metadata": {
        "id": "058o5mY4SMh5",
        "colab_type": "code",
        "colab": {}
      },
      "source": [
        "#Podemos borrar estas variable de situación y nos vamos a quedar co la latitud, longitud y barrio\n",
        "columnas_loc = [\n",
        "    'City', 'Country','Country Code', 'State', 'Market', 'Smart Location', 'Street', 'Zipcode'\n",
        "]\n",
        "dfTrain.drop(columnas_loc, axis=1, inplace=True)"
      ],
      "execution_count": null,
      "outputs": []
    },
    {
      "cell_type": "code",
      "metadata": {
        "id": "l9vAxBLfT3ce",
        "colab_type": "code",
        "colab": {}
      },
      "source": [
        "columnas_nulos = [\n",
        "    'Host Acceptance Rate', 'Square Feet','Has Availability','License', 'Jurisdiction Names'\n",
        "]\n",
        "dfTrain.drop(columnas_nulos, axis=1, inplace=True)"
      ],
      "execution_count": null,
      "outputs": []
    },
    {
      "cell_type": "markdown",
      "metadata": {
        "id": "KqsxqcIhXppC",
        "colab_type": "text"
      },
      "source": [
        "Vamos que variables podedmos eliminar por estar fuertemente correladas"
      ]
    },
    {
      "cell_type": "code",
      "metadata": {
        "id": "h3InD9xOfUtm",
        "colab_type": "code",
        "colab": {}
      },
      "source": [
        "columnas_cr = [\n",
        "    'Accommodates','Availability 60','Availability 90','Review Scores Rating'\n",
        "]\n",
        "dfTrain.drop(columnas_cr, axis=1, inplace=True)"
      ],
      "execution_count": null,
      "outputs": []
    },
    {
      "cell_type": "markdown",
      "metadata": {
        "id": "OCCDqMbJEj43",
        "colab_type": "text"
      },
      "source": [
        "Observando los tres campos, parece que me voy a quedar con Neighbourhood Cleansed porque el Neighbourhood Group Cleansed parece que es el Distrito y Neighbourhood tiene valores nulos se parece mucho a Neighbourhood Cleansed"
      ]
    },
    {
      "cell_type": "code",
      "metadata": {
        "id": "ZiDONvRAEgq_",
        "colab_type": "code",
        "colab": {}
      },
      "source": [
        "dfTrain.drop(['Neighbourhood Group Cleansed','Neighbourhood'], axis=1, inplace=True)"
      ],
      "execution_count": null,
      "outputs": []
    },
    {
      "cell_type": "code",
      "metadata": {
        "id": "WmTM3klvU2oy",
        "colab_type": "code",
        "colab": {}
      },
      "source": [
        "dfTrain[\"Host Response Time\"].fillna(dfTrain[\"Host Response Time\"].mode()[0], inplace=True)"
      ],
      "execution_count": null,
      "outputs": []
    },
    {
      "cell_type": "markdown",
      "metadata": {
        "id": "5nHnxiueJh6P",
        "colab_type": "text"
      },
      "source": [
        "Elimino la variable temporal 'Host Since' para nuestro estudio"
      ]
    },
    {
      "cell_type": "code",
      "metadata": {
        "id": "I8KRnzuOJYV4",
        "colab_type": "code",
        "colab": {}
      },
      "source": [
        "dfTrain.drop(['Host Since'], axis=1, inplace=True)"
      ],
      "execution_count": null,
      "outputs": []
    },
    {
      "cell_type": "markdown",
      "metadata": {
        "id": "EdwpWXlIYYzy",
        "colab_type": "text"
      },
      "source": [
        "Eliminamos de nuestro dataset as filas con el Price nulo"
      ]
    },
    {
      "cell_type": "code",
      "metadata": {
        "id": "R4ref1nZKrQB",
        "colab_type": "code",
        "colab": {}
      },
      "source": [
        "dfTrain = dfTrain.dropna(axis=0, subset=['Price'])"
      ],
      "execution_count": null,
      "outputs": []
    },
    {
      "cell_type": "code",
      "metadata": {
        "id": "WrASFfhvPkk3",
        "colab_type": "code",
        "colab": {
          "base_uri": "https://localhost:8080/",
          "height": 153
        },
        "outputId": "a845facb-08d8-4a85-af46-64ae8dbcc1cb"
      },
      "source": [
        "df_nn = dfTrain[list(dfTrain.select_dtypes(include=['object']).columns)]\n",
        "df_nn.apply(lambda x: len(x.unique())) # valores diferentes"
      ],
      "execution_count": null,
      "outputs": [
        {
          "output_type": "execute_result",
          "data": {
            "text/plain": [
              "Thumbnail Url             6846\n",
              "Host Response Time           4\n",
              "Neighbourhood Cleansed     125\n",
              "Property Type               19\n",
              "Room Type                    3\n",
              "Bed Type                     5\n",
              "Cancellation Policy          5\n",
              "dtype: int64"
            ]
          },
          "metadata": {
            "tags": []
          },
          "execution_count": 154
        }
      ]
    },
    {
      "cell_type": "code",
      "metadata": {
        "id": "7r-zkxL4ZQPa",
        "colab_type": "code",
        "colab": {}
      },
      "source": [
        "df_num = dfTrain[list(dfTrain.select_dtypes(include=['float64']).columns)]"
      ],
      "execution_count": null,
      "outputs": []
    },
    {
      "cell_type": "code",
      "metadata": {
        "id": "HpRZNlmD3LtS",
        "colab_type": "code",
        "colab": {}
      },
      "source": [
        "# aquí creamos nuestra estructura de datos, que va a consistir en la url de la\n",
        "# imagen y un índice para saber donde insertarla en nuestro array\n",
        "images_paths_train = [[i, img_url] for i, img_url in enumerate(dfTrain['Thumbnail Url'])]"
      ],
      "execution_count": null,
      "outputs": []
    },
    {
      "cell_type": "code",
      "metadata": {
        "colab_type": "code",
        "id": "Ygd_L9GHnz_R",
        "colab": {}
      },
      "source": [
        "dfTrain.drop(['Thumbnail Url'], axis=1, inplace=True)"
      ],
      "execution_count": null,
      "outputs": []
    },
    {
      "cell_type": "code",
      "metadata": {
        "id": "g_cnNHlk8EgP",
        "colab_type": "code",
        "colab": {}
      },
      "source": [
        "import imageio as io\n",
        "import cv2\n",
        "\n",
        "# esta es la función que se descargará la imagen y devolverá la imagen y el \n",
        "# índice indicando la posición donde se incrustará la imagen en nuestro array\n",
        "def get_image(data_url, target_size=(224, 224)):\n",
        "    idx, url = data_url\n",
        "    try:\n",
        "        img = io.imread(url)\n",
        "        # hay alguna imagen en blanco y negro y daría error al incluirla en \n",
        "        # nuestro array de imagenes que tiene 3 canales, así que convertimos\n",
        "        # todas las imágenes que tengan menos de 3 dimensiones a color\n",
        "        if img.ndim < 3:\n",
        "            img = cv2.cvtColor(img, cv2.COLOR_GRAY2RGB)\n",
        "        img = cv2.resize(img, dsize=target_size)\n",
        "        return img, idx\n",
        "    except IOError as err:\n",
        "        return (None, idx)"
      ],
      "execution_count": null,
      "outputs": []
    },
    {
      "cell_type": "code",
      "metadata": {
        "id": "Q1K_ro_C8N0U",
        "colab_type": "code",
        "colab": {}
      },
      "source": [
        "import numpy as np\n",
        "\n",
        "# en este array iremos incrustando las imágenes conforme las vayamos obteniendo\n",
        "loaded_images_train = np.zeros((len(images_paths_train), 224, 224, 3), dtype=np.uint8)\n",
        "\n",
        "# y en este array llevaremos un control de cuales se han cargado correctamente\n",
        "# y cuales no\n",
        "was_loaded_train = np.zeros(len(images_paths_train))"
      ],
      "execution_count": null,
      "outputs": []
    },
    {
      "cell_type": "code",
      "metadata": {
        "id": "h56SH5SS26fD",
        "colab_type": "code",
        "colab": {
          "base_uri": "https://localhost:8080/",
          "height": 68
        },
        "outputId": "1830ab89-dc6a-41e4-b6c2-50fb45a37dad"
      },
      "source": [
        "import concurrent\n",
        "from tqdm import tqdm\n",
        "\n",
        "# creamos un pool de procesos que se irán descargando las imágenes\n",
        "# por defecto, se crearán tantos como CPUs tenga vuestra máquina\n",
        "with concurrent.futures.ProcessPoolExecutor() as executor:\n",
        "    # procesamos la lista de urls de imágenes paralelizandola con el pool de procesos\n",
        "    for (img, idx) in tqdm(executor.map(get_image, images_paths_train), total=len(images_paths_train)):\n",
        "        # metemos la imagen en nuestro array\n",
        "        if img is not None:\n",
        "            loaded_images_train[idx] = img\n",
        "            was_loaded_train[idx] = 1\n",
        "        else:\n",
        "            was_loaded_train[idx] = 0\n",
        "\n",
        "print('Terminado!')\n",
        "print(f'Total de imágenes recuperadas correctamente: {sum(was_loaded_train)}/{len(images_paths_train)}')"
      ],
      "execution_count": null,
      "outputs": [
        {
          "output_type": "stream",
          "text": [
            "100%|██████████| 8442/8442 [09:28<00:00, 14.86it/s]\n"
          ],
          "name": "stderr"
        },
        {
          "output_type": "stream",
          "text": [
            "Terminado!\n",
            "Total de imágenes recuperadas correctamente: 6834.0/8442\n"
          ],
          "name": "stdout"
        }
      ]
    },
    {
      "cell_type": "code",
      "metadata": {
        "id": "3wnTyVd5VF_D",
        "colab_type": "code",
        "colab": {}
      },
      "source": [
        "# guardamos las imágenes (y yo os recomiendo que os lo guardéis en GDrive para evitar tener que repetir esto)\n",
        "np.save('images_train.npy', loaded_images_train)\n",
        "np.save('was_loaded_train.npy', was_loaded_train)"
      ],
      "execution_count": null,
      "outputs": []
    },
    {
      "cell_type": "code",
      "metadata": {
        "id": "qxrlXC0mDzMh",
        "colab_type": "code",
        "colab": {}
      },
      "source": [
        "# almacenamos las imagenes en nuestro drive\n",
        "!cp images_train.npy /content/drive/My\\ Drive/images_train.npy\n",
        "!cp was_loaded_train.npy /content/drive/My\\ Drive/was_loaded_train.npy"
      ],
      "execution_count": null,
      "outputs": []
    },
    {
      "cell_type": "code",
      "metadata": {
        "id": "PhgtsVsXMJrn",
        "colab_type": "code",
        "colab": {
          "base_uri": "https://localhost:8080/",
          "height": 51
        },
        "outputId": "3c898bac-6398-452e-e399-c2345c6bfedb"
      },
      "source": [
        "!ls -lah images_train.npy was_loaded_train.npy"
      ],
      "execution_count": null,
      "outputs": [
        {
          "output_type": "stream",
          "text": [
            "-rw-r--r-- 1 root root 1.2G Jun 26 21:54 images_train.npy\n",
            "-rw-r--r-- 1 root root  67K Jun 26 21:54 was_loaded_train.npy\n"
          ],
          "name": "stdout"
        }
      ]
    },
    {
      "cell_type": "code",
      "metadata": {
        "colab_type": "code",
        "id": "jiS4OHEuyjO9",
        "colab": {
          "base_uri": "https://localhost:8080/",
          "height": 102
        },
        "outputId": "ca53d0f0-807d-440c-9553-bddbec39c05b"
      },
      "source": [
        "df_nn.drop(['Thumbnail Url'], axis=1, inplace=True)"
      ],
      "execution_count": null,
      "outputs": [
        {
          "output_type": "stream",
          "text": [
            "/usr/local/lib/python3.6/dist-packages/pandas/core/frame.py:3997: SettingWithCopyWarning: \n",
            "A value is trying to be set on a copy of a slice from a DataFrame\n",
            "\n",
            "See the caveats in the documentation: https://pandas.pydata.org/pandas-docs/stable/user_guide/indexing.html#returning-a-view-versus-a-copy\n",
            "  errors=errors,\n"
          ],
          "name": "stderr"
        }
      ]
    },
    {
      "cell_type": "code",
      "metadata": {
        "id": "ZdiIJQ-AvoFQ",
        "colab_type": "code",
        "colab": {}
      },
      "source": [
        "# En train creamos un dict para usarlo después en validacion y test\n",
        "# ESTO ES EN TRAIN.CSV!\n",
        "mean_map = {}\n",
        "for c in df_nn:\n",
        "    mean = dfTrain.groupby(c)['Price'].mean()\n",
        "    dfTrain[c] = dfTrain[c].map(mean)    \n",
        "    mean_map[c] = mean"
      ],
      "execution_count": null,
      "outputs": []
    },
    {
      "cell_type": "code",
      "metadata": {
        "id": "MgG1rV_aYHbI",
        "colab_type": "code",
        "colab": {
          "base_uri": "https://localhost:8080/",
          "height": 510
        },
        "outputId": "9cea27fe-e83d-48ad-8b51-fc8f63eeac9e"
      },
      "source": [
        "# Esto solo sirve para mover price a la primera posición\n",
        "cols = dfTrain.columns.tolist()\n",
        "cols.insert(0, cols.pop(cols.index('Price')))\n",
        "dfTrain = dfTrain[cols]\n",
        "\n",
        "dfTrain.fillna(dfTrain.mean(), inplace=True)\n",
        "dfTrain.isnull().any()"
      ],
      "execution_count": null,
      "outputs": [
        {
          "output_type": "execute_result",
          "data": {
            "text/plain": [
              "Price                          False\n",
              "Host Response Time             False\n",
              "Host Response Rate             False\n",
              "Neighbourhood Cleansed         False\n",
              "Latitude                       False\n",
              "Longitude                      False\n",
              "Property Type                  False\n",
              "Room Type                      False\n",
              "Bathrooms                      False\n",
              "Bedrooms                       False\n",
              "Beds                           False\n",
              "Bed Type                       False\n",
              "Security Deposit               False\n",
              "Cleaning Fee                   False\n",
              "Guests Included                False\n",
              "Extra People                   False\n",
              "Minimum Nights                 False\n",
              "Maximum Nights                 False\n",
              "Availability 30                False\n",
              "Availability 365               False\n",
              "Number of Reviews              False\n",
              "Review Scores Accuracy         False\n",
              "Review Scores Cleanliness      False\n",
              "Review Scores Checkin          False\n",
              "Review Scores Communication    False\n",
              "Review Scores Location         False\n",
              "Review Scores Value            False\n",
              "Cancellation Policy            False\n",
              "dtype: bool"
            ]
          },
          "metadata": {
            "tags": []
          },
          "execution_count": 166
        }
      ]
    },
    {
      "cell_type": "markdown",
      "metadata": {
        "id": "7YW-cq3uAz_f",
        "colab_type": "text"
      },
      "source": [
        "### Preparamos las etiquetas"
      ]
    },
    {
      "cell_type": "code",
      "metadata": {
        "id": "g5fgkXDwMkAF",
        "colab_type": "code",
        "colab": {}
      },
      "source": [
        "# nos quedamos con los datos para los que hemos podido encontrar imágenes\n",
        "dfTrain_with_imgs = dfTrain[was_loaded_train == 1]"
      ],
      "execution_count": null,
      "outputs": []
    },
    {
      "cell_type": "code",
      "metadata": {
        "id": "55KOfqXW-Ick",
        "colab_type": "code",
        "colab": {}
      },
      "source": [
        "# seleccionamos la que será nuestra etiqueta\n",
        "y_train_reg = dfTrain_with_imgs['Price']"
      ],
      "execution_count": null,
      "outputs": []
    },
    {
      "cell_type": "code",
      "metadata": {
        "id": "1xZRyEffBPOT",
        "colab_type": "code",
        "colab": {}
      },
      "source": [
        "y_train_class = []\n",
        "for x in y_train_reg:\n",
        "    # barato\n",
        "    if x <= 50:\n",
        "        y_train_class.append(0)\n",
        "    elif x <=150:\n",
        "        y_train_class.append(1)\n",
        "    else:\n",
        "        y_train_class.append(2)"
      ],
      "execution_count": null,
      "outputs": []
    },
    {
      "cell_type": "code",
      "metadata": {
        "id": "ICEJaHKH6xKB",
        "colab_type": "code",
        "colab": {}
      },
      "source": [
        "from sklearn import preprocessing\n",
        "\n",
        "dataTrain = dfTrain_with_imgs.values\n",
        "\n",
        "#y_train = data[:,0:1]     # nos quedamos con la 1ª columna, price\n",
        "X_train = dataTrain[:,1:]      # nos quedamos con el resto\n",
        "\n",
        "feature_names = dfTrain_with_imgs.columns[1:]\n",
        "\n",
        "# Escalamos (con los datos de train)\n",
        "#scaler = preprocessing.StandardScaler().fit(X_train)\n",
        "#dfTrain_norm = scaler.transform(X_train)\n",
        "#XtrainScaled = scaler.transform(X_train)\n"
      ],
      "execution_count": null,
      "outputs": []
    },
    {
      "cell_type": "code",
      "metadata": {
        "id": "VglpCzCG25I5",
        "colab_type": "code",
        "colab": {}
      },
      "source": [
        "\n",
        "scaler = preprocessing.MinMaxScaler()\n",
        "scaler.fit(X_train)\n",
        "dfTrain_norm = scaler.transform(X_train)\n"
      ],
      "execution_count": null,
      "outputs": []
    },
    {
      "cell_type": "markdown",
      "metadata": {
        "id": "Ap3soqq--r3x",
        "colab_type": "text"
      },
      "source": [
        "Ahora voy hacer las mismas transformaciones para el dataset de validacion"
      ]
    },
    {
      "cell_type": "code",
      "metadata": {
        "id": "rJiBsefI-p2z",
        "colab_type": "code",
        "colab": {}
      },
      "source": [
        "dfVal = pd.read_csv('./val.csv', sep=';', decimal='.')\n",
        "dfVal_Madrid = dfVal[dfVal['City']!='Madrid']\n",
        "dfVal.drop(dfVal_Madrid.index, inplace = True)\n",
        "dfVal.drop(columnas_loc, axis=1, inplace=True)\n",
        "dfVal.drop(columnas_nulos, axis=1, inplace=True)\n",
        "dfVal.drop(columnas_cr, axis=1, inplace=True)\n",
        "dfVal.drop(['Neighbourhood Group Cleansed','Neighbourhood'], axis=1, inplace=True)\n",
        "dfVal[\"Host Response Time\"].fillna(dfVal[\"Host Response Time\"].mode()[0], inplace=True)\n",
        "dfVal.drop(['Host Since'], axis=1, inplace=True)\n",
        "images_paths_val = [[i, img_url] for i, img_url in enumerate(dfVal['Thumbnail Url'])]\n",
        "dfVal.drop(['Thumbnail Url'], axis=1, inplace=True)\n",
        "# en este array iremos incrustando las imágenes conforme las vayamos obteniendo\n",
        "loaded_images_val = np.zeros((len(images_paths_val), 224, 224, 3), dtype=np.uint8)\n",
        "\n",
        "# y en este array llevaremos un control de cuales se han cargado correctamente\n",
        "# y cuales no\n",
        "was_loaded_val = np.zeros(len(images_paths_val))"
      ],
      "execution_count": null,
      "outputs": []
    },
    {
      "cell_type": "code",
      "metadata": {
        "colab_type": "code",
        "id": "Bau7THhYCJ9-",
        "colab": {
          "base_uri": "https://localhost:8080/",
          "height": 68
        },
        "outputId": "c353efc8-f344-4231-8809-140ad0fbccbe"
      },
      "source": [
        "# creamos un pool de procesos que se irán descargando las imágenes\n",
        "# por defecto, se crearán tantos como CPUs tenga vuestra máquina\n",
        "with concurrent.futures.ProcessPoolExecutor() as executor:\n",
        "    # procesamos la lista de urls de imágenes paralelizandola con el pool de procesos\n",
        "    for (img, idx) in tqdm(executor.map(get_image, images_paths_val), total=len(images_paths_val)):\n",
        "        # metemos la imagen en nuestro array\n",
        "        if img is not None:\n",
        "            loaded_images_val[idx] = img\n",
        "            was_loaded_val[idx] = 1\n",
        "        else:\n",
        "            was_loaded_val[idx] = 0\n",
        "\n",
        "print('Terminado!')\n",
        "print(f'Total de imágenes recuperadas correctamente: {sum(was_loaded_val)}/{len(images_paths_val)}')"
      ],
      "execution_count": null,
      "outputs": [
        {
          "output_type": "stream",
          "text": [
            "100%|██████████| 2107/2107 [02:05<00:00, 16.79it/s]\n"
          ],
          "name": "stderr"
        },
        {
          "output_type": "stream",
          "text": [
            "Terminado!\n",
            "Total de imágenes recuperadas correctamente: 1702.0/2107\n"
          ],
          "name": "stdout"
        }
      ]
    },
    {
      "cell_type": "code",
      "metadata": {
        "colab_type": "code",
        "id": "KMxeFMhuCkOV",
        "colab": {}
      },
      "source": [
        "# guardamos las imágenes (y yo os recomiendo que os lo guardéis en GDrive para evitar tener que repetir esto)\n",
        "np.save('images_val.npy', loaded_images_val)\n",
        "np.save('was_loaded_val.npy', was_loaded_val)"
      ],
      "execution_count": null,
      "outputs": []
    },
    {
      "cell_type": "code",
      "metadata": {
        "colab_type": "code",
        "id": "bGRzuJGWC3Lb",
        "colab": {}
      },
      "source": [
        "# almacenamos las imagenes en nuestro drive\n",
        "!cp images_val.npy /content/drive/My\\ Drive/images_val.npy\n",
        "!cp was_loaded_val.npy /content/drive/My\\ Drive/was_loaded_val.npy"
      ],
      "execution_count": null,
      "outputs": []
    },
    {
      "cell_type": "code",
      "metadata": {
        "id": "yZguX5qdEY1C",
        "colab_type": "code",
        "colab": {}
      },
      "source": [
        "\n",
        "# Categorizamos con los datos de train!\n",
        "for c in df_nn:\n",
        "    dfVal[c] = dfVal[c].map(mean_map[c])"
      ],
      "execution_count": null,
      "outputs": []
    },
    {
      "cell_type": "code",
      "metadata": {
        "id": "bhqJ3k5aExK2",
        "colab_type": "code",
        "colab": {
          "base_uri": "https://localhost:8080/",
          "height": 510
        },
        "outputId": "aeb698aa-3732-4712-a768-4c4bbb1b575b"
      },
      "source": [
        "cols = dfVal.columns.tolist()\n",
        "cols.insert(0, cols.pop(cols.index('Price')))\n",
        "dfVal = dfVal[cols]\n",
        "\n",
        "dfVal.fillna(dfTrain.mean(), inplace=True)\n",
        "dfVal.isnull().any()"
      ],
      "execution_count": null,
      "outputs": [
        {
          "output_type": "execute_result",
          "data": {
            "text/plain": [
              "Price                          False\n",
              "Host Response Time             False\n",
              "Host Response Rate             False\n",
              "Neighbourhood Cleansed         False\n",
              "Latitude                       False\n",
              "Longitude                      False\n",
              "Property Type                  False\n",
              "Room Type                      False\n",
              "Bathrooms                      False\n",
              "Bedrooms                       False\n",
              "Beds                           False\n",
              "Bed Type                       False\n",
              "Security Deposit               False\n",
              "Cleaning Fee                   False\n",
              "Guests Included                False\n",
              "Extra People                   False\n",
              "Minimum Nights                 False\n",
              "Maximum Nights                 False\n",
              "Availability 30                False\n",
              "Availability 365               False\n",
              "Number of Reviews              False\n",
              "Review Scores Accuracy         False\n",
              "Review Scores Cleanliness      False\n",
              "Review Scores Checkin          False\n",
              "Review Scores Communication    False\n",
              "Review Scores Location         False\n",
              "Review Scores Value            False\n",
              "Cancellation Policy            False\n",
              "dtype: bool"
            ]
          },
          "metadata": {
            "tags": []
          },
          "execution_count": 177
        }
      ]
    },
    {
      "cell_type": "code",
      "metadata": {
        "id": "cMaBc2JtF3dG",
        "colab_type": "code",
        "colab": {}
      },
      "source": [
        "# nos quedamos con los datos para los que hemos podido encontrar imágenes\n",
        "dfVal_with_imgs = dfVal[was_loaded_val == 1]"
      ],
      "execution_count": null,
      "outputs": []
    },
    {
      "cell_type": "code",
      "metadata": {
        "id": "yi5pbn28GEHr",
        "colab_type": "code",
        "colab": {}
      },
      "source": [
        "# seleccionamos la que será nuestra etiqueta\n",
        "y_val_reg = dfVal_with_imgs['Price']"
      ],
      "execution_count": null,
      "outputs": []
    },
    {
      "cell_type": "code",
      "metadata": {
        "id": "3-V5lW_JGRg0",
        "colab_type": "code",
        "colab": {}
      },
      "source": [
        "y_val_class = []\n",
        "for x in y_val_reg:\n",
        "    # barato\n",
        "    if x <= 50:\n",
        "        y_val_class.append(0)\n",
        "    elif x <=150:\n",
        "        y_val_class.append(1)\n",
        "    else:\n",
        "        y_val_class.append(2)"
      ],
      "execution_count": null,
      "outputs": []
    },
    {
      "cell_type": "code",
      "metadata": {
        "id": "-_R6uqZTFOQE",
        "colab_type": "code",
        "colab": {}
      },
      "source": [
        "data_val = dfVal_with_imgs.values\n",
        "\n",
        "y_val = data_val[:,0:1]     # nos quedamos con la 1ª columna, price\n",
        "X_val = data_val[:,1:]      # nos quedamos con el resto\n",
        "\n",
        "feature_names_val = dfVal_with_imgs.columns[1:]\n",
        "\n"
      ],
      "execution_count": null,
      "outputs": []
    },
    {
      "cell_type": "code",
      "metadata": {
        "id": "PHL8MEtBSd5U",
        "colab_type": "code",
        "colab": {}
      },
      "source": [
        "# recordad que esta normalización/escalado la realizo con el scaler anterior, basado en los datos de training!\n",
        "dfVal_norm = scaler.transform(X_val) "
      ],
      "execution_count": null,
      "outputs": []
    },
    {
      "cell_type": "code",
      "metadata": {
        "id": "V92FZWfi9al3",
        "colab_type": "code",
        "colab": {}
      },
      "source": [
        "# convertimos las etiquetas a onehot\n",
        "from keras.utils import to_categorical\n",
        "y_class_train_onehot = to_categorical(y_train_class)\n",
        "y_class_val_onehot = to_categorical(y_val_class)\n"
      ],
      "execution_count": null,
      "outputs": []
    },
    {
      "cell_type": "code",
      "metadata": {
        "colab_type": "code",
        "id": "toEocaUrYuAi",
        "colab": {}
      },
      "source": [
        "dfTest = pd.read_csv('./test.csv', sep=';', decimal='.')\n",
        "dfTest_Madrid = dfTest[dfTest['City']!='Madrid']\n",
        "dfTest.drop(dfTest_Madrid.index, inplace = True)\n",
        "dfTest.drop(columnas_loc, axis=1, inplace=True)\n",
        "dfTest.drop(columnas_nulos, axis=1, inplace=True)\n",
        "dfTest.drop(columnas_cr, axis=1, inplace=True)\n",
        "dfTest.drop(['Neighbourhood Group Cleansed','Neighbourhood'], axis=1, inplace=True)\n",
        "dfTest[\"Host Response Time\"].fillna(dfTest[\"Host Response Time\"].mode()[0], inplace=True)\n",
        "dfTest.drop(['Host Since'], axis=1, inplace=True)\n"
      ],
      "execution_count": null,
      "outputs": []
    },
    {
      "cell_type": "code",
      "metadata": {
        "id": "4ugEopycZ40d",
        "colab_type": "code",
        "colab": {}
      },
      "source": [
        "images_paths_test = [[i, img_url] for i, img_url in enumerate(dfTest['Thumbnail Url'])]\n",
        "dfTest.drop(['Thumbnail Url'], axis=1, inplace=True)\n",
        "# en este array iremos incrustando las imágenes conforme las vayamos obteniendo\n",
        "loaded_images_test = np.zeros((len(images_paths_test), 224, 224, 3), dtype=np.uint8)\n",
        "\n",
        "# y en este array llevaremos un control de cuales se han cargado correctamente\n",
        "# y cuales no\n",
        "was_loaded_test = np.zeros(len(images_paths_test))"
      ],
      "execution_count": null,
      "outputs": []
    },
    {
      "cell_type": "code",
      "metadata": {
        "id": "7-TN8nkkZYsf",
        "colab_type": "code",
        "colab": {
          "base_uri": "https://localhost:8080/",
          "height": 68
        },
        "outputId": "c9b7c07e-474f-4a00-ddc1-34e3c44f559d"
      },
      "source": [
        "# creamos un pool de procesos que se irán descargando las imágenes\n",
        "# por defecto, se crearán tantos como CPUs tenga vuestra máquina\n",
        "with concurrent.futures.ProcessPoolExecutor() as executor:\n",
        "    # procesamos la lista de urls de imágenes paralelizandola con el pool de procesos\n",
        "    for (img, idx) in tqdm(executor.map(get_image, images_paths_test), total=len(images_paths_test)):\n",
        "        # metemos la imagen en nuestro array\n",
        "        if img is not None:\n",
        "            loaded_images_test[idx] = img\n",
        "            was_loaded_test[idx] = 1\n",
        "        else:\n",
        "            was_loaded_test[idx] = 0\n",
        "\n",
        "print('Terminado!')\n",
        "print(f'Total de imágenes recuperadas correctamente: {sum(was_loaded_test)}/{len(images_paths_test)}')"
      ],
      "execution_count": null,
      "outputs": [
        {
          "output_type": "stream",
          "text": [
            "100%|██████████| 2651/2651 [02:36<00:00, 16.98it/s]"
          ],
          "name": "stderr"
        },
        {
          "output_type": "stream",
          "text": [
            "Terminado!\n",
            "Total de imágenes recuperadas correctamente: 2172.0/2651\n"
          ],
          "name": "stdout"
        },
        {
          "output_type": "stream",
          "text": [
            "\n"
          ],
          "name": "stderr"
        }
      ]
    },
    {
      "cell_type": "code",
      "metadata": {
        "id": "9PF1190zduP_",
        "colab_type": "code",
        "colab": {}
      },
      "source": [
        "# guardamos las imágenes (y yo os recomiendo que os lo guardéis en GDrive para evitar tener que repetir esto)\n",
        "np.save('images_test.npy', loaded_images_test)\n",
        "np.save('was_loaded_test.npy', was_loaded_test)"
      ],
      "execution_count": null,
      "outputs": []
    },
    {
      "cell_type": "code",
      "metadata": {
        "id": "MbrRF-jpd9kn",
        "colab_type": "code",
        "colab": {}
      },
      "source": [
        "# almacenamos las imagenes en nuestro drive\n",
        "!cp images_test.npy /content/drive/My\\ Drive/images_test.npy\n",
        "!cp was_loaded_test.npy /content/drive/My\\ Drive/was_loaded_test.npy"
      ],
      "execution_count": null,
      "outputs": []
    },
    {
      "cell_type": "code",
      "metadata": {
        "id": "7-WG-DUueQpO",
        "colab_type": "code",
        "colab": {}
      },
      "source": [
        "# Categorizamos con los datos de train!\n",
        "for c in df_nn:\n",
        "    dfTest[c] = dfTest[c].map(mean_map[c])"
      ],
      "execution_count": null,
      "outputs": []
    },
    {
      "cell_type": "code",
      "metadata": {
        "colab_type": "code",
        "id": "1BWtKuvsefvC",
        "colab": {
          "base_uri": "https://localhost:8080/",
          "height": 510
        },
        "outputId": "97f3c033-ce67-4924-a15c-62bcc003cba1"
      },
      "source": [
        "cols = dfTest.columns.tolist()\n",
        "cols.insert(0, cols.pop(cols.index('Price')))\n",
        "dfTest = dfTest[cols]\n",
        "\n",
        "dfTest.fillna(dfTrain.mean(), inplace=True)\n",
        "dfTest.isnull().any()"
      ],
      "execution_count": null,
      "outputs": [
        {
          "output_type": "execute_result",
          "data": {
            "text/plain": [
              "Price                          False\n",
              "Host Response Time             False\n",
              "Host Response Rate             False\n",
              "Neighbourhood Cleansed         False\n",
              "Latitude                       False\n",
              "Longitude                      False\n",
              "Property Type                  False\n",
              "Room Type                      False\n",
              "Bathrooms                      False\n",
              "Bedrooms                       False\n",
              "Beds                           False\n",
              "Bed Type                       False\n",
              "Security Deposit               False\n",
              "Cleaning Fee                   False\n",
              "Guests Included                False\n",
              "Extra People                   False\n",
              "Minimum Nights                 False\n",
              "Maximum Nights                 False\n",
              "Availability 30                False\n",
              "Availability 365               False\n",
              "Number of Reviews              False\n",
              "Review Scores Accuracy         False\n",
              "Review Scores Cleanliness      False\n",
              "Review Scores Checkin          False\n",
              "Review Scores Communication    False\n",
              "Review Scores Location         False\n",
              "Review Scores Value            False\n",
              "Cancellation Policy            False\n",
              "dtype: bool"
            ]
          },
          "metadata": {
            "tags": []
          },
          "execution_count": 190
        }
      ]
    },
    {
      "cell_type": "code",
      "metadata": {
        "id": "_Uj9D5Xie_6m",
        "colab_type": "code",
        "colab": {}
      },
      "source": [
        "# nos quedamos con los datos para los que hemos podido encontrar imágenes\n",
        "dfTest_with_imgs = dfTest[was_loaded_test == 1]"
      ],
      "execution_count": null,
      "outputs": []
    },
    {
      "cell_type": "code",
      "metadata": {
        "id": "CAV8VU8kfNuC",
        "colab_type": "code",
        "colab": {}
      },
      "source": [
        "# seleccionamos la que será nuestra etiqueta\n",
        "y_test_reg = dfTest_with_imgs['Price']"
      ],
      "execution_count": null,
      "outputs": []
    },
    {
      "cell_type": "code",
      "metadata": {
        "id": "nbaVMRJgfZqO",
        "colab_type": "code",
        "colab": {}
      },
      "source": [
        "y_test_class = []\n",
        "for x in y_test_reg:\n",
        "    # barato\n",
        "    if x <= 50:\n",
        "        y_test_class.append(0)\n",
        "    elif x <=150:\n",
        "        y_test_class.append(1)\n",
        "    else:\n",
        "        y_test_class.append(2)"
      ],
      "execution_count": null,
      "outputs": []
    },
    {
      "cell_type": "code",
      "metadata": {
        "colab_type": "code",
        "id": "5kj2pQAZpqBy",
        "colab": {}
      },
      "source": [
        "data_test = dfTest_with_imgs.values\n",
        "\n",
        "y_test = data_test[:,0:1]     # nos quedamos con la 1ª columna, price\n",
        "X_test = data_test[:,1:]      # nos quedamos con el resto\n",
        "\n",
        "feature_names_test = dfTest_with_imgs.columns[1:]\n",
        "\n"
      ],
      "execution_count": null,
      "outputs": []
    },
    {
      "cell_type": "code",
      "metadata": {
        "id": "b3vpOCwMp8kp",
        "colab_type": "code",
        "colab": {}
      },
      "source": [
        "dfTest_norm = scaler.transform(X_test) "
      ],
      "execution_count": null,
      "outputs": []
    },
    {
      "cell_type": "code",
      "metadata": {
        "id": "hD26r_OsqJ1P",
        "colab_type": "code",
        "colab": {}
      },
      "source": [
        "y_class_test_onehot = to_categorical(y_test_class)"
      ],
      "execution_count": null,
      "outputs": []
    },
    {
      "cell_type": "markdown",
      "metadata": {
        "id": "4QkahK-lH7Pw",
        "colab_type": "text"
      },
      "source": [
        "**Imagenes**"
      ]
    },
    {
      "cell_type": "markdown",
      "metadata": {
        "id": "yA0zEiP2X_Nm",
        "colab_type": "text"
      },
      "source": [
        "El dataset de imagenes de train"
      ]
    },
    {
      "cell_type": "code",
      "metadata": {
        "id": "d-1DcUJGV9KO",
        "colab_type": "code",
        "colab": {
          "base_uri": "https://localhost:8080/",
          "height": 34
        },
        "outputId": "f1485d27-06d1-49eb-b4b6-6cb2baed3268"
      },
      "source": [
        "\n",
        "print(loaded_images_train.shape)"
      ],
      "execution_count": null,
      "outputs": [
        {
          "output_type": "stream",
          "text": [
            "(8442, 224, 224, 3)\n"
          ],
          "name": "stdout"
        }
      ]
    },
    {
      "cell_type": "code",
      "metadata": {
        "id": "I8ncm-_tr-Rb",
        "colab_type": "code",
        "colab": {}
      },
      "source": [
        "# importamos las librerías necesarias\n",
        "import matplotlib.pyplot as plt\n",
        "%matplotlib inline\n",
        "from keras.preprocessing.image import ImageDataGenerator\n",
        "from keras.models import Sequential\n",
        "from keras.layers import Dense, Dropout, Activation, Flatten\n",
        "from keras.layers import Conv2D, MaxPooling2D\n",
        "from keras.optimizers import rmsprop\n",
        "from keras.utils import to_categorical\n",
        "from sklearn.model_selection import train_test_split\n",
        "from sklearn.metrics import classification_report, confusion_matrix\n",
        "import seaborn as sn\n",
        "import pandas as pd\n",
        "import numpy as np\n",
        "import os\n",
        "from random import randint\n",
        "from keras.optimizers import Adam"
      ],
      "execution_count": null,
      "outputs": []
    },
    {
      "cell_type": "markdown",
      "metadata": {
        "id": "d0AyEsbWUFGU",
        "colab_type": "text"
      },
      "source": [
        "Creamos una vgg16 y seguidamente de una reducción mediante la media avarage pooling. Esto permite en primer lugar extrer la características más importantes de la imagen y posterormente en el sigueinte nivel de profundidad suavizar la extracción para no perder información relevante."
      ]
    },
    {
      "cell_type": "code",
      "metadata": {
        "id": "cZB3F-nAtA4M",
        "colab_type": "code",
        "colab": {
          "base_uri": "https://localhost:8080/",
          "height": 833
        },
        "outputId": "b09f8d8c-15c8-459a-b616-e439e3fba496"
      },
      "source": [
        "\n",
        "from keras.models import Model\n",
        "from keras.layers import GlobalAveragePooling2D\n",
        "from keras.applications.vgg16 import VGG16\n",
        "from keras.preprocessing import image\n",
        "from keras.applications.vgg16 import preprocess_input\n",
        "import numpy as np\n",
        "\n",
        "base_model = VGG16(weights='imagenet', include_top=False)\n",
        "x = base_model.output\n",
        "x = GlobalAveragePooling2D()(x)\n",
        "    \n",
        "model = Model(inputs=base_model.input, outputs=x)\n",
        "model.summary()\n"
      ],
      "execution_count": null,
      "outputs": [
        {
          "output_type": "stream",
          "text": [
            "Model: \"model_2\"\n",
            "_________________________________________________________________\n",
            "Layer (type)                 Output Shape              Param #   \n",
            "=================================================================\n",
            "input_2 (InputLayer)         (None, None, None, 3)     0         \n",
            "_________________________________________________________________\n",
            "block1_conv1 (Conv2D)        (None, None, None, 64)    1792      \n",
            "_________________________________________________________________\n",
            "block1_conv2 (Conv2D)        (None, None, None, 64)    36928     \n",
            "_________________________________________________________________\n",
            "block1_pool (MaxPooling2D)   (None, None, None, 64)    0         \n",
            "_________________________________________________________________\n",
            "block2_conv1 (Conv2D)        (None, None, None, 128)   73856     \n",
            "_________________________________________________________________\n",
            "block2_conv2 (Conv2D)        (None, None, None, 128)   147584    \n",
            "_________________________________________________________________\n",
            "block2_pool (MaxPooling2D)   (None, None, None, 128)   0         \n",
            "_________________________________________________________________\n",
            "block3_conv1 (Conv2D)        (None, None, None, 256)   295168    \n",
            "_________________________________________________________________\n",
            "block3_conv2 (Conv2D)        (None, None, None, 256)   590080    \n",
            "_________________________________________________________________\n",
            "block3_conv3 (Conv2D)        (None, None, None, 256)   590080    \n",
            "_________________________________________________________________\n",
            "block3_pool (MaxPooling2D)   (None, None, None, 256)   0         \n",
            "_________________________________________________________________\n",
            "block4_conv1 (Conv2D)        (None, None, None, 512)   1180160   \n",
            "_________________________________________________________________\n",
            "block4_conv2 (Conv2D)        (None, None, None, 512)   2359808   \n",
            "_________________________________________________________________\n",
            "block4_conv3 (Conv2D)        (None, None, None, 512)   2359808   \n",
            "_________________________________________________________________\n",
            "block4_pool (MaxPooling2D)   (None, None, None, 512)   0         \n",
            "_________________________________________________________________\n",
            "block5_conv1 (Conv2D)        (None, None, None, 512)   2359808   \n",
            "_________________________________________________________________\n",
            "block5_conv2 (Conv2D)        (None, None, None, 512)   2359808   \n",
            "_________________________________________________________________\n",
            "block5_conv3 (Conv2D)        (None, None, None, 512)   2359808   \n",
            "_________________________________________________________________\n",
            "block5_pool (MaxPooling2D)   (None, None, None, 512)   0         \n",
            "_________________________________________________________________\n",
            "global_average_pooling2d_2 ( (None, 512)               0         \n",
            "=================================================================\n",
            "Total params: 14,714,688\n",
            "Trainable params: 14,714,688\n",
            "Non-trainable params: 0\n",
            "_________________________________________________________________\n"
          ],
          "name": "stdout"
        }
      ]
    },
    {
      "cell_type": "markdown",
      "metadata": {
        "id": "UuGBDK75YYTh",
        "colab_type": "text"
      },
      "source": [
        "Aqui cogemos el dataset con los registros que tengan imagen"
      ]
    },
    {
      "cell_type": "code",
      "metadata": {
        "id": "_vpC7bONc8gB",
        "colab_type": "code",
        "colab": {}
      },
      "source": [
        "imgs_train = loaded_images_train[was_loaded_train == 1]\n"
      ],
      "execution_count": null,
      "outputs": []
    },
    {
      "cell_type": "code",
      "metadata": {
        "id": "VMfcGatQeNNj",
        "colab_type": "code",
        "colab": {
          "base_uri": "https://localhost:8080/",
          "height": 34
        },
        "outputId": "9fe04639-cc3d-4d9d-bc3d-e88a64ea94da"
      },
      "source": [
        "imgs_train.shape[0]"
      ],
      "execution_count": null,
      "outputs": [
        {
          "output_type": "execute_result",
          "data": {
            "text/plain": [
              "6834"
            ]
          },
          "metadata": {
            "tags": []
          },
          "execution_count": 201
        }
      ]
    },
    {
      "cell_type": "markdown",
      "metadata": {
        "id": "b1YF2P1uYt6d",
        "colab_type": "text"
      },
      "source": [
        "Vamos a extraer las 512  caracteríticas de cada imagen utilizando el modelo creado anteriormente, esto lo vamos acer para todas las imágenes"
      ]
    },
    {
      "cell_type": "code",
      "metadata": {
        "id": "Tfo-VD1Xd3tC",
        "colab_type": "code",
        "colab": {
          "base_uri": "https://localhost:8080/",
          "height": 34
        },
        "outputId": "810fb048-9096-42e8-cda4-64df3e09afac"
      },
      "source": [
        "from tqdm import tqdm  # para  mostrar el progreso\n",
        "# vamos a procesarlas y a extraer el vector de 512 características\n",
        "caract_train = np.zeros((imgs_train.shape[0], 512))\n",
        "\n",
        "for i in tqdm(range(imgs_train.shape[0])):\n",
        "    img = imgs_train[i]\n",
        "    x = image.img_to_array(img)\n",
        "    x = np.expand_dims(x, axis=0)\n",
        "    x = preprocess_input(x)\n",
        "\n",
        "    features = model.predict(x)\n",
        "    caract_train[i] = features[0]"
      ],
      "execution_count": null,
      "outputs": [
        {
          "output_type": "stream",
          "text": [
            "100%|██████████| 6834/6834 [00:47<00:00, 144.25it/s]\n"
          ],
          "name": "stderr"
        }
      ]
    },
    {
      "cell_type": "code",
      "metadata": {
        "id": "Q0HfOB6JfZgu",
        "colab_type": "code",
        "colab": {
          "base_uri": "https://localhost:8080/",
          "height": 34
        },
        "outputId": "54f1a117-193a-4dae-fbcc-75aed1e7649f"
      },
      "source": [
        "caract_train.shape"
      ],
      "execution_count": null,
      "outputs": [
        {
          "output_type": "execute_result",
          "data": {
            "text/plain": [
              "(6834, 512)"
            ]
          },
          "metadata": {
            "tags": []
          },
          "execution_count": 203
        }
      ]
    },
    {
      "cell_type": "code",
      "metadata": {
        "id": "rVpn1YPHdUtn",
        "colab_type": "code",
        "colab": {}
      },
      "source": [
        "imgs_val = loaded_images_val[was_loaded_val == 1]\n"
      ],
      "execution_count": null,
      "outputs": []
    },
    {
      "cell_type": "code",
      "metadata": {
        "id": "CBiGK7P8jeSk",
        "colab_type": "code",
        "colab": {
          "base_uri": "https://localhost:8080/",
          "height": 34
        },
        "outputId": "2a118499-e221-4714-dcee-b9e91f86b837"
      },
      "source": [
        "from tqdm import tqdm  # para  mostrar el progreso\n",
        "# vamos a procesarlas y a extraer el vector de 512 características\n",
        "caract_val = np.zeros((imgs_val.shape[0], 512))\n",
        "\n",
        "for i in tqdm(range(imgs_val.shape[0])):\n",
        "    img = imgs_val[i]\n",
        "    x = image.img_to_array(img)\n",
        "    x = np.expand_dims(x, axis=0)\n",
        "    x = preprocess_input(x)\n",
        "\n",
        "    features = model.predict(x)\n",
        "    caract_val[i] = features[0]"
      ],
      "execution_count": null,
      "outputs": [
        {
          "output_type": "stream",
          "text": [
            "100%|██████████| 1702/1702 [00:11<00:00, 145.90it/s]\n"
          ],
          "name": "stderr"
        }
      ]
    },
    {
      "cell_type": "code",
      "metadata": {
        "id": "Cxjde22URR-c",
        "colab_type": "code",
        "colab": {}
      },
      "source": [
        "imgs_test = loaded_images_test[was_loaded_test == 1]"
      ],
      "execution_count": null,
      "outputs": []
    },
    {
      "cell_type": "code",
      "metadata": {
        "id": "gcB2x5uSR5eC",
        "colab_type": "code",
        "colab": {
          "base_uri": "https://localhost:8080/",
          "height": 34
        },
        "outputId": "596baeb2-856b-454d-fc54-e5235b9d7f2b"
      },
      "source": [
        "imgs_test.shape"
      ],
      "execution_count": null,
      "outputs": [
        {
          "output_type": "execute_result",
          "data": {
            "text/plain": [
              "(2172, 224, 224, 3)"
            ]
          },
          "metadata": {
            "tags": []
          },
          "execution_count": 207
        }
      ]
    },
    {
      "cell_type": "code",
      "metadata": {
        "id": "P6dwBDMfRc8q",
        "colab_type": "code",
        "colab": {
          "base_uri": "https://localhost:8080/",
          "height": 34
        },
        "outputId": "9b099404-e281-4ff5-afa7-3bb83520bde3"
      },
      "source": [
        "from tqdm import tqdm  # para  mostrar el progreso\n",
        "# vamos a procesarlas y a extraer el vector de 512 características\n",
        "caract_test = np.zeros((imgs_test.shape[0], 512))\n",
        "\n",
        "for i in tqdm(range(imgs_test.shape[0])):\n",
        "    img = imgs_test[i]\n",
        "    x = image.img_to_array(img)\n",
        "    x = np.expand_dims(x, axis=0)\n",
        "    x = preprocess_input(x)\n",
        "\n",
        "    features = model.predict(x)\n",
        "    caract_test[i] = features[0]"
      ],
      "execution_count": null,
      "outputs": [
        {
          "output_type": "stream",
          "text": [
            "100%|██████████| 2172/2172 [00:14<00:00, 145.23it/s]\n"
          ],
          "name": "stderr"
        }
      ]
    },
    {
      "cell_type": "code",
      "metadata": {
        "id": "92uacADffp5D",
        "colab_type": "code",
        "colab": {}
      },
      "source": [
        "# Vamos a normalizar entre 0 y 1\n",
        "from sklearn import preprocessing\n",
        "min_max_scaler = preprocessing.MinMaxScaler()\n",
        "data_train_norm = min_max_scaler.fit_transform(caract_train)\n",
        "data_val_norm = min_max_scaler.fit_transform(caract_val)\n",
        "# en este caso no es necesario normalizar las etiquetas, ya que son valores de 0 a N_Clases. En regresión si los normalizaremos"
      ],
      "execution_count": null,
      "outputs": []
    },
    {
      "cell_type": "code",
      "metadata": {
        "id": "6WsVUzy2nqR1",
        "colab_type": "code",
        "colab": {
          "base_uri": "https://localhost:8080/",
          "height": 238
        },
        "outputId": "e7eaaea4-c48b-4443-eeb3-0cbb3acf311e"
      },
      "source": [
        "data_val_norm\n"
      ],
      "execution_count": null,
      "outputs": [
        {
          "output_type": "execute_result",
          "data": {
            "text/plain": [
              "array([[1.69948219e-02, 0.00000000e+00, 4.28123877e-02, ...,\n",
              "        4.25822573e-03, 6.77017356e-02, 7.60819505e-02],\n",
              "       [2.23108076e-02, 2.36419531e-02, 0.00000000e+00, ...,\n",
              "        1.03722434e-03, 1.29323493e-01, 1.59117614e-02],\n",
              "       [6.86584080e-02, 0.00000000e+00, 0.00000000e+00, ...,\n",
              "        2.43691500e-02, 1.37812084e-01, 6.48240352e-02],\n",
              "       ...,\n",
              "       [4.41665881e-01, 8.88915025e-05, 9.56346651e-02, ...,\n",
              "        1.31405747e-01, 4.27354622e-01, 1.14518975e-01],\n",
              "       [2.71019223e-01, 6.70654677e-03, 6.42915667e-02, ...,\n",
              "        0.00000000e+00, 8.27260465e-02, 6.02718497e-02],\n",
              "       [3.97595447e-02, 0.00000000e+00, 3.21654209e-03, ...,\n",
              "        0.00000000e+00, 3.69715510e-02, 0.00000000e+00]])"
            ]
          },
          "metadata": {
            "tags": []
          },
          "execution_count": 210
        }
      ]
    },
    {
      "cell_type": "code",
      "metadata": {
        "id": "PoXHeWaYf4J7",
        "colab_type": "code",
        "colab": {
          "base_uri": "https://localhost:8080/",
          "height": 1000
        },
        "outputId": "63007fec-0f93-4537-93f8-930e54f97e65"
      },
      "source": [
        "# Creamos un modelo para hacer primero clasificación con y_class\n",
        "from keras.models import Sequential\n",
        "from keras.layers import Dense\n",
        "\n",
        "\n",
        "model0 = Sequential()\n",
        "model0.add(Dense(64, input_shape=(caract_train.shape[1],), activation='relu'))\n",
        "model0.add(Dense(32, activation='relu'))\n",
        "model0.add(Dense(3, activation='softmax'))\n",
        "\n",
        "# sparse_categorical_crossentropy es exactamente igual que categorical_crossentropy,\n",
        "# solo que admite enteros en vez de onehot a la entrada\n",
        "model0.compile(loss='categorical_crossentropy', optimizer='adam', metrics=['accuracy'])\n",
        "\n",
        "h=model0.fit(data_train_norm, y_class_train_onehot,\n",
        "          validation_data=(data_val_norm, y_class_val_onehot),\n",
        "          epochs=50,\n",
        "          batch_size=8)\n",
        "\n",
        "#loss, acc = model.evaluate(X_test, y_test)\n",
        "#print(f'Loss={loss}, Acc={acc}')"
      ],
      "execution_count": null,
      "outputs": [
        {
          "output_type": "stream",
          "text": [
            "Train on 6834 samples, validate on 1702 samples\n",
            "Epoch 1/50\n",
            "6834/6834 [==============================] - 3s 500us/step - loss: 0.7355 - accuracy: 0.6534 - val_loss: 0.6958 - val_accuracy: 0.6710\n",
            "Epoch 2/50\n",
            "6834/6834 [==============================] - 3s 450us/step - loss: 0.6827 - accuracy: 0.6860 - val_loss: 0.7049 - val_accuracy: 0.6792\n",
            "Epoch 3/50\n",
            "6834/6834 [==============================] - 3s 458us/step - loss: 0.6595 - accuracy: 0.7041 - val_loss: 0.7192 - val_accuracy: 0.6727\n",
            "Epoch 4/50\n",
            "6834/6834 [==============================] - 3s 454us/step - loss: 0.6391 - accuracy: 0.7132 - val_loss: 0.7380 - val_accuracy: 0.6598\n",
            "Epoch 5/50\n",
            "6834/6834 [==============================] - 3s 459us/step - loss: 0.6177 - accuracy: 0.7261 - val_loss: 0.7448 - val_accuracy: 0.6722\n",
            "Epoch 6/50\n",
            "6834/6834 [==============================] - 3s 459us/step - loss: 0.5912 - accuracy: 0.7376 - val_loss: 0.7528 - val_accuracy: 0.6727\n",
            "Epoch 7/50\n",
            "6834/6834 [==============================] - 3s 443us/step - loss: 0.5564 - accuracy: 0.7552 - val_loss: 0.8203 - val_accuracy: 0.6592\n",
            "Epoch 8/50\n",
            "6834/6834 [==============================] - 3s 430us/step - loss: 0.5228 - accuracy: 0.7730 - val_loss: 0.8716 - val_accuracy: 0.6722\n",
            "Epoch 9/50\n",
            "6834/6834 [==============================] - 3s 457us/step - loss: 0.4750 - accuracy: 0.7959 - val_loss: 1.0176 - val_accuracy: 0.6598\n",
            "Epoch 10/50\n",
            "6834/6834 [==============================] - 3s 457us/step - loss: 0.4292 - accuracy: 0.8219 - val_loss: 1.0667 - val_accuracy: 0.6293\n",
            "Epoch 11/50\n",
            "6834/6834 [==============================] - 3s 455us/step - loss: 0.3760 - accuracy: 0.8468 - val_loss: 1.1649 - val_accuracy: 0.6281\n",
            "Epoch 12/50\n",
            "6834/6834 [==============================] - 3s 458us/step - loss: 0.3286 - accuracy: 0.8705 - val_loss: 1.2576 - val_accuracy: 0.6504\n",
            "Epoch 13/50\n",
            "6834/6834 [==============================] - 3s 438us/step - loss: 0.2786 - accuracy: 0.8927 - val_loss: 1.5500 - val_accuracy: 0.6357\n",
            "Epoch 14/50\n",
            "6834/6834 [==============================] - 3s 431us/step - loss: 0.2406 - accuracy: 0.9110 - val_loss: 1.7016 - val_accuracy: 0.6287\n",
            "Epoch 15/50\n",
            "6834/6834 [==============================] - 3s 442us/step - loss: 0.1980 - accuracy: 0.9270 - val_loss: 1.7421 - val_accuracy: 0.6328\n",
            "Epoch 16/50\n",
            "6834/6834 [==============================] - 3s 459us/step - loss: 0.1701 - accuracy: 0.9366 - val_loss: 2.1670 - val_accuracy: 0.6310\n",
            "Epoch 17/50\n",
            "6834/6834 [==============================] - 3s 458us/step - loss: 0.1384 - accuracy: 0.9498 - val_loss: 2.3227 - val_accuracy: 0.6228\n",
            "Epoch 18/50\n",
            "6834/6834 [==============================] - 3s 463us/step - loss: 0.1267 - accuracy: 0.9554 - val_loss: 2.3100 - val_accuracy: 0.6134\n",
            "Epoch 19/50\n",
            "6834/6834 [==============================] - 3s 458us/step - loss: 0.1080 - accuracy: 0.9617 - val_loss: 2.4075 - val_accuracy: 0.6246\n",
            "Epoch 20/50\n",
            "6834/6834 [==============================] - 3s 453us/step - loss: 0.0886 - accuracy: 0.9742 - val_loss: 2.6020 - val_accuracy: 0.6146\n",
            "Epoch 21/50\n",
            "6834/6834 [==============================] - 3s 457us/step - loss: 0.0922 - accuracy: 0.9690 - val_loss: 2.6723 - val_accuracy: 0.6110\n",
            "Epoch 22/50\n",
            "6834/6834 [==============================] - 3s 456us/step - loss: 0.0839 - accuracy: 0.9721 - val_loss: 2.9347 - val_accuracy: 0.6246\n",
            "Epoch 23/50\n",
            "6834/6834 [==============================] - 3s 456us/step - loss: 0.0621 - accuracy: 0.9795 - val_loss: 2.9793 - val_accuracy: 0.6034\n",
            "Epoch 24/50\n",
            "6834/6834 [==============================] - 3s 454us/step - loss: 0.0632 - accuracy: 0.9811 - val_loss: 3.0879 - val_accuracy: 0.6122\n",
            "Epoch 25/50\n",
            "6834/6834 [==============================] - 3s 446us/step - loss: 0.0722 - accuracy: 0.9770 - val_loss: 3.2734 - val_accuracy: 0.6134\n",
            "Epoch 26/50\n",
            "6834/6834 [==============================] - 3s 448us/step - loss: 0.0526 - accuracy: 0.9855 - val_loss: 3.3467 - val_accuracy: 0.6110\n",
            "Epoch 27/50\n",
            "6834/6834 [==============================] - 3s 455us/step - loss: 0.0566 - accuracy: 0.9824 - val_loss: 3.4216 - val_accuracy: 0.6110\n",
            "Epoch 28/50\n",
            "6834/6834 [==============================] - 3s 450us/step - loss: 0.0481 - accuracy: 0.9857 - val_loss: 4.1962 - val_accuracy: 0.6246\n",
            "Epoch 29/50\n",
            "6834/6834 [==============================] - 3s 455us/step - loss: 0.0559 - accuracy: 0.9802 - val_loss: 3.8862 - val_accuracy: 0.6369\n",
            "Epoch 30/50\n",
            "6834/6834 [==============================] - 3s 439us/step - loss: 0.0626 - accuracy: 0.9763 - val_loss: 3.9441 - val_accuracy: 0.6351\n",
            "Epoch 31/50\n",
            "6834/6834 [==============================] - 3s 450us/step - loss: 0.0445 - accuracy: 0.9881 - val_loss: 4.0965 - val_accuracy: 0.6340\n",
            "Epoch 32/50\n",
            "6834/6834 [==============================] - 3s 457us/step - loss: 0.0357 - accuracy: 0.9886 - val_loss: 3.9222 - val_accuracy: 0.6246\n",
            "Epoch 33/50\n",
            "6834/6834 [==============================] - 3s 462us/step - loss: 0.0696 - accuracy: 0.9769 - val_loss: 3.7489 - val_accuracy: 0.6146\n",
            "Epoch 34/50\n",
            "6834/6834 [==============================] - 3s 455us/step - loss: 0.0430 - accuracy: 0.9855 - val_loss: 4.0566 - val_accuracy: 0.6181\n",
            "Epoch 35/50\n",
            "6834/6834 [==============================] - 3s 446us/step - loss: 0.0488 - accuracy: 0.9848 - val_loss: 3.8563 - val_accuracy: 0.6093\n",
            "Epoch 36/50\n",
            "6834/6834 [==============================] - 3s 460us/step - loss: 0.0365 - accuracy: 0.9898 - val_loss: 4.2275 - val_accuracy: 0.6310\n",
            "Epoch 37/50\n",
            "6834/6834 [==============================] - 3s 453us/step - loss: 0.0321 - accuracy: 0.9892 - val_loss: 4.8677 - val_accuracy: 0.6251\n",
            "Epoch 38/50\n",
            "6834/6834 [==============================] - 3s 448us/step - loss: 0.0615 - accuracy: 0.9813 - val_loss: 3.8410 - val_accuracy: 0.6093\n",
            "Epoch 39/50\n",
            "6834/6834 [==============================] - 3s 458us/step - loss: 0.0445 - accuracy: 0.9852 - val_loss: 4.3509 - val_accuracy: 0.6093\n",
            "Epoch 40/50\n",
            "6834/6834 [==============================] - 3s 455us/step - loss: 0.0468 - accuracy: 0.9838 - val_loss: 4.2947 - val_accuracy: 0.6134\n",
            "Epoch 41/50\n",
            "6834/6834 [==============================] - 3s 457us/step - loss: 0.0339 - accuracy: 0.9881 - val_loss: 4.0037 - val_accuracy: 0.6069\n",
            "Epoch 42/50\n",
            "6834/6834 [==============================] - 3s 455us/step - loss: 0.0500 - accuracy: 0.9848 - val_loss: 4.1605 - val_accuracy: 0.6193\n",
            "Epoch 43/50\n",
            "6834/6834 [==============================] - 3s 468us/step - loss: 0.0351 - accuracy: 0.9883 - val_loss: 4.3123 - val_accuracy: 0.6275\n",
            "Epoch 44/50\n",
            "6834/6834 [==============================] - 3s 458us/step - loss: 0.0319 - accuracy: 0.9917 - val_loss: 4.0319 - val_accuracy: 0.6199\n",
            "Epoch 45/50\n",
            "6834/6834 [==============================] - 3s 461us/step - loss: 0.0267 - accuracy: 0.9918 - val_loss: 4.6842 - val_accuracy: 0.6216\n",
            "Epoch 46/50\n",
            "6834/6834 [==============================] - 3s 447us/step - loss: 0.0273 - accuracy: 0.9914 - val_loss: 4.8499 - val_accuracy: 0.6281\n",
            "Epoch 47/50\n",
            "6834/6834 [==============================] - 3s 435us/step - loss: 0.0455 - accuracy: 0.9861 - val_loss: 4.2193 - val_accuracy: 0.6181\n",
            "Epoch 48/50\n",
            "6834/6834 [==============================] - 3s 445us/step - loss: 0.0427 - accuracy: 0.9861 - val_loss: 4.0715 - val_accuracy: 0.6216\n",
            "Epoch 49/50\n",
            "6834/6834 [==============================] - 3s 454us/step - loss: 0.0430 - accuracy: 0.9855 - val_loss: 4.4115 - val_accuracy: 0.6222\n",
            "Epoch 50/50\n",
            "6834/6834 [==============================] - 3s 443us/step - loss: 0.0208 - accuracy: 0.9936 - val_loss: 4.9260 - val_accuracy: 0.6340\n"
          ],
          "name": "stdout"
        }
      ]
    },
    {
      "cell_type": "code",
      "metadata": {
        "id": "ojFA1Fuef8Zj",
        "colab_type": "code",
        "colab": {
          "base_uri": "https://localhost:8080/",
          "height": 558
        },
        "outputId": "aeaf4ed3-1de8-46e9-a411-fb6d26c54c95"
      },
      "source": [
        "# pintamos gráficas de pérdidas y precisión\n",
        "plt.figure(0)\n",
        "plt.plot(h.history['accuracy'], 'r')\n",
        "plt.plot(h.history['val_accuracy'], 'g')\n",
        "plt.xlabel('n epochs')\n",
        "plt.ylabel('acc')\n",
        "\n",
        "plt.figure(1)\n",
        "plt.plot(h.history['loss'], 'r')\n",
        "plt.plot(h.history['val_loss'], 'g')\n",
        "plt.xlabel('n epochs')\n",
        "plt.ylabel('loss')"
      ],
      "execution_count": null,
      "outputs": [
        {
          "output_type": "execute_result",
          "data": {
            "text/plain": [
              "Text(0, 0.5, 'loss')"
            ]
          },
          "metadata": {
            "tags": []
          },
          "execution_count": 212
        },
        {
          "output_type": "display_data",
          "data": {
            "image/png": "[encoded data removed]",
            "text/plain": [
              "<Figure size 432x288 with 1 Axes>"
            ]
          },
          "metadata": {
            "tags": [],
            "needs_background": "light"
          }
        },
        {
          "output_type": "display_data",
          "data": {
            "image/png": "[encoded data removed]",
            "text/plain": [
              "<Figure size 432x288 with 1 Axes>"
            ]
          },
          "metadata": {
            "tags": [],
            "needs_background": "light"
          }
        }
      ]
    },
    {
      "cell_type": "markdown",
      "metadata": {
        "id": "qkunrNyeVYL_",
        "colab_type": "text"
      },
      "source": [
        "Introducimos en el modelo una regularizacion Ridge para ver si mejora"
      ]
    },
    {
      "cell_type": "code",
      "metadata": {
        "colab_type": "code",
        "id": "C0mH3Quv9UKO",
        "colab": {
          "base_uri": "https://localhost:8080/",
          "height": 1000
        },
        "outputId": "4292384c-335f-4d50-dd8a-2d9d85222bd6"
      },
      "source": [
        "# Creamos un modelo para hacer primero clasificación con y_class\n",
        "from keras.models import Sequential\n",
        "from keras.layers import Dense\n",
        "from keras.regularizers import l1\n",
        "\n",
        "model1 = Sequential()\n",
        "model1.add(Dense(64, input_shape=(caract_train.shape[1],), activation='relu', kernel_regularizer=l1(0.003)))\n",
        "model1.add(Dropout(0.25))\n",
        "model1.add(Dense(32, activation='relu', kernel_regularizer=l1(0.003)))\n",
        "model1.add(Dropout(0.25))\n",
        "model1.add(Dense(3, activation='softmax'))\n",
        "\n",
        "# sparse_categorical_crossentropy es exactamente igual que categorical_crossentropy,\n",
        "# solo que admite enteros en vez de onehot a la entrada\n",
        "model1.compile(loss='categorical_crossentropy', optimizer='adam', metrics=['accuracy'])\n",
        "\n",
        "h1=model1.fit(data_train_norm, y_class_train_onehot,\n",
        "          validation_data=(data_val_norm, y_class_val_onehot),\n",
        "          epochs=50,\n",
        "          batch_size=8)\n",
        "\n",
        "#loss, acc = model.evaluate(X_test, y_test)\n",
        "#print(f'Loss={loss}, Acc={acc}')"
      ],
      "execution_count": null,
      "outputs": [
        {
          "output_type": "stream",
          "text": [
            "Train on 6834 samples, validate on 1702 samples\n",
            "Epoch 1/50\n",
            "6834/6834 [==============================] - 4s 546us/step - loss: 1.4082 - accuracy: 0.5805 - val_loss: 0.8851 - val_accuracy: 0.6686\n",
            "Epoch 2/50\n",
            "6834/6834 [==============================] - 4s 527us/step - loss: 0.8638 - accuracy: 0.6339 - val_loss: 0.8171 - val_accuracy: 0.6586\n",
            "Epoch 3/50\n",
            "6834/6834 [==============================] - 3s 510us/step - loss: 0.8374 - accuracy: 0.6327 - val_loss: 0.8089 - val_accuracy: 0.6434\n",
            "Epoch 4/50\n",
            "6834/6834 [==============================] - 3s 508us/step - loss: 0.8276 - accuracy: 0.6343 - val_loss: 0.7965 - val_accuracy: 0.6533\n",
            "Epoch 5/50\n",
            "6834/6834 [==============================] - 4s 514us/step - loss: 0.8275 - accuracy: 0.6296 - val_loss: 0.7974 - val_accuracy: 0.6598\n",
            "Epoch 6/50\n",
            "6834/6834 [==============================] - 3s 512us/step - loss: 0.8208 - accuracy: 0.6428 - val_loss: 0.7991 - val_accuracy: 0.6716\n",
            "Epoch 7/50\n",
            "6834/6834 [==============================] - 3s 510us/step - loss: 0.8223 - accuracy: 0.6324 - val_loss: 0.7951 - val_accuracy: 0.6586\n",
            "Epoch 8/50\n",
            "6834/6834 [==============================] - 4s 513us/step - loss: 0.8133 - accuracy: 0.6390 - val_loss: 0.7987 - val_accuracy: 0.6627\n",
            "Epoch 9/50\n",
            "6834/6834 [==============================] - 3s 511us/step - loss: 0.8176 - accuracy: 0.6359 - val_loss: 0.8033 - val_accuracy: 0.6457\n",
            "Epoch 10/50\n",
            "6834/6834 [==============================] - 4s 516us/step - loss: 0.8140 - accuracy: 0.6456 - val_loss: 0.7896 - val_accuracy: 0.6692\n",
            "Epoch 11/50\n",
            "6834/6834 [==============================] - 3s 512us/step - loss: 0.8146 - accuracy: 0.6361 - val_loss: 0.7847 - val_accuracy: 0.6792\n",
            "Epoch 12/50\n",
            "6834/6834 [==============================] - 4s 515us/step - loss: 0.8173 - accuracy: 0.6354 - val_loss: 0.7941 - val_accuracy: 0.6533\n",
            "Epoch 13/50\n",
            "6834/6834 [==============================] - 4s 514us/step - loss: 0.8113 - accuracy: 0.6411 - val_loss: 0.7826 - val_accuracy: 0.6657\n",
            "Epoch 14/50\n",
            "6834/6834 [==============================] - 3s 508us/step - loss: 0.8118 - accuracy: 0.6390 - val_loss: 0.7850 - val_accuracy: 0.6710\n",
            "Epoch 15/50\n",
            "6834/6834 [==============================] - 4s 522us/step - loss: 0.8116 - accuracy: 0.6471 - val_loss: 0.7859 - val_accuracy: 0.6669\n",
            "Epoch 16/50\n",
            "6834/6834 [==============================] - 4s 512us/step - loss: 0.8116 - accuracy: 0.6409 - val_loss: 0.7865 - val_accuracy: 0.6722\n",
            "Epoch 17/50\n",
            "6834/6834 [==============================] - 4s 518us/step - loss: 0.8054 - accuracy: 0.6394 - val_loss: 0.7861 - val_accuracy: 0.6645\n",
            "Epoch 18/50\n",
            "6834/6834 [==============================] - 4s 521us/step - loss: 0.8124 - accuracy: 0.6403 - val_loss: 0.7835 - val_accuracy: 0.6639\n",
            "Epoch 19/50\n",
            "6834/6834 [==============================] - 4s 513us/step - loss: 0.8138 - accuracy: 0.6419 - val_loss: 0.7841 - val_accuracy: 0.6704\n",
            "Epoch 20/50\n",
            "6834/6834 [==============================] - 3s 510us/step - loss: 0.8065 - accuracy: 0.6447 - val_loss: 0.7964 - val_accuracy: 0.6657\n",
            "Epoch 21/50\n",
            "6834/6834 [==============================] - 4s 517us/step - loss: 0.8102 - accuracy: 0.6460 - val_loss: 0.7843 - val_accuracy: 0.6774\n",
            "Epoch 22/50\n",
            "6834/6834 [==============================] - 4s 514us/step - loss: 0.8083 - accuracy: 0.6443 - val_loss: 0.7986 - val_accuracy: 0.6539\n",
            "Epoch 23/50\n",
            "6834/6834 [==============================] - 3s 502us/step - loss: 0.8123 - accuracy: 0.6412 - val_loss: 0.7867 - val_accuracy: 0.6627\n",
            "Epoch 24/50\n",
            "6834/6834 [==============================] - 4s 531us/step - loss: 0.8041 - accuracy: 0.6411 - val_loss: 0.8020 - val_accuracy: 0.6557\n",
            "Epoch 25/50\n",
            "6834/6834 [==============================] - 4s 547us/step - loss: 0.8063 - accuracy: 0.6431 - val_loss: 0.7803 - val_accuracy: 0.6698\n",
            "Epoch 26/50\n",
            "6834/6834 [==============================] - 4s 536us/step - loss: 0.8122 - accuracy: 0.6339 - val_loss: 0.7817 - val_accuracy: 0.6657\n",
            "Epoch 27/50\n",
            "6834/6834 [==============================] - 3s 510us/step - loss: 0.8084 - accuracy: 0.6378 - val_loss: 0.8003 - val_accuracy: 0.6557\n",
            "Epoch 28/50\n",
            "6834/6834 [==============================] - 4s 518us/step - loss: 0.8034 - accuracy: 0.6437 - val_loss: 0.7815 - val_accuracy: 0.6745\n",
            "Epoch 29/50\n",
            "6834/6834 [==============================] - 3s 505us/step - loss: 0.8138 - accuracy: 0.6348 - val_loss: 0.7881 - val_accuracy: 0.6563\n",
            "Epoch 30/50\n",
            "6834/6834 [==============================] - 4s 517us/step - loss: 0.8107 - accuracy: 0.6349 - val_loss: 0.7895 - val_accuracy: 0.6563\n",
            "Epoch 31/50\n",
            "6834/6834 [==============================] - 4s 514us/step - loss: 0.8010 - accuracy: 0.6450 - val_loss: 0.7755 - val_accuracy: 0.6792\n",
            "Epoch 32/50\n",
            "6834/6834 [==============================] - 3s 511us/step - loss: 0.8099 - accuracy: 0.6433 - val_loss: 0.7766 - val_accuracy: 0.6686\n",
            "Epoch 33/50\n",
            "6834/6834 [==============================] - 3s 496us/step - loss: 0.8016 - accuracy: 0.6424 - val_loss: 0.8041 - val_accuracy: 0.6434\n",
            "Epoch 34/50\n",
            "6834/6834 [==============================] - 3s 485us/step - loss: 0.8100 - accuracy: 0.6393 - val_loss: 0.7740 - val_accuracy: 0.6686\n",
            "Epoch 35/50\n",
            "6834/6834 [==============================] - 3s 512us/step - loss: 0.8052 - accuracy: 0.6425 - val_loss: 0.7921 - val_accuracy: 0.6675\n",
            "Epoch 36/50\n",
            "6834/6834 [==============================] - 3s 511us/step - loss: 0.8066 - accuracy: 0.6394 - val_loss: 0.7783 - val_accuracy: 0.6804\n",
            "Epoch 37/50\n",
            "6834/6834 [==============================] - 3s 505us/step - loss: 0.8013 - accuracy: 0.6482 - val_loss: 0.8033 - val_accuracy: 0.6328\n",
            "Epoch 38/50\n",
            "6834/6834 [==============================] - 3s 489us/step - loss: 0.8072 - accuracy: 0.6409 - val_loss: 0.8412 - val_accuracy: 0.6169\n",
            "Epoch 39/50\n",
            "6834/6834 [==============================] - 3s 506us/step - loss: 0.8059 - accuracy: 0.6383 - val_loss: 0.7870 - val_accuracy: 0.6657\n",
            "Epoch 40/50\n",
            "6834/6834 [==============================] - 4s 518us/step - loss: 0.8076 - accuracy: 0.6383 - val_loss: 0.7721 - val_accuracy: 0.6739\n",
            "Epoch 41/50\n",
            "6834/6834 [==============================] - 3s 511us/step - loss: 0.8045 - accuracy: 0.6424 - val_loss: 0.7836 - val_accuracy: 0.6627\n",
            "Epoch 42/50\n",
            "6834/6834 [==============================] - 3s 504us/step - loss: 0.8084 - accuracy: 0.6348 - val_loss: 0.8011 - val_accuracy: 0.6733\n",
            "Epoch 43/50\n",
            "6834/6834 [==============================] - 4s 531us/step - loss: 0.8019 - accuracy: 0.6485 - val_loss: 0.7933 - val_accuracy: 0.6575\n",
            "Epoch 44/50\n",
            "6834/6834 [==============================] - 4s 523us/step - loss: 0.8041 - accuracy: 0.6415 - val_loss: 0.8492 - val_accuracy: 0.5905\n",
            "Epoch 45/50\n",
            "6834/6834 [==============================] - 3s 509us/step - loss: 0.8048 - accuracy: 0.6459 - val_loss: 0.7779 - val_accuracy: 0.6680\n",
            "Epoch 46/50\n",
            "6834/6834 [==============================] - 4s 513us/step - loss: 0.8041 - accuracy: 0.6415 - val_loss: 0.7814 - val_accuracy: 0.6727\n",
            "Epoch 47/50\n",
            "6834/6834 [==============================] - 3s 507us/step - loss: 0.8142 - accuracy: 0.6323 - val_loss: 0.7835 - val_accuracy: 0.6580\n",
            "Epoch 48/50\n",
            "6834/6834 [==============================] - 3s 503us/step - loss: 0.8013 - accuracy: 0.6424 - val_loss: 0.7737 - val_accuracy: 0.6722\n",
            "Epoch 49/50\n",
            "6834/6834 [==============================] - 3s 498us/step - loss: 0.8024 - accuracy: 0.6428 - val_loss: 0.7797 - val_accuracy: 0.6639\n",
            "Epoch 50/50\n",
            "6834/6834 [==============================] - 3s 499us/step - loss: 0.8009 - accuracy: 0.6430 - val_loss: 0.7770 - val_accuracy: 0.6722\n"
          ],
          "name": "stdout"
        }
      ]
    },
    {
      "cell_type": "code",
      "metadata": {
        "id": "SrOEhJm29q4O",
        "colab_type": "code",
        "colab": {
          "base_uri": "https://localhost:8080/",
          "height": 558
        },
        "outputId": "806552c6-5258-4ab8-f8e1-ff4ad5703454"
      },
      "source": [
        "# pintamos gráficas de pérdidas y precisión\n",
        "plt.figure(0)\n",
        "plt.plot(h1.history['accuracy'], 'r')\n",
        "plt.plot(h1.history['val_accuracy'], 'g')\n",
        "plt.xlabel('n epochs')\n",
        "plt.ylabel('acc')\n",
        "\n",
        "plt.figure(1)\n",
        "plt.plot(h1.history['loss'], 'r')\n",
        "plt.plot(h1.history['val_loss'], 'g')\n",
        "plt.xlabel('n epochs')\n",
        "plt.ylabel('loss')"
      ],
      "execution_count": null,
      "outputs": [
        {
          "output_type": "execute_result",
          "data": {
            "text/plain": [
              "Text(0, 0.5, 'loss')"
            ]
          },
          "metadata": {
            "tags": []
          },
          "execution_count": 214
        },
        {
          "output_type": "display_data",
          "data": {
            "image/png": "[encoded data removed]",
            "text/plain": [
              "<Figure size 432x288 with 1 Axes>"
            ]
          },
          "metadata": {
            "tags": [],
            "needs_background": "light"
          }
        },
        {
          "output_type": "display_data",
          "data": {
            "image/png": "[encoded data removed]",
            "text/plain": [
              "<Figure size 432x288 with 1 Axes>"
            ]
          },
          "metadata": {
            "tags": [],
            "needs_background": "light"
          }
        }
      ]
    },
    {
      "cell_type": "code",
      "metadata": {
        "id": "BJqBbm8qOHoM",
        "colab_type": "code",
        "colab": {}
      },
      "source": [
        "data_test_norm = min_max_scaler.fit_transform(caract_test)"
      ],
      "execution_count": null,
      "outputs": []
    },
    {
      "cell_type": "markdown",
      "metadata": {
        "id": "qx-RJICeVt0H",
        "colab_type": "text"
      },
      "source": [
        "Pbamos metiendo una regulaización Rige y en otra capa una regularización Lasso"
      ]
    },
    {
      "cell_type": "code",
      "metadata": {
        "colab_type": "code",
        "id": "ACmzxDq-OIki",
        "colab": {
          "base_uri": "https://localhost:8080/",
          "height": 1000
        },
        "outputId": "017da098-cf1d-404b-f4d0-efb2605b65da"
      },
      "source": [
        "\n",
        "from keras.models import Sequential\n",
        "from keras.layers import Dense\n",
        "from keras.regularizers import l1\n",
        "from keras.regularizers import l2\n",
        "model2 = Sequential()\n",
        "model2.add(Dense(64, input_shape=(caract_train.shape[1],), activation='relu', kernel_regularizer=l1(0.003)))\n",
        "model2.add(Dropout(0.25))\n",
        "model2.add(Dense(32, activation='relu', kernel_regularizer=l2(0.003)))\n",
        "model2.add(Dropout(0.25))\n",
        "model2.add(Dense(3, activation='softmax'))\n",
        "\n",
        "# sparse_categorical_crossentropy es exactamente igual que categorical_crossentropy,\n",
        "# solo que admite enteros en vez de onehot a la entrada\n",
        "model2.compile(loss='categorical_crossentropy', optimizer='adam', metrics=['accuracy'])\n",
        "\n",
        "h2=model2.fit(data_train_norm, y_class_train_onehot,\n",
        "          validation_data=(data_val_norm, y_class_val_onehot),\n",
        "          epochs=50,\n",
        "          batch_size=8)\n",
        "\n",
        "#loss, acc = model.evaluate(X_test, y_test)\n",
        "#print(f'Loss={loss}, Acc={acc}')"
      ],
      "execution_count": null,
      "outputs": [
        {
          "output_type": "stream",
          "text": [
            "Train on 6834 samples, validate on 1702 samples\n",
            "Epoch 1/50\n",
            "6834/6834 [==============================] - 4s 537us/step - loss: 1.2458 - accuracy: 0.5860 - val_loss: 0.8865 - val_accuracy: 0.6387\n",
            "Epoch 2/50\n",
            "6834/6834 [==============================] - 3s 491us/step - loss: 0.8732 - accuracy: 0.6280 - val_loss: 0.8516 - val_accuracy: 0.6416\n",
            "Epoch 3/50\n",
            "6834/6834 [==============================] - 3s 510us/step - loss: 0.8485 - accuracy: 0.6446 - val_loss: 0.8385 - val_accuracy: 0.6486\n",
            "Epoch 4/50\n",
            "6834/6834 [==============================] - 3s 509us/step - loss: 0.8365 - accuracy: 0.6460 - val_loss: 0.8523 - val_accuracy: 0.6140\n",
            "Epoch 5/50\n",
            "6834/6834 [==============================] - 3s 508us/step - loss: 0.8326 - accuracy: 0.6443 - val_loss: 0.8027 - val_accuracy: 0.6686\n",
            "Epoch 6/50\n",
            "6834/6834 [==============================] - 3s 492us/step - loss: 0.8247 - accuracy: 0.6504 - val_loss: 0.8257 - val_accuracy: 0.6345\n",
            "Epoch 7/50\n",
            "6834/6834 [==============================] - 3s 497us/step - loss: 0.8210 - accuracy: 0.6509 - val_loss: 0.8019 - val_accuracy: 0.6539\n",
            "Epoch 8/50\n",
            "6834/6834 [==============================] - 3s 508us/step - loss: 0.8119 - accuracy: 0.6566 - val_loss: 0.7886 - val_accuracy: 0.6710\n",
            "Epoch 9/50\n",
            "6834/6834 [==============================] - 3s 504us/step - loss: 0.8131 - accuracy: 0.6545 - val_loss: 0.7962 - val_accuracy: 0.6563\n",
            "Epoch 10/50\n",
            "6834/6834 [==============================] - 3s 503us/step - loss: 0.8124 - accuracy: 0.6441 - val_loss: 0.7822 - val_accuracy: 0.6675\n",
            "Epoch 11/50\n",
            "6834/6834 [==============================] - 3s 488us/step - loss: 0.8103 - accuracy: 0.6553 - val_loss: 0.7972 - val_accuracy: 0.6510\n",
            "Epoch 12/50\n",
            "6834/6834 [==============================] - 3s 481us/step - loss: 0.8148 - accuracy: 0.6428 - val_loss: 0.7849 - val_accuracy: 0.6622\n",
            "Epoch 13/50\n",
            "6834/6834 [==============================] - 3s 502us/step - loss: 0.8069 - accuracy: 0.6462 - val_loss: 0.7849 - val_accuracy: 0.6616\n",
            "Epoch 14/50\n",
            "6834/6834 [==============================] - 3s 506us/step - loss: 0.8099 - accuracy: 0.6572 - val_loss: 0.7755 - val_accuracy: 0.6739\n",
            "Epoch 15/50\n",
            "6834/6834 [==============================] - 4s 515us/step - loss: 0.8103 - accuracy: 0.6566 - val_loss: 0.7832 - val_accuracy: 0.6663\n",
            "Epoch 16/50\n",
            "6834/6834 [==============================] - 3s 512us/step - loss: 0.8051 - accuracy: 0.6519 - val_loss: 0.7786 - val_accuracy: 0.6757\n",
            "Epoch 17/50\n",
            "6834/6834 [==============================] - 3s 498us/step - loss: 0.8086 - accuracy: 0.6618 - val_loss: 0.7941 - val_accuracy: 0.6633\n",
            "Epoch 18/50\n",
            "6834/6834 [==============================] - 3s 484us/step - loss: 0.8057 - accuracy: 0.6491 - val_loss: 0.7907 - val_accuracy: 0.6663\n",
            "Epoch 19/50\n",
            "6834/6834 [==============================] - 3s 497us/step - loss: 0.8049 - accuracy: 0.6553 - val_loss: 0.7885 - val_accuracy: 0.6557\n",
            "Epoch 20/50\n",
            "6834/6834 [==============================] - 3s 487us/step - loss: 0.8029 - accuracy: 0.6550 - val_loss: 0.7995 - val_accuracy: 0.6539\n",
            "Epoch 21/50\n",
            "6834/6834 [==============================] - 3s 492us/step - loss: 0.8103 - accuracy: 0.6437 - val_loss: 0.7801 - val_accuracy: 0.6710\n",
            "Epoch 22/50\n",
            "6834/6834 [==============================] - 3s 503us/step - loss: 0.8109 - accuracy: 0.6490 - val_loss: 0.7925 - val_accuracy: 0.6586\n",
            "Epoch 23/50\n",
            "6834/6834 [==============================] - 3s 501us/step - loss: 0.8073 - accuracy: 0.6534 - val_loss: 0.7857 - val_accuracy: 0.6698\n",
            "Epoch 24/50\n",
            "6834/6834 [==============================] - 3s 508us/step - loss: 0.8056 - accuracy: 0.6545 - val_loss: 0.7762 - val_accuracy: 0.6751\n",
            "Epoch 25/50\n",
            "6834/6834 [==============================] - 3s 508us/step - loss: 0.7983 - accuracy: 0.6620 - val_loss: 0.7774 - val_accuracy: 0.6727\n",
            "Epoch 26/50\n",
            "6834/6834 [==============================] - 3s 503us/step - loss: 0.8027 - accuracy: 0.6594 - val_loss: 0.7727 - val_accuracy: 0.6716\n",
            "Epoch 27/50\n",
            "6834/6834 [==============================] - 4s 522us/step - loss: 0.8000 - accuracy: 0.6598 - val_loss: 0.7975 - val_accuracy: 0.6457\n",
            "Epoch 28/50\n",
            "6834/6834 [==============================] - 4s 538us/step - loss: 0.8023 - accuracy: 0.6564 - val_loss: 0.7849 - val_accuracy: 0.6610\n",
            "Epoch 29/50\n",
            "6834/6834 [==============================] - 4s 515us/step - loss: 0.8037 - accuracy: 0.6554 - val_loss: 0.7836 - val_accuracy: 0.6592\n",
            "Epoch 30/50\n",
            "6834/6834 [==============================] - 4s 530us/step - loss: 0.8068 - accuracy: 0.6572 - val_loss: 0.7893 - val_accuracy: 0.6551\n",
            "Epoch 31/50\n",
            "6834/6834 [==============================] - 3s 508us/step - loss: 0.8071 - accuracy: 0.6557 - val_loss: 0.7884 - val_accuracy: 0.6669\n",
            "Epoch 32/50\n",
            "6834/6834 [==============================] - 3s 489us/step - loss: 0.8010 - accuracy: 0.6529 - val_loss: 0.7793 - val_accuracy: 0.6686\n",
            "Epoch 33/50\n",
            "6834/6834 [==============================] - 3s 500us/step - loss: 0.8023 - accuracy: 0.6579 - val_loss: 0.7886 - val_accuracy: 0.6598\n",
            "Epoch 34/50\n",
            "6834/6834 [==============================] - 3s 496us/step - loss: 0.8031 - accuracy: 0.6554 - val_loss: 0.7800 - val_accuracy: 0.6733\n",
            "Epoch 35/50\n",
            "6834/6834 [==============================] - 3s 503us/step - loss: 0.8040 - accuracy: 0.6551 - val_loss: 0.7855 - val_accuracy: 0.6698\n",
            "Epoch 36/50\n",
            "6834/6834 [==============================] - 4s 512us/step - loss: 0.8037 - accuracy: 0.6532 - val_loss: 0.7925 - val_accuracy: 0.6580\n",
            "Epoch 37/50\n",
            "6834/6834 [==============================] - 3s 506us/step - loss: 0.8022 - accuracy: 0.6586 - val_loss: 0.7980 - val_accuracy: 0.6492\n",
            "Epoch 38/50\n",
            "6834/6834 [==============================] - 3s 499us/step - loss: 0.8011 - accuracy: 0.6608 - val_loss: 0.7774 - val_accuracy: 0.6686\n",
            "Epoch 39/50\n",
            "6834/6834 [==============================] - 3s 505us/step - loss: 0.8015 - accuracy: 0.6599 - val_loss: 0.7752 - val_accuracy: 0.6739\n",
            "Epoch 40/50\n",
            "6834/6834 [==============================] - 3s 511us/step - loss: 0.8056 - accuracy: 0.6577 - val_loss: 0.7767 - val_accuracy: 0.6675\n",
            "Epoch 41/50\n",
            "6834/6834 [==============================] - 3s 503us/step - loss: 0.8085 - accuracy: 0.6555 - val_loss: 0.7906 - val_accuracy: 0.6645\n",
            "Epoch 42/50\n",
            "6834/6834 [==============================] - 3s 499us/step - loss: 0.8031 - accuracy: 0.6547 - val_loss: 0.7965 - val_accuracy: 0.6592\n",
            "Epoch 43/50\n",
            "6834/6834 [==============================] - 3s 500us/step - loss: 0.8037 - accuracy: 0.6566 - val_loss: 0.7976 - val_accuracy: 0.6569\n",
            "Epoch 44/50\n",
            "6834/6834 [==============================] - 4s 515us/step - loss: 0.8028 - accuracy: 0.6529 - val_loss: 0.7802 - val_accuracy: 0.6733\n",
            "Epoch 45/50\n",
            "6834/6834 [==============================] - 4s 521us/step - loss: 0.8016 - accuracy: 0.6615 - val_loss: 0.8133 - val_accuracy: 0.6463\n",
            "Epoch 46/50\n",
            "6834/6834 [==============================] - 3s 504us/step - loss: 0.8008 - accuracy: 0.6566 - val_loss: 0.7932 - val_accuracy: 0.6492\n",
            "Epoch 47/50\n",
            "6834/6834 [==============================] - 3s 495us/step - loss: 0.8036 - accuracy: 0.6557 - val_loss: 0.7783 - val_accuracy: 0.6821\n",
            "Epoch 48/50\n",
            "6834/6834 [==============================] - 3s 501us/step - loss: 0.8029 - accuracy: 0.6591 - val_loss: 0.7946 - val_accuracy: 0.6651\n",
            "Epoch 49/50\n",
            "6834/6834 [==============================] - 3s 510us/step - loss: 0.8053 - accuracy: 0.6529 - val_loss: 0.7834 - val_accuracy: 0.6716\n",
            "Epoch 50/50\n",
            "6834/6834 [==============================] - 4s 514us/step - loss: 0.8021 - accuracy: 0.6579 - val_loss: 0.8413 - val_accuracy: 0.5969\n"
          ],
          "name": "stdout"
        }
      ]
    },
    {
      "cell_type": "code",
      "metadata": {
        "id": "kZXvRQYBPgIA",
        "colab_type": "code",
        "colab": {
          "base_uri": "https://localhost:8080/",
          "height": 558
        },
        "outputId": "f3278453-1583-41e4-afff-1ffacadc99be"
      },
      "source": [
        "# pintamos gráficas de pérdidas y precisión\n",
        "plt.figure(0)\n",
        "plt.plot(h2.history['accuracy'], 'r')\n",
        "plt.plot(h2.history['val_accuracy'], 'g')\n",
        "plt.xlabel('n epochs')\n",
        "plt.ylabel('acc')\n",
        "\n",
        "plt.figure(1)\n",
        "plt.plot(h2.history['loss'], 'r')\n",
        "plt.plot(h2.history['val_loss'], 'g')\n",
        "plt.xlabel('n epochs')\n",
        "plt.ylabel('loss')"
      ],
      "execution_count": null,
      "outputs": [
        {
          "output_type": "execute_result",
          "data": {
            "text/plain": [
              "Text(0, 0.5, 'loss')"
            ]
          },
          "metadata": {
            "tags": []
          },
          "execution_count": 219
        },
        {
          "output_type": "display_data",
          "data": {
            "image/png": "[encoded data removed]",
            "text/plain": [
              "<Figure size 432x288 with 1 Axes>"
            ]
          },
          "metadata": {
            "tags": [],
            "needs_background": "light"
          }
        },
        {
          "output_type": "display_data",
          "data": {
            "image/png": "[encoded data removed]",
            "text/plain": [
              "<Figure size 432x288 with 1 Axes>"
            ]
          },
          "metadata": {
            "tags": [],
            "needs_background": "light"
          }
        }
      ]
    },
    {
      "cell_type": "code",
      "metadata": {
        "id": "urG6vADXTVdv",
        "colab_type": "code",
        "colab": {
          "base_uri": "https://localhost:8080/",
          "height": 51
        },
        "outputId": "b3f95ecf-bc43-443d-da05-0dcff674c2da"
      },
      "source": [
        "loss, acc = model1.evaluate(data_test_norm, y_class_test_onehot)\n",
        "print(f'Loss={loss}, Acc={acc}')"
      ],
      "execution_count": null,
      "outputs": [
        {
          "output_type": "stream",
          "text": [
            "2172/2172 [==============================] - 0s 64us/step\n",
            "Loss=0.7924834088067323, Acc=0.6754143834114075\n"
          ],
          "name": "stdout"
        }
      ]
    },
    {
      "cell_type": "code",
      "metadata": {
        "id": "VYnRhFM2h9AL",
        "colab_type": "code",
        "colab": {
          "base_uri": "https://localhost:8080/",
          "height": 34
        },
        "outputId": "6105a089-bd6c-4565-92bd-72fd85760c7c"
      },
      "source": [
        "# Vamos a juntar las features de las imagenes y el dataset numérico/categórico\n",
        "data_full_train = np.concatenate((dfTrain_with_imgs.values, caract_train), axis=1)\n",
        "print(data_full_train.shape)"
      ],
      "execution_count": null,
      "outputs": [
        {
          "output_type": "stream",
          "text": [
            "(6834, 540)\n"
          ],
          "name": "stdout"
        }
      ]
    },
    {
      "cell_type": "code",
      "metadata": {
        "id": "1DVWBnt3iu_j",
        "colab_type": "code",
        "colab": {
          "base_uri": "https://localhost:8080/",
          "height": 34
        },
        "outputId": "851aa0c0-3128-4b3f-c549-9ba69e53becf"
      },
      "source": [
        "# Vamos a juntar las features de las imagenes y el dataset numérico/categórico\n",
        "data_full_val = np.concatenate((dfVal_with_imgs.values, caract_val), axis=1)\n",
        "print(data_full_val.shape)"
      ],
      "execution_count": null,
      "outputs": [
        {
          "output_type": "stream",
          "text": [
            "(1702, 540)\n"
          ],
          "name": "stdout"
        }
      ]
    },
    {
      "cell_type": "code",
      "metadata": {
        "id": "SQuq9hOsi5JU",
        "colab_type": "code",
        "colab": {
          "base_uri": "https://localhost:8080/",
          "height": 34
        },
        "outputId": "efd119e2-8d27-4bae-ef59-20d38d384327"
      },
      "source": [
        "# Vamos a juntar las features de las imagenes y el dataset numérico/categórico\n",
        "data_full_test = np.concatenate((dfTest_with_imgs.values, caract_test), axis=1)\n",
        "print(data_full_test.shape)"
      ],
      "execution_count": null,
      "outputs": [
        {
          "output_type": "stream",
          "text": [
            "(2172, 540)\n"
          ],
          "name": "stdout"
        }
      ]
    },
    {
      "cell_type": "code",
      "metadata": {
        "id": "sIiuS1lb4bQs",
        "colab_type": "code",
        "colab": {}
      },
      "source": [
        "from sklearn import preprocessing\n",
        "min_max_scaler = preprocessing.MinMaxScaler()\n",
        "data_full_train_norm = min_max_scaler.fit_transform(data_full_train)\n",
        "data_full_val_norm = min_max_scaler.fit_transform(data_full_val)\n",
        "data_full_test_norm = min_max_scaler.fit_transform(data_full_test)"
      ],
      "execution_count": null,
      "outputs": []
    },
    {
      "cell_type": "code",
      "metadata": {
        "id": "hD4n4Quw3jV9",
        "colab_type": "code",
        "colab": {
          "base_uri": "https://localhost:8080/",
          "height": 1000
        },
        "outputId": "193de88c-e542-460e-8961-749357a63047"
      },
      "source": [
        "# Creamos un modelo para hacer primero clasificación con y_class\n",
        "from keras.models import Sequential\n",
        "from keras.layers import Dense\n",
        "from keras.layers import Dropout\n",
        "from keras.optimizers import Adam\n",
        "\n",
        "modelmix = Sequential()\n",
        "modelmix.add(Dense(128, input_shape=(data_full_train_norm.shape[1],), activation='relu'))\n",
        "modelmix.add(Dropout(0.2))\n",
        "modelmix.add(Dense(64, activation='relu'))\n",
        "modelmix.add(Dropout(0.2))\n",
        "modelmix.add(Dense(32, activation='relu'))\n",
        "modelmix.add(Dropout(0.2))\n",
        "modelmix.add(Dense(3, activation='softmax'))  # tenemos 3 clases\n",
        "\n",
        "# sparse_categorical_crossentropy es exactamente igual que categorical_crossentropy,\n",
        "# solo que admite enteros en vez de onehot a la entrada\n",
        "opt = Adam(learning_rate=0.0001)\n",
        "modelmix.compile(loss='categorical_crossentropy', optimizer=opt, \n",
        "              metrics=['accuracy'])\n",
        "\n",
        "hmix=modelmix.fit(data_full_train_norm, y_class_train_onehot,\n",
        "          validation_data=(data_full_val_norm, y_class_val_onehot),\n",
        "          epochs=50,\n",
        "          batch_size=8)"
      ],
      "execution_count": null,
      "outputs": [
        {
          "output_type": "stream",
          "text": [
            "Train on 6834 samples, validate on 1702 samples\n",
            "Epoch 1/50\n",
            "6834/6834 [==============================] - 4s 576us/step - loss: 0.7806 - accuracy: 0.6462 - val_loss: 0.5763 - val_accuracy: 0.7779\n",
            "Epoch 2/50\n",
            "6834/6834 [==============================] - 4s 545us/step - loss: 0.6000 - accuracy: 0.7755 - val_loss: 0.5176 - val_accuracy: 0.7949\n",
            "Epoch 3/50\n",
            "6834/6834 [==============================] - 4s 552us/step - loss: 0.5396 - accuracy: 0.7975 - val_loss: 0.5111 - val_accuracy: 0.7838\n",
            "Epoch 4/50\n",
            "6834/6834 [==============================] - 4s 560us/step - loss: 0.5049 - accuracy: 0.8088 - val_loss: 0.4819 - val_accuracy: 0.7920\n",
            "Epoch 5/50\n",
            "6834/6834 [==============================] - 4s 553us/step - loss: 0.4725 - accuracy: 0.8172 - val_loss: 0.4392 - val_accuracy: 0.8067\n",
            "Epoch 6/50\n",
            "6834/6834 [==============================] - 4s 543us/step - loss: 0.4445 - accuracy: 0.8202 - val_loss: 0.4310 - val_accuracy: 0.8126\n",
            "Epoch 7/50\n",
            "6834/6834 [==============================] - 4s 551us/step - loss: 0.4216 - accuracy: 0.8339 - val_loss: 0.3980 - val_accuracy: 0.8255\n",
            "Epoch 8/50\n",
            "6834/6834 [==============================] - 4s 545us/step - loss: 0.4012 - accuracy: 0.8398 - val_loss: 0.4168 - val_accuracy: 0.8173\n",
            "Epoch 9/50\n",
            "6834/6834 [==============================] - 4s 543us/step - loss: 0.3887 - accuracy: 0.8475 - val_loss: 0.3994 - val_accuracy: 0.8255\n",
            "Epoch 10/50\n",
            "6834/6834 [==============================] - 4s 546us/step - loss: 0.3625 - accuracy: 0.8540 - val_loss: 0.3773 - val_accuracy: 0.8431\n",
            "Epoch 11/50\n",
            "6834/6834 [==============================] - 4s 517us/step - loss: 0.3359 - accuracy: 0.8679 - val_loss: 0.3876 - val_accuracy: 0.8320\n",
            "Epoch 12/50\n",
            "6834/6834 [==============================] - 4s 519us/step - loss: 0.3288 - accuracy: 0.8673 - val_loss: 0.4269 - val_accuracy: 0.8214\n",
            "Epoch 13/50\n",
            "6834/6834 [==============================] - 4s 540us/step - loss: 0.3157 - accuracy: 0.8705 - val_loss: 0.3535 - val_accuracy: 0.8490\n",
            "Epoch 14/50\n",
            "6834/6834 [==============================] - 4s 550us/step - loss: 0.2911 - accuracy: 0.8859 - val_loss: 0.3778 - val_accuracy: 0.8384\n",
            "Epoch 15/50\n",
            "6834/6834 [==============================] - 4s 547us/step - loss: 0.2732 - accuracy: 0.8872 - val_loss: 0.3979 - val_accuracy: 0.8355\n",
            "Epoch 16/50\n",
            "6834/6834 [==============================] - 4s 549us/step - loss: 0.2591 - accuracy: 0.8951 - val_loss: 0.4067 - val_accuracy: 0.8343\n",
            "Epoch 17/50\n",
            "6834/6834 [==============================] - 4s 548us/step - loss: 0.2405 - accuracy: 0.9053 - val_loss: 0.3773 - val_accuracy: 0.8378\n",
            "Epoch 18/50\n",
            "6834/6834 [==============================] - 4s 554us/step - loss: 0.2276 - accuracy: 0.9107 - val_loss: 0.3682 - val_accuracy: 0.8514\n",
            "Epoch 19/50\n",
            "6834/6834 [==============================] - 4s 549us/step - loss: 0.2122 - accuracy: 0.9179 - val_loss: 0.4591 - val_accuracy: 0.8284\n",
            "Epoch 20/50\n",
            "6834/6834 [==============================] - 4s 550us/step - loss: 0.1978 - accuracy: 0.9226 - val_loss: 0.3914 - val_accuracy: 0.8478\n",
            "Epoch 21/50\n",
            "6834/6834 [==============================] - 4s 537us/step - loss: 0.1891 - accuracy: 0.9280 - val_loss: 0.5133 - val_accuracy: 0.8143\n",
            "Epoch 22/50\n",
            "6834/6834 [==============================] - 4s 551us/step - loss: 0.1716 - accuracy: 0.9328 - val_loss: 0.4437 - val_accuracy: 0.8408\n",
            "Epoch 23/50\n",
            "6834/6834 [==============================] - 4s 556us/step - loss: 0.1667 - accuracy: 0.9312 - val_loss: 0.3968 - val_accuracy: 0.8566\n",
            "Epoch 24/50\n",
            "6834/6834 [==============================] - 4s 551us/step - loss: 0.1502 - accuracy: 0.9435 - val_loss: 0.5837 - val_accuracy: 0.8143\n",
            "Epoch 25/50\n",
            "6834/6834 [==============================] - 4s 552us/step - loss: 0.1421 - accuracy: 0.9495 - val_loss: 0.4523 - val_accuracy: 0.8455\n",
            "Epoch 26/50\n",
            "6834/6834 [==============================] - 4s 541us/step - loss: 0.1249 - accuracy: 0.9535 - val_loss: 0.4207 - val_accuracy: 0.8561\n",
            "Epoch 27/50\n",
            "6834/6834 [==============================] - 4s 541us/step - loss: 0.1191 - accuracy: 0.9552 - val_loss: 0.5219 - val_accuracy: 0.8296\n",
            "Epoch 28/50\n",
            "6834/6834 [==============================] - 4s 519us/step - loss: 0.1126 - accuracy: 0.9605 - val_loss: 0.4782 - val_accuracy: 0.8437\n",
            "Epoch 29/50\n",
            "6834/6834 [==============================] - 4s 526us/step - loss: 0.1056 - accuracy: 0.9608 - val_loss: 0.3951 - val_accuracy: 0.8819\n",
            "Epoch 30/50\n",
            "6834/6834 [==============================] - 4s 546us/step - loss: 0.0966 - accuracy: 0.9643 - val_loss: 0.6583 - val_accuracy: 0.8096\n",
            "Epoch 31/50\n",
            "6834/6834 [==============================] - 4s 541us/step - loss: 0.0889 - accuracy: 0.9685 - val_loss: 0.4884 - val_accuracy: 0.8566\n",
            "Epoch 32/50\n",
            "6834/6834 [==============================] - 4s 549us/step - loss: 0.0787 - accuracy: 0.9725 - val_loss: 0.6399 - val_accuracy: 0.8196\n",
            "Epoch 33/50\n",
            "6834/6834 [==============================] - 4s 537us/step - loss: 0.0774 - accuracy: 0.9722 - val_loss: 0.6188 - val_accuracy: 0.8331\n",
            "Epoch 34/50\n",
            "6834/6834 [==============================] - 4s 524us/step - loss: 0.0663 - accuracy: 0.9778 - val_loss: 0.6205 - val_accuracy: 0.8396\n",
            "Epoch 35/50\n",
            "6834/6834 [==============================] - 4s 545us/step - loss: 0.0642 - accuracy: 0.9788 - val_loss: 0.5610 - val_accuracy: 0.8543\n",
            "Epoch 36/50\n",
            "6834/6834 [==============================] - 4s 544us/step - loss: 0.0600 - accuracy: 0.9788 - val_loss: 0.6004 - val_accuracy: 0.8490\n",
            "Epoch 37/50\n",
            "6834/6834 [==============================] - 4s 546us/step - loss: 0.0634 - accuracy: 0.9775 - val_loss: 0.4992 - val_accuracy: 0.8672\n",
            "Epoch 38/50\n",
            "6834/6834 [==============================] - 4s 535us/step - loss: 0.0495 - accuracy: 0.9845 - val_loss: 0.9590 - val_accuracy: 0.7996\n",
            "Epoch 39/50\n",
            "6834/6834 [==============================] - 4s 517us/step - loss: 0.0498 - accuracy: 0.9826 - val_loss: 0.5385 - val_accuracy: 0.8619\n",
            "Epoch 40/50\n",
            "6834/6834 [==============================] - 4s 547us/step - loss: 0.0455 - accuracy: 0.9857 - val_loss: 0.6100 - val_accuracy: 0.8531\n",
            "Epoch 41/50\n",
            "6834/6834 [==============================] - 4s 555us/step - loss: 0.0456 - accuracy: 0.9855 - val_loss: 0.7547 - val_accuracy: 0.8267\n",
            "Epoch 42/50\n",
            "6834/6834 [==============================] - 4s 537us/step - loss: 0.0431 - accuracy: 0.9857 - val_loss: 0.7236 - val_accuracy: 0.8355\n",
            "Epoch 43/50\n",
            "6834/6834 [==============================] - 4s 521us/step - loss: 0.0393 - accuracy: 0.9867 - val_loss: 0.8447 - val_accuracy: 0.8190\n",
            "Epoch 44/50\n",
            "6834/6834 [==============================] - 4s 535us/step - loss: 0.0422 - accuracy: 0.9852 - val_loss: 0.6916 - val_accuracy: 0.8367\n",
            "Epoch 45/50\n",
            "6834/6834 [==============================] - 4s 543us/step - loss: 0.0308 - accuracy: 0.9899 - val_loss: 0.8443 - val_accuracy: 0.8302\n",
            "Epoch 46/50\n",
            "6834/6834 [==============================] - 4s 544us/step - loss: 0.0333 - accuracy: 0.9868 - val_loss: 0.6629 - val_accuracy: 0.8537\n",
            "Epoch 47/50\n",
            "6834/6834 [==============================] - 4s 542us/step - loss: 0.0340 - accuracy: 0.9874 - val_loss: 0.9132 - val_accuracy: 0.8196\n",
            "Epoch 48/50\n",
            "6834/6834 [==============================] - 4s 521us/step - loss: 0.0335 - accuracy: 0.9889 - val_loss: 0.9227 - val_accuracy: 0.8161\n",
            "Epoch 49/50\n",
            "6834/6834 [==============================] - 4s 526us/step - loss: 0.0338 - accuracy: 0.9874 - val_loss: 0.6905 - val_accuracy: 0.8613\n",
            "Epoch 50/50\n",
            "6834/6834 [==============================] - 4s 550us/step - loss: 0.0306 - accuracy: 0.9889 - val_loss: 0.7546 - val_accuracy: 0.8472\n"
          ],
          "name": "stdout"
        }
      ]
    },
    {
      "cell_type": "code",
      "metadata": {
        "id": "7w1jDmyK4LZt",
        "colab_type": "code",
        "colab": {}
      },
      "source": [
        ""
      ],
      "execution_count": null,
      "outputs": []
    },
    {
      "cell_type": "code",
      "metadata": {
        "colab_type": "code",
        "id": "sm7gQI-cyjUP",
        "colab": {
          "base_uri": "https://localhost:8080/",
          "height": 561
        },
        "outputId": "10a12400-0c5f-415e-8a73-8a76b3e56415"
      },
      "source": [
        "# pintamos gráficas de pérdidas y precisión\n",
        "plt.figure(0)\n",
        "plt.plot(hmix.history['accuracy'], 'r')\n",
        "plt.plot(hmix.history['val_accuracy'], 'g')\n",
        "plt.xlabel('n epochs')\n",
        "plt.ylabel('acc')\n",
        "\n",
        "plt.figure(1)\n",
        "plt.plot(hmix.history['loss'], 'r')\n",
        "plt.plot(hmix.history['val_loss'], 'g')\n",
        "plt.xlabel('n epochs')\n",
        "plt.ylabel('loss')"
      ],
      "execution_count": null,
      "outputs": [
        {
          "output_type": "execute_result",
          "data": {
            "text/plain": [
              "Text(0, 0.5, 'loss')"
            ]
          },
          "metadata": {
            "tags": []
          },
          "execution_count": 226
        },
        {
          "output_type": "display_data",
          "data": {
            "image/png": "[encoded data removed]",
            "text/plain": [
              "<Figure size 432x288 with 1 Axes>"
            ]
          },
          "metadata": {
            "tags": [],
            "needs_background": "light"
          }
        },
        {
          "output_type": "display_data",
          "data": {
            "image/png": "[encoded data removed]",
            "text/plain": [
              "<Figure size 432x288 with 1 Axes>"
            ]
          },
          "metadata": {
            "tags": [],
            "needs_background": "light"
          }
        }
      ]
    },
    {
      "cell_type": "markdown",
      "metadata": {
        "id": "5UGZ1hiiusy-",
        "colab_type": "text"
      },
      "source": [
        "Se observa que hay que ajustar el modelo inicial, probamos a introducir regularización"
      ]
    },
    {
      "cell_type": "code",
      "metadata": {
        "id": "YqMsr78BDZWY",
        "colab_type": "code",
        "colab": {
          "base_uri": "https://localhost:8080/",
          "height": 1000
        },
        "outputId": "62e6e1cc-02ef-4873-b6eb-2c282f1f719a"
      },
      "source": [
        "from keras.models import Sequential\n",
        "from keras.layers import Dense\n",
        "from keras.layers import Dropout\n",
        "from keras.optimizers import Adam\n",
        "from keras.regularizers import l1\n",
        "from keras.regularizers import l2\n",
        "\n",
        "modelmix1 = Sequential()\n",
        "modelmix1.add(Dense(128, input_shape=(data_full_train_norm.shape[1],), activation='relu', kernel_regularizer=l1(0.003)))\n",
        "modelmix1.add(Dropout(0.2))\n",
        "modelmix1.add(Dense(64, activation='relu', kernel_regularizer=l1(0.003)))\n",
        "modelmix1.add(Dropout(0.2))\n",
        "modelmix1.add(Dense(32, activation='relu', kernel_regularizer=l1(0.003)))\n",
        "modelmix1.add(Dropout(0.2))\n",
        "modelmix1.add(Dense(3, activation='softmax'))  # tenemos 3 clases\n",
        "\n",
        "# sparse_categorical_crossentropy es exactamente igual que categorical_crossentropy,\n",
        "# solo que admite enteros en vez de onehot a la entrada\n",
        "opt = Adam(learning_rate=0.0001)\n",
        "modelmix1.compile(loss='categorical_crossentropy', optimizer=opt, \n",
        "              metrics=['accuracy'])\n",
        "\n",
        "hmix1=modelmix1.fit(data_full_train_norm, y_class_train_onehot,\n",
        "          validation_data=(data_full_val_norm, y_class_val_onehot),\n",
        "          epochs=50,\n",
        "          batch_size=8)"
      ],
      "execution_count": null,
      "outputs": [
        {
          "output_type": "stream",
          "text": [
            "Train on 6834 samples, validate on 1702 samples\n",
            "Epoch 1/50\n",
            "6834/6834 [==============================] - 4s 617us/step - loss: 7.2242 - accuracy: 0.5831 - val_loss: 2.8470 - val_accuracy: 0.7756\n",
            "Epoch 2/50\n",
            "6834/6834 [==============================] - 4s 572us/step - loss: 1.9325 - accuracy: 0.7527 - val_loss: 1.3960 - val_accuracy: 0.7955\n",
            "Epoch 3/50\n",
            "6834/6834 [==============================] - 4s 563us/step - loss: 1.2603 - accuracy: 0.7867 - val_loss: 1.0858 - val_accuracy: 0.7955\n",
            "Epoch 4/50\n",
            "6834/6834 [==============================] - 4s 563us/step - loss: 1.0547 - accuracy: 0.7931 - val_loss: 0.9512 - val_accuracy: 0.7955\n",
            "Epoch 5/50\n",
            "6834/6834 [==============================] - 4s 571us/step - loss: 0.9495 - accuracy: 0.7938 - val_loss: 0.8808 - val_accuracy: 0.7955\n",
            "Epoch 6/50\n",
            "6834/6834 [==============================] - 4s 573us/step - loss: 0.8856 - accuracy: 0.7947 - val_loss: 0.8214 - val_accuracy: 0.7955\n",
            "Epoch 7/50\n",
            "6834/6834 [==============================] - 4s 575us/step - loss: 0.8395 - accuracy: 0.7954 - val_loss: 0.7915 - val_accuracy: 0.7955\n",
            "Epoch 8/50\n",
            "6834/6834 [==============================] - 4s 576us/step - loss: 0.8134 - accuracy: 0.7981 - val_loss: 0.7654 - val_accuracy: 0.7955\n",
            "Epoch 9/50\n",
            "6834/6834 [==============================] - 4s 571us/step - loss: 0.7892 - accuracy: 0.7941 - val_loss: 0.7536 - val_accuracy: 0.7955\n",
            "Epoch 10/50\n",
            "6834/6834 [==============================] - 4s 564us/step - loss: 0.7725 - accuracy: 0.7984 - val_loss: 0.7182 - val_accuracy: 0.7955\n",
            "Epoch 11/50\n",
            "6834/6834 [==============================] - 4s 567us/step - loss: 0.7529 - accuracy: 0.7962 - val_loss: 0.7024 - val_accuracy: 0.7955\n",
            "Epoch 12/50\n",
            "6834/6834 [==============================] - 4s 579us/step - loss: 0.7359 - accuracy: 0.7984 - val_loss: 0.6953 - val_accuracy: 0.7955\n",
            "Epoch 13/50\n",
            "6834/6834 [==============================] - 4s 615us/step - loss: 0.7232 - accuracy: 0.7985 - val_loss: 0.6762 - val_accuracy: 0.7955\n",
            "Epoch 14/50\n",
            "6834/6834 [==============================] - 4s 579us/step - loss: 0.7118 - accuracy: 0.7982 - val_loss: 0.6680 - val_accuracy: 0.7955\n",
            "Epoch 15/50\n",
            "6834/6834 [==============================] - 4s 564us/step - loss: 0.7017 - accuracy: 0.7994 - val_loss: 0.6644 - val_accuracy: 0.7955\n",
            "Epoch 16/50\n",
            "6834/6834 [==============================] - 4s 544us/step - loss: 0.6967 - accuracy: 0.7985 - val_loss: 0.6511 - val_accuracy: 0.7955\n",
            "Epoch 17/50\n",
            "6834/6834 [==============================] - 4s 574us/step - loss: 0.6878 - accuracy: 0.7998 - val_loss: 0.6376 - val_accuracy: 0.7955\n",
            "Epoch 18/50\n",
            "6834/6834 [==============================] - 4s 567us/step - loss: 0.6806 - accuracy: 0.8020 - val_loss: 0.6285 - val_accuracy: 0.7955\n",
            "Epoch 19/50\n",
            "6834/6834 [==============================] - 4s 564us/step - loss: 0.6743 - accuracy: 0.8039 - val_loss: 0.6287 - val_accuracy: 0.7955\n",
            "Epoch 20/50\n",
            "6834/6834 [==============================] - 4s 559us/step - loss: 0.6633 - accuracy: 0.8066 - val_loss: 0.6287 - val_accuracy: 0.7955\n",
            "Epoch 21/50\n",
            "6834/6834 [==============================] - 4s 552us/step - loss: 0.6569 - accuracy: 0.8098 - val_loss: 0.6272 - val_accuracy: 0.7955\n",
            "Epoch 22/50\n",
            "6834/6834 [==============================] - 4s 567us/step - loss: 0.6508 - accuracy: 0.8055 - val_loss: 0.6212 - val_accuracy: 0.7955\n",
            "Epoch 23/50\n",
            "6834/6834 [==============================] - 4s 570us/step - loss: 0.6573 - accuracy: 0.8055 - val_loss: 0.6033 - val_accuracy: 0.7961\n",
            "Epoch 24/50\n",
            "6834/6834 [==============================] - 4s 569us/step - loss: 0.6490 - accuracy: 0.8060 - val_loss: 0.6023 - val_accuracy: 0.7961\n",
            "Epoch 25/50\n",
            "6834/6834 [==============================] - 4s 566us/step - loss: 0.6389 - accuracy: 0.8082 - val_loss: 0.6006 - val_accuracy: 0.7955\n",
            "Epoch 26/50\n",
            "6834/6834 [==============================] - 4s 555us/step - loss: 0.6356 - accuracy: 0.8088 - val_loss: 0.6040 - val_accuracy: 0.7967\n",
            "Epoch 27/50\n",
            "6834/6834 [==============================] - 4s 572us/step - loss: 0.6351 - accuracy: 0.8074 - val_loss: 0.5916 - val_accuracy: 0.8014\n",
            "Epoch 28/50\n",
            "6834/6834 [==============================] - 4s 572us/step - loss: 0.6287 - accuracy: 0.8149 - val_loss: 0.5883 - val_accuracy: 0.8014\n",
            "Epoch 29/50\n",
            "6834/6834 [==============================] - 4s 567us/step - loss: 0.6179 - accuracy: 0.8145 - val_loss: 0.5834 - val_accuracy: 0.8043\n",
            "Epoch 30/50\n",
            "6834/6834 [==============================] - 4s 549us/step - loss: 0.6211 - accuracy: 0.8145 - val_loss: 0.5692 - val_accuracy: 0.8120\n",
            "Epoch 31/50\n",
            "6834/6834 [==============================] - 4s 545us/step - loss: 0.6108 - accuracy: 0.8171 - val_loss: 0.5784 - val_accuracy: 0.8061\n",
            "Epoch 32/50\n",
            "6834/6834 [==============================] - 4s 578us/step - loss: 0.6077 - accuracy: 0.8147 - val_loss: 0.5894 - val_accuracy: 0.8032\n",
            "Epoch 33/50\n",
            "6834/6834 [==============================] - 4s 584us/step - loss: 0.6062 - accuracy: 0.8161 - val_loss: 0.5763 - val_accuracy: 0.8085\n",
            "Epoch 34/50\n",
            "6834/6834 [==============================] - 4s 577us/step - loss: 0.5947 - accuracy: 0.8219 - val_loss: 0.5713 - val_accuracy: 0.8102\n",
            "Epoch 35/50\n",
            "6834/6834 [==============================] - 4s 555us/step - loss: 0.5995 - accuracy: 0.8196 - val_loss: 0.5746 - val_accuracy: 0.8096\n",
            "Epoch 36/50\n",
            "6834/6834 [==============================] - 4s 553us/step - loss: 0.5855 - accuracy: 0.8269 - val_loss: 0.5385 - val_accuracy: 0.8273\n",
            "Epoch 37/50\n",
            "6834/6834 [==============================] - 4s 571us/step - loss: 0.5911 - accuracy: 0.8269 - val_loss: 0.5496 - val_accuracy: 0.8190\n",
            "Epoch 38/50\n",
            "6834/6834 [==============================] - 4s 568us/step - loss: 0.5835 - accuracy: 0.8259 - val_loss: 0.5729 - val_accuracy: 0.8137\n",
            "Epoch 39/50\n",
            "6834/6834 [==============================] - 4s 547us/step - loss: 0.5777 - accuracy: 0.8282 - val_loss: 0.5636 - val_accuracy: 0.8143\n",
            "Epoch 40/50\n",
            "6834/6834 [==============================] - 4s 541us/step - loss: 0.5683 - accuracy: 0.8281 - val_loss: 0.5887 - val_accuracy: 0.8096\n",
            "Epoch 41/50\n",
            "6834/6834 [==============================] - 4s 558us/step - loss: 0.5719 - accuracy: 0.8281 - val_loss: 0.5582 - val_accuracy: 0.8179\n",
            "Epoch 42/50\n",
            "6834/6834 [==============================] - 4s 566us/step - loss: 0.5657 - accuracy: 0.8287 - val_loss: 0.6112 - val_accuracy: 0.8108\n",
            "Epoch 43/50\n",
            "6834/6834 [==============================] - 4s 556us/step - loss: 0.5543 - accuracy: 0.8345 - val_loss: 0.5699 - val_accuracy: 0.8202\n",
            "Epoch 44/50\n",
            "6834/6834 [==============================] - 4s 561us/step - loss: 0.5594 - accuracy: 0.8339 - val_loss: 0.6012 - val_accuracy: 0.8161\n",
            "Epoch 45/50\n",
            "6834/6834 [==============================] - 4s 540us/step - loss: 0.5453 - accuracy: 0.8405 - val_loss: 0.5668 - val_accuracy: 0.8255\n",
            "Epoch 46/50\n",
            "6834/6834 [==============================] - 4s 565us/step - loss: 0.5384 - accuracy: 0.8404 - val_loss: 0.5503 - val_accuracy: 0.8284\n",
            "Epoch 47/50\n",
            "6834/6834 [==============================] - 4s 565us/step - loss: 0.5390 - accuracy: 0.8434 - val_loss: 0.5557 - val_accuracy: 0.8284\n",
            "Epoch 48/50\n",
            "6834/6834 [==============================] - 4s 562us/step - loss: 0.5333 - accuracy: 0.8465 - val_loss: 0.5338 - val_accuracy: 0.8343\n",
            "Epoch 49/50\n",
            "6834/6834 [==============================] - 4s 567us/step - loss: 0.5304 - accuracy: 0.8481 - val_loss: 0.5665 - val_accuracy: 0.8249\n",
            "Epoch 50/50\n",
            "6834/6834 [==============================] - 4s 534us/step - loss: 0.5244 - accuracy: 0.8500 - val_loss: 0.5535 - val_accuracy: 0.8290\n"
          ],
          "name": "stdout"
        }
      ]
    },
    {
      "cell_type": "code",
      "metadata": {
        "id": "0Q9XfWkfDvJN",
        "colab_type": "code",
        "colab": {
          "base_uri": "https://localhost:8080/",
          "height": 558
        },
        "outputId": "7b41da6c-96ad-4550-b1df-27fdaf6d1d41"
      },
      "source": [
        "# pintamos gráficas de pérdidas y precisión\n",
        "plt.figure(0)\n",
        "plt.plot(hmix1.history['accuracy'], 'r')\n",
        "plt.plot(hmix1.history['val_accuracy'], 'g')\n",
        "plt.xlabel('n epochs')\n",
        "plt.ylabel('acc')\n",
        "\n",
        "plt.figure(1)\n",
        "plt.plot(hmix1.history['loss'], 'r')\n",
        "plt.plot(hmix1.history['val_loss'], 'g')\n",
        "plt.xlabel('n epochs')\n",
        "plt.ylabel('loss')"
      ],
      "execution_count": null,
      "outputs": [
        {
          "output_type": "execute_result",
          "data": {
            "text/plain": [
              "Text(0, 0.5, 'loss')"
            ]
          },
          "metadata": {
            "tags": []
          },
          "execution_count": 228
        },
        {
          "output_type": "display_data",
          "data": {
            "image/png": "[encoded data removed]",
            "text/plain": [
              "<Figure size 432x288 with 1 Axes>"
            ]
          },
          "metadata": {
            "tags": [],
            "needs_background": "light"
          }
        },
        {
          "output_type": "display_data",
          "data": {
            "image/png": "[encoded data removed]",
            "text/plain": [
              "<Figure size 432x288 with 1 Axes>"
            ]
          },
          "metadata": {
            "tags": [],
            "needs_background": "light"
          }
        }
      ]
    },
    {
      "cell_type": "markdown",
      "metadata": {
        "id": "1PswY2FhbWUj",
        "colab_type": "text"
      },
      "source": [
        "Tras varias configuraciones, introduciendo en el modelo regularizaciones L1, L2, cambiando en learning_rate y ya finalmente acotando los pesos he llegado ese modelo"
      ]
    },
    {
      "cell_type": "code",
      "metadata": {
        "colab_type": "code",
        "id": "UmfUsTttLH5L",
        "colab": {
          "base_uri": "https://localhost:8080/",
          "height": 1000
        },
        "outputId": "08d18cde-a0a3-4155-eaa6-6cf465a96033"
      },
      "source": [
        "from keras.models import Sequential\n",
        "from keras.layers import Dense\n",
        "from keras.layers import Dropout\n",
        "from keras.optimizers import Adam\n",
        "from keras.regularizers import l1\n",
        "from keras.regularizers import l2\n",
        "from keras.regularizers import l1_l2\n",
        "from keras.constraints import max_norm\n",
        "\n",
        "modelmix2 = Sequential()\n",
        "modelmix2.add(Dense(128, input_shape=(data_full_train_norm.shape[1],), activation='relu', kernel_regularizer=l2(0.003), kernel_constraint=max_norm(3.)))\n",
        "modelmix2.add(Dropout(0.3))\n",
        "modelmix2.add(Dense(64, activation='relu', kernel_regularizer=l2(0.003)))\n",
        "modelmix2.add(Dropout(0.3))\n",
        "#modelmix2.add(Dense(32, activation='relu'))\n",
        "#modelmix2.add(Dropout(0.3))\n",
        "\n",
        "modelmix2.add(Dense(3, activation='softmax'))  # tenemos 3 clases\n",
        "\n",
        "# sparse_categorical_crossentropy es exactamente igual que categorical_crossentropy,\n",
        "# solo que admite enteros en vez de onehot a la entrada\n",
        "opt = Adam(learning_rate=0.00001)\n",
        "modelmix2.compile(loss='categorical_crossentropy', optimizer=opt, \n",
        "              metrics=['accuracy'])\n",
        "\n",
        "hmix2=modelmix2.fit(data_full_train_norm, y_class_train_onehot,\n",
        "          validation_data=(data_full_val_norm, y_class_val_onehot),\n",
        "          epochs=50,\n",
        "          batch_size=8)"
      ],
      "execution_count": null,
      "outputs": [
        {
          "output_type": "stream",
          "text": [
            "Train on 6834 samples, validate on 1702 samples\n",
            "Epoch 1/50\n",
            "6834/6834 [==============================] - 4s 581us/step - loss: 1.8432 - accuracy: 0.4716 - val_loss: 1.6943 - val_accuracy: 0.5776\n",
            "Epoch 2/50\n",
            "6834/6834 [==============================] - 4s 530us/step - loss: 1.6719 - accuracy: 0.5356 - val_loss: 1.5721 - val_accuracy: 0.6193\n",
            "Epoch 3/50\n",
            "6834/6834 [==============================] - 4s 527us/step - loss: 1.5767 - accuracy: 0.5866 - val_loss: 1.4922 - val_accuracy: 0.6434\n",
            "Epoch 4/50\n",
            "6834/6834 [==============================] - 4s 517us/step - loss: 1.5010 - accuracy: 0.6175 - val_loss: 1.4214 - val_accuracy: 0.6827\n",
            "Epoch 5/50\n",
            "6834/6834 [==============================] - 3s 506us/step - loss: 1.4322 - accuracy: 0.6658 - val_loss: 1.3571 - val_accuracy: 0.7150\n",
            "Epoch 6/50\n",
            "6834/6834 [==============================] - 4s 526us/step - loss: 1.3709 - accuracy: 0.6927 - val_loss: 1.2999 - val_accuracy: 0.7385\n",
            "Epoch 7/50\n",
            "6834/6834 [==============================] - 4s 532us/step - loss: 1.3203 - accuracy: 0.7063 - val_loss: 1.2489 - val_accuracy: 0.7509\n",
            "Epoch 8/50\n",
            "6834/6834 [==============================] - 4s 524us/step - loss: 1.2700 - accuracy: 0.7202 - val_loss: 1.2041 - val_accuracy: 0.7550\n",
            "Epoch 9/50\n",
            "6834/6834 [==============================] - 3s 510us/step - loss: 1.2267 - accuracy: 0.7331 - val_loss: 1.1642 - val_accuracy: 0.7591\n",
            "Epoch 10/50\n",
            "6834/6834 [==============================] - 3s 506us/step - loss: 1.1898 - accuracy: 0.7410 - val_loss: 1.1294 - val_accuracy: 0.7609\n",
            "Epoch 11/50\n",
            "6834/6834 [==============================] - 4s 516us/step - loss: 1.1500 - accuracy: 0.7539 - val_loss: 1.0984 - val_accuracy: 0.7632\n",
            "Epoch 12/50\n",
            "6834/6834 [==============================] - 4s 526us/step - loss: 1.1214 - accuracy: 0.7548 - val_loss: 1.0682 - val_accuracy: 0.7691\n",
            "Epoch 13/50\n",
            "6834/6834 [==============================] - 4s 521us/step - loss: 1.0928 - accuracy: 0.7574 - val_loss: 1.0422 - val_accuracy: 0.7697\n",
            "Epoch 14/50\n",
            "6834/6834 [==============================] - 4s 523us/step - loss: 1.0656 - accuracy: 0.7698 - val_loss: 1.0185 - val_accuracy: 0.7756\n",
            "Epoch 15/50\n",
            "6834/6834 [==============================] - 4s 533us/step - loss: 1.0367 - accuracy: 0.7771 - val_loss: 0.9970 - val_accuracy: 0.7756\n",
            "Epoch 16/50\n",
            "6834/6834 [==============================] - 4s 528us/step - loss: 1.0227 - accuracy: 0.7735 - val_loss: 0.9771 - val_accuracy: 0.7791\n",
            "Epoch 17/50\n",
            "6834/6834 [==============================] - 4s 516us/step - loss: 0.9942 - accuracy: 0.7812 - val_loss: 0.9585 - val_accuracy: 0.7820\n",
            "Epoch 18/50\n",
            "6834/6834 [==============================] - 4s 525us/step - loss: 0.9757 - accuracy: 0.7884 - val_loss: 0.9413 - val_accuracy: 0.7814\n",
            "Epoch 19/50\n",
            "6834/6834 [==============================] - 4s 529us/step - loss: 0.9607 - accuracy: 0.7849 - val_loss: 0.9259 - val_accuracy: 0.7797\n",
            "Epoch 20/50\n",
            "6834/6834 [==============================] - 4s 521us/step - loss: 0.9451 - accuracy: 0.7886 - val_loss: 0.9109 - val_accuracy: 0.7844\n",
            "Epoch 21/50\n",
            "6834/6834 [==============================] - 4s 521us/step - loss: 0.9288 - accuracy: 0.7941 - val_loss: 0.8971 - val_accuracy: 0.7891\n",
            "Epoch 22/50\n",
            "6834/6834 [==============================] - 3s 508us/step - loss: 0.9149 - accuracy: 0.7928 - val_loss: 0.8853 - val_accuracy: 0.7891\n",
            "Epoch 23/50\n",
            "6834/6834 [==============================] - 3s 508us/step - loss: 0.9004 - accuracy: 0.7948 - val_loss: 0.8729 - val_accuracy: 0.7914\n",
            "Epoch 24/50\n",
            "6834/6834 [==============================] - 4s 531us/step - loss: 0.8931 - accuracy: 0.7957 - val_loss: 0.8616 - val_accuracy: 0.7926\n",
            "Epoch 25/50\n",
            "6834/6834 [==============================] - 4s 530us/step - loss: 0.8731 - accuracy: 0.8033 - val_loss: 0.8500 - val_accuracy: 0.7961\n",
            "Epoch 26/50\n",
            "6834/6834 [==============================] - 4s 515us/step - loss: 0.8669 - accuracy: 0.7982 - val_loss: 0.8402 - val_accuracy: 0.7944\n",
            "Epoch 27/50\n",
            "6834/6834 [==============================] - 4s 535us/step - loss: 0.8502 - accuracy: 0.8036 - val_loss: 0.8301 - val_accuracy: 0.7967\n",
            "Epoch 28/50\n",
            "6834/6834 [==============================] - 4s 531us/step - loss: 0.8413 - accuracy: 0.8039 - val_loss: 0.8207 - val_accuracy: 0.7973\n",
            "Epoch 29/50\n",
            "6834/6834 [==============================] - 4s 532us/step - loss: 0.8347 - accuracy: 0.8041 - val_loss: 0.8131 - val_accuracy: 0.7985\n",
            "Epoch 30/50\n",
            "6834/6834 [==============================] - 4s 519us/step - loss: 0.8174 - accuracy: 0.8077 - val_loss: 0.8044 - val_accuracy: 0.8002\n",
            "Epoch 31/50\n",
            "6834/6834 [==============================] - 4s 519us/step - loss: 0.8149 - accuracy: 0.8061 - val_loss: 0.7954 - val_accuracy: 0.7996\n",
            "Epoch 32/50\n",
            "6834/6834 [==============================] - 4s 529us/step - loss: 0.8085 - accuracy: 0.8068 - val_loss: 0.7882 - val_accuracy: 0.8014\n",
            "Epoch 33/50\n",
            "6834/6834 [==============================] - 4s 531us/step - loss: 0.7998 - accuracy: 0.8082 - val_loss: 0.7795 - val_accuracy: 0.8002\n",
            "Epoch 34/50\n",
            "6834/6834 [==============================] - 4s 529us/step - loss: 0.7862 - accuracy: 0.8076 - val_loss: 0.7737 - val_accuracy: 0.8014\n",
            "Epoch 35/50\n",
            "6834/6834 [==============================] - 4s 522us/step - loss: 0.7833 - accuracy: 0.8101 - val_loss: 0.7659 - val_accuracy: 0.8020\n",
            "Epoch 36/50\n",
            "6834/6834 [==============================] - 4s 526us/step - loss: 0.7781 - accuracy: 0.8051 - val_loss: 0.7612 - val_accuracy: 0.8014\n",
            "Epoch 37/50\n",
            "6834/6834 [==============================] - 4s 527us/step - loss: 0.7659 - accuracy: 0.8126 - val_loss: 0.7531 - val_accuracy: 0.8008\n",
            "Epoch 38/50\n",
            "6834/6834 [==============================] - 4s 535us/step - loss: 0.7547 - accuracy: 0.8114 - val_loss: 0.7453 - val_accuracy: 0.8038\n",
            "Epoch 39/50\n",
            "6834/6834 [==============================] - 4s 524us/step - loss: 0.7562 - accuracy: 0.8112 - val_loss: 0.7417 - val_accuracy: 0.8020\n",
            "Epoch 40/50\n",
            "6834/6834 [==============================] - 3s 508us/step - loss: 0.7469 - accuracy: 0.8146 - val_loss: 0.7361 - val_accuracy: 0.8020\n",
            "Epoch 41/50\n",
            "6834/6834 [==============================] - 3s 511us/step - loss: 0.7429 - accuracy: 0.8145 - val_loss: 0.7286 - val_accuracy: 0.8038\n",
            "Epoch 42/50\n",
            "6834/6834 [==============================] - 4s 529us/step - loss: 0.7315 - accuracy: 0.8155 - val_loss: 0.7222 - val_accuracy: 0.8043\n",
            "Epoch 43/50\n",
            "6834/6834 [==============================] - 4s 537us/step - loss: 0.7258 - accuracy: 0.8174 - val_loss: 0.7166 - val_accuracy: 0.8043\n",
            "Epoch 44/50\n",
            "6834/6834 [==============================] - 4s 540us/step - loss: 0.7214 - accuracy: 0.8142 - val_loss: 0.7119 - val_accuracy: 0.8038\n",
            "Epoch 45/50\n",
            "6834/6834 [==============================] - 4s 550us/step - loss: 0.7131 - accuracy: 0.8140 - val_loss: 0.7030 - val_accuracy: 0.8096\n",
            "Epoch 46/50\n",
            "6834/6834 [==============================] - 4s 564us/step - loss: 0.7096 - accuracy: 0.8167 - val_loss: 0.6975 - val_accuracy: 0.8114\n",
            "Epoch 47/50\n",
            "6834/6834 [==============================] - 4s 547us/step - loss: 0.6996 - accuracy: 0.8161 - val_loss: 0.6981 - val_accuracy: 0.8043\n",
            "Epoch 48/50\n",
            "6834/6834 [==============================] - 4s 522us/step - loss: 0.6969 - accuracy: 0.8183 - val_loss: 0.6880 - val_accuracy: 0.8108\n",
            "Epoch 49/50\n",
            "6834/6834 [==============================] - 4s 519us/step - loss: 0.6894 - accuracy: 0.8172 - val_loss: 0.6845 - val_accuracy: 0.8085\n",
            "Epoch 50/50\n",
            "6834/6834 [==============================] - 4s 533us/step - loss: 0.6859 - accuracy: 0.8190 - val_loss: 0.6831 - val_accuracy: 0.8061\n"
          ],
          "name": "stdout"
        }
      ]
    },
    {
      "cell_type": "code",
      "metadata": {
        "id": "kP7TdhIqS4YF",
        "colab_type": "code",
        "colab": {
          "base_uri": "https://localhost:8080/",
          "height": 558
        },
        "outputId": "b35a409c-9179-4e49-f9d0-38309cb78a05"
      },
      "source": [
        "# pintamos gráficas de pérdidas y precisión\n",
        "plt.figure(0)\n",
        "plt.plot(hmix2.history['accuracy'], 'r')\n",
        "plt.plot(hmix2.history['val_accuracy'], 'g')\n",
        "plt.xlabel('n epochs')\n",
        "plt.ylabel('acc')\n",
        "\n",
        "plt.figure(1)\n",
        "plt.plot(hmix2.history['loss'], 'r')\n",
        "plt.plot(hmix2.history['val_loss'], 'g')\n",
        "plt.xlabel('n epochs')\n",
        "plt.ylabel('loss')"
      ],
      "execution_count": null,
      "outputs": [
        {
          "output_type": "execute_result",
          "data": {
            "text/plain": [
              "Text(0, 0.5, 'loss')"
            ]
          },
          "metadata": {
            "tags": []
          },
          "execution_count": 230
        },
        {
          "output_type": "display_data",
          "data": {
            "image/png": "[encoded data removed]",
            "text/plain": [
              "<Figure size 432x288 with 1 Axes>"
            ]
          },
          "metadata": {
            "tags": [],
            "needs_background": "light"
          }
        },
        {
          "output_type": "display_data",
          "data": {
            "image/png": "[encoded data removed]",
            "text/plain": [
              "<Figure size 432x288 with 1 Axes>"
            ]
          },
          "metadata": {
            "tags": [],
            "needs_background": "light"
          }
        }
      ]
    },
    {
      "cell_type": "code",
      "metadata": {
        "id": "yt0ydkMIMOYg",
        "colab_type": "code",
        "colab": {
          "base_uri": "https://localhost:8080/",
          "height": 51
        },
        "outputId": "9491de36-dca1-4828-80ac-66d396e6883b"
      },
      "source": [
        "loss, acc = modelmix2.evaluate(data_full_test_norm, y_class_test_onehot)\n",
        "print(f'Loss={loss}, Acc={acc}')"
      ],
      "execution_count": null,
      "outputs": [
        {
          "output_type": "stream",
          "text": [
            "2172/2172 [==============================] - 0s 72us/step\n",
            "Loss=0.675454184495283, Acc=0.8158379197120667\n"
          ],
          "name": "stdout"
        }
      ]
    },
    {
      "cell_type": "markdown",
      "metadata": {
        "id": "6zUzrXPbuQkP",
        "colab_type": "text"
      },
      "source": [
        "LLegamos en test a 81% que es del mismo orden que el que tenemos en train y validación"
      ]
    },
    {
      "cell_type": "markdown",
      "metadata": {
        "id": "x6fKih3EMw1B",
        "colab_type": "text"
      },
      "source": [
        "**Regresión**"
      ]
    },
    {
      "cell_type": "code",
      "metadata": {
        "id": "-k1wZzL3NZE6",
        "colab_type": "code",
        "colab": {
          "base_uri": "https://localhost:8080/",
          "height": 34
        },
        "outputId": "24946410-eb37-4a04-cc41-216e43e87a75"
      },
      "source": [
        "maxPrice = y_train_reg.max()\n",
        "print(f'Max precio={maxPrice}')\n",
        "trainY_nom = y_train_reg / maxPrice\n",
        "valY_nom = y_val_reg/ maxPrice\n",
        "testY_norm = y_test_reg/ maxPrice"
      ],
      "execution_count": null,
      "outputs": [
        {
          "output_type": "stream",
          "text": [
            "Max precio=850.0\n"
          ],
          "name": "stdout"
        }
      ]
    },
    {
      "cell_type": "code",
      "metadata": {
        "id": "vMxhQke0QtRd",
        "colab_type": "code",
        "colab": {
          "base_uri": "https://localhost:8080/",
          "height": 34
        },
        "outputId": "de449a62-3fd5-4a6a-ad95-439b241e62c0"
      },
      "source": [
        "data_full_val_norm.shape[1]"
      ],
      "execution_count": null,
      "outputs": [
        {
          "output_type": "execute_result",
          "data": {
            "text/plain": [
              "540"
            ]
          },
          "metadata": {
            "tags": []
          },
          "execution_count": 233
        }
      ]
    },
    {
      "cell_type": "code",
      "metadata": {
        "id": "web8ckV9OuP6",
        "colab_type": "code",
        "colab": {
          "base_uri": "https://localhost:8080/",
          "height": 34
        },
        "outputId": "39786438-d8a0-4f26-cfa3-a620d0732a57"
      },
      "source": [
        "valY_nom.shape"
      ],
      "execution_count": null,
      "outputs": [
        {
          "output_type": "execute_result",
          "data": {
            "text/plain": [
              "(1702,)"
            ]
          },
          "metadata": {
            "tags": []
          },
          "execution_count": 234
        }
      ]
    },
    {
      "cell_type": "code",
      "metadata": {
        "colab_type": "code",
        "id": "pbi0GEw8Outt",
        "colab": {
          "base_uri": "https://localhost:8080/",
          "height": 1000
        },
        "outputId": "d1603ee6-2baa-4f6a-ae72-af68c185191b"
      },
      "source": [
        "from keras.models import Sequential\n",
        "from keras.layers import Dense\n",
        "from keras.layers import Dropout\n",
        "from keras.callbacks import EarlyStopping\n",
        "modelr = Sequential()\n",
        "modelr.add(Dense(64, input_shape=(data_full_train_norm.shape[1],), activation='relu'))\n",
        "modelr.add(Dropout(0.2))\n",
        "modelr.add(Dense(32, activation='relu'))\n",
        "modelr.add(Dropout(0.2))\n",
        "modelr.add(Dense(32, activation='relu'))\n",
        "modelr.add(Dropout(0.2))\n",
        "modelr.add(Dense(1, activation='linear'))  # sin funcion de act y solo 1 neurona\n",
        "\n",
        "# sparse_categorical_crossentropy es exactamente igual que categorical_crossentropy,\n",
        "# solo que admite enteros en vez de onehot a la entrada\n",
        "opt = Adam(learning_rate=0.0001)\n",
        "modelr.compile(loss='mean_squared_error', optimizer=opt)\n",
        "\n",
        "hr=modelr.fit(data_full_train_norm, trainY_nom,\n",
        "          validation_data=(data_full_val_norm, valY_nom), epochs=100)"
      ],
      "execution_count": null,
      "outputs": [
        {
          "output_type": "stream",
          "text": [
            "Train on 6834 samples, validate on 1702 samples\n",
            "Epoch 1/100\n",
            "6834/6834 [==============================] - 1s 209us/step - loss: 0.0069 - val_loss: 0.0031\n",
            "Epoch 2/100\n",
            "6834/6834 [==============================] - 1s 134us/step - loss: 0.0046 - val_loss: 0.0028\n",
            "Epoch 3/100\n",
            "6834/6834 [==============================] - 1s 132us/step - loss: 0.0040 - val_loss: 0.0027\n",
            "Epoch 4/100\n",
            "6834/6834 [==============================] - 1s 132us/step - loss: 0.0037 - val_loss: 0.0024\n",
            "Epoch 5/100\n",
            "6834/6834 [==============================] - 1s 135us/step - loss: 0.0035 - val_loss: 0.0023\n",
            "Epoch 6/100\n",
            "6834/6834 [==============================] - 1s 133us/step - loss: 0.0032 - val_loss: 0.0021\n",
            "Epoch 7/100\n",
            "6834/6834 [==============================] - 1s 129us/step - loss: 0.0031 - val_loss: 0.0020\n",
            "Epoch 8/100\n",
            "6834/6834 [==============================] - 1s 130us/step - loss: 0.0029 - val_loss: 0.0018\n",
            "Epoch 9/100\n",
            "6834/6834 [==============================] - 1s 133us/step - loss: 0.0027 - val_loss: 0.0017\n",
            "Epoch 10/100\n",
            "6834/6834 [==============================] - 1s 132us/step - loss: 0.0025 - val_loss: 0.0016\n",
            "Epoch 11/100\n",
            "6834/6834 [==============================] - 1s 126us/step - loss: 0.0024 - val_loss: 0.0015\n",
            "Epoch 12/100\n",
            "6834/6834 [==============================] - 1s 134us/step - loss: 0.0023 - val_loss: 0.0015\n",
            "Epoch 13/100\n",
            "6834/6834 [==============================] - 1s 128us/step - loss: 0.0022 - val_loss: 0.0014\n",
            "Epoch 14/100\n",
            "6834/6834 [==============================] - 1s 142us/step - loss: 0.0021 - val_loss: 0.0013\n",
            "Epoch 15/100\n",
            "6834/6834 [==============================] - 1s 131us/step - loss: 0.0021 - val_loss: 0.0013\n",
            "Epoch 16/100\n",
            "6834/6834 [==============================] - 1s 131us/step - loss: 0.0019 - val_loss: 0.0012\n",
            "Epoch 17/100\n",
            "6834/6834 [==============================] - 1s 127us/step - loss: 0.0018 - val_loss: 0.0012\n",
            "Epoch 18/100\n",
            "6834/6834 [==============================] - 1s 130us/step - loss: 0.0017 - val_loss: 0.0012\n",
            "Epoch 19/100\n",
            "6834/6834 [==============================] - 1s 128us/step - loss: 0.0017 - val_loss: 0.0011\n",
            "Epoch 20/100\n",
            "6834/6834 [==============================] - 1s 126us/step - loss: 0.0016 - val_loss: 0.0011\n",
            "Epoch 21/100\n",
            "6834/6834 [==============================] - 1s 126us/step - loss: 0.0016 - val_loss: 0.0011\n",
            "Epoch 22/100\n",
            "6834/6834 [==============================] - 1s 122us/step - loss: 0.0015 - val_loss: 0.0010\n",
            "Epoch 23/100\n",
            "6834/6834 [==============================] - 1s 132us/step - loss: 0.0015 - val_loss: 0.0011\n",
            "Epoch 24/100\n",
            "6834/6834 [==============================] - 1s 137us/step - loss: 0.0014 - val_loss: 0.0010\n",
            "Epoch 25/100\n",
            "6834/6834 [==============================] - 1s 138us/step - loss: 0.0014 - val_loss: 0.0011\n",
            "Epoch 26/100\n",
            "6834/6834 [==============================] - 1s 140us/step - loss: 0.0013 - val_loss: 9.7892e-04\n",
            "Epoch 27/100\n",
            "6834/6834 [==============================] - 1s 143us/step - loss: 0.0013 - val_loss: 0.0010\n",
            "Epoch 28/100\n",
            "6834/6834 [==============================] - 1s 137us/step - loss: 0.0013 - val_loss: 9.5070e-04\n",
            "Epoch 29/100\n",
            "6834/6834 [==============================] - 1s 133us/step - loss: 0.0011 - val_loss: 9.7453e-04\n",
            "Epoch 30/100\n",
            "6834/6834 [==============================] - 1s 136us/step - loss: 0.0012 - val_loss: 9.4296e-04\n",
            "Epoch 31/100\n",
            "6834/6834 [==============================] - 1s 132us/step - loss: 0.0011 - val_loss: 9.4363e-04\n",
            "Epoch 32/100\n",
            "6834/6834 [==============================] - 1s 132us/step - loss: 0.0011 - val_loss: 9.3333e-04\n",
            "Epoch 33/100\n",
            "6834/6834 [==============================] - 1s 136us/step - loss: 0.0011 - val_loss: 9.1289e-04\n",
            "Epoch 34/100\n",
            "6834/6834 [==============================] - 1s 134us/step - loss: 0.0011 - val_loss: 9.2156e-04\n",
            "Epoch 35/100\n",
            "6834/6834 [==============================] - 1s 139us/step - loss: 0.0010 - val_loss: 9.2059e-04\n",
            "Epoch 36/100\n",
            "6834/6834 [==============================] - 1s 137us/step - loss: 0.0010 - val_loss: 9.1932e-04\n",
            "Epoch 37/100\n",
            "6834/6834 [==============================] - 1s 132us/step - loss: 0.0010 - val_loss: 8.8900e-04\n",
            "Epoch 38/100\n",
            "6834/6834 [==============================] - 1s 133us/step - loss: 9.6714e-04 - val_loss: 8.8635e-04\n",
            "Epoch 39/100\n",
            "6834/6834 [==============================] - 1s 131us/step - loss: 9.3430e-04 - val_loss: 8.7701e-04\n",
            "Epoch 40/100\n",
            "6834/6834 [==============================] - 1s 131us/step - loss: 9.1113e-04 - val_loss: 8.9831e-04\n",
            "Epoch 41/100\n",
            "6834/6834 [==============================] - 1s 132us/step - loss: 8.6300e-04 - val_loss: 9.1800e-04\n",
            "Epoch 42/100\n",
            "6834/6834 [==============================] - 1s 131us/step - loss: 9.3302e-04 - val_loss: 8.9302e-04\n",
            "Epoch 43/100\n",
            "6834/6834 [==============================] - 1s 130us/step - loss: 8.5187e-04 - val_loss: 9.0367e-04\n",
            "Epoch 44/100\n",
            "6834/6834 [==============================] - 1s 131us/step - loss: 8.8661e-04 - val_loss: 8.7842e-04\n",
            "Epoch 45/100\n",
            "6834/6834 [==============================] - 1s 132us/step - loss: 8.7024e-04 - val_loss: 8.4658e-04\n",
            "Epoch 46/100\n",
            "6834/6834 [==============================] - 1s 134us/step - loss: 8.6677e-04 - val_loss: 8.4574e-04\n",
            "Epoch 47/100\n",
            "6834/6834 [==============================] - 1s 137us/step - loss: 8.6459e-04 - val_loss: 8.4191e-04\n",
            "Epoch 48/100\n",
            "6834/6834 [==============================] - 1s 133us/step - loss: 7.4185e-04 - val_loss: 8.4134e-04\n",
            "Epoch 49/100\n",
            "6834/6834 [==============================] - 1s 132us/step - loss: 7.6319e-04 - val_loss: 8.3800e-04\n",
            "Epoch 50/100\n",
            "6834/6834 [==============================] - 1s 133us/step - loss: 7.3002e-04 - val_loss: 8.8384e-04\n",
            "Epoch 51/100\n",
            "6834/6834 [==============================] - 1s 129us/step - loss: 8.0493e-04 - val_loss: 8.6070e-04\n",
            "Epoch 52/100\n",
            "6834/6834 [==============================] - 1s 129us/step - loss: 7.8504e-04 - val_loss: 8.1159e-04\n",
            "Epoch 53/100\n",
            "6834/6834 [==============================] - 1s 133us/step - loss: 7.3911e-04 - val_loss: 8.2505e-04\n",
            "Epoch 54/100\n",
            "6834/6834 [==============================] - 1s 131us/step - loss: 7.6055e-04 - val_loss: 8.2557e-04\n",
            "Epoch 55/100\n",
            "6834/6834 [==============================] - 1s 140us/step - loss: 6.9481e-04 - val_loss: 8.3379e-04\n",
            "Epoch 56/100\n",
            "6834/6834 [==============================] - 1s 138us/step - loss: 6.9681e-04 - val_loss: 7.7358e-04\n",
            "Epoch 57/100\n",
            "6834/6834 [==============================] - 1s 136us/step - loss: 6.5762e-04 - val_loss: 7.9754e-04\n",
            "Epoch 58/100\n",
            "6834/6834 [==============================] - 1s 133us/step - loss: 7.0573e-04 - val_loss: 7.7134e-04\n",
            "Epoch 59/100\n",
            "6834/6834 [==============================] - 1s 134us/step - loss: 6.7145e-04 - val_loss: 8.0837e-04\n",
            "Epoch 60/100\n",
            "6834/6834 [==============================] - 1s 131us/step - loss: 6.6928e-04 - val_loss: 7.9652e-04\n",
            "Epoch 61/100\n",
            "6834/6834 [==============================] - 1s 129us/step - loss: 6.3063e-04 - val_loss: 7.8178e-04\n",
            "Epoch 62/100\n",
            "6834/6834 [==============================] - 1s 131us/step - loss: 6.7981e-04 - val_loss: 7.7040e-04\n",
            "Epoch 63/100\n",
            "6834/6834 [==============================] - 1s 130us/step - loss: 6.2339e-04 - val_loss: 7.8573e-04\n",
            "Epoch 64/100\n",
            "6834/6834 [==============================] - 1s 135us/step - loss: 6.6943e-04 - val_loss: 7.4885e-04\n",
            "Epoch 65/100\n",
            "6834/6834 [==============================] - 1s 135us/step - loss: 6.2597e-04 - val_loss: 7.5916e-04\n",
            "Epoch 66/100\n",
            "6834/6834 [==============================] - 1s 132us/step - loss: 6.2369e-04 - val_loss: 7.3306e-04\n",
            "Epoch 67/100\n",
            "6834/6834 [==============================] - 1s 132us/step - loss: 5.8626e-04 - val_loss: 7.5553e-04\n",
            "Epoch 68/100\n",
            "6834/6834 [==============================] - 1s 133us/step - loss: 6.0977e-04 - val_loss: 7.8314e-04\n",
            "Epoch 69/100\n",
            "6834/6834 [==============================] - 1s 139us/step - loss: 6.0797e-04 - val_loss: 7.4120e-04\n",
            "Epoch 70/100\n",
            "6834/6834 [==============================] - 1s 132us/step - loss: 6.0516e-04 - val_loss: 7.2891e-04\n",
            "Epoch 71/100\n",
            "6834/6834 [==============================] - 1s 138us/step - loss: 5.6919e-04 - val_loss: 7.4150e-04\n",
            "Epoch 72/100\n",
            "6834/6834 [==============================] - 1s 131us/step - loss: 5.5559e-04 - val_loss: 7.1939e-04\n",
            "Epoch 73/100\n",
            "6834/6834 [==============================] - 1s 133us/step - loss: 6.4082e-04 - val_loss: 7.1901e-04\n",
            "Epoch 74/100\n",
            "6834/6834 [==============================] - 1s 132us/step - loss: 5.8533e-04 - val_loss: 7.2865e-04\n",
            "Epoch 75/100\n",
            "6834/6834 [==============================] - 1s 133us/step - loss: 5.1987e-04 - val_loss: 7.3110e-04\n",
            "Epoch 76/100\n",
            "6834/6834 [==============================] - 1s 134us/step - loss: 5.5752e-04 - val_loss: 7.0439e-04\n",
            "Epoch 77/100\n",
            "6834/6834 [==============================] - 1s 132us/step - loss: 5.8054e-04 - val_loss: 6.9971e-04\n",
            "Epoch 78/100\n",
            "6834/6834 [==============================] - 1s 130us/step - loss: 5.7249e-04 - val_loss: 6.7470e-04\n",
            "Epoch 79/100\n",
            "6834/6834 [==============================] - 1s 132us/step - loss: 5.8523e-04 - val_loss: 7.2678e-04\n",
            "Epoch 80/100\n",
            "6834/6834 [==============================] - 1s 134us/step - loss: 5.5488e-04 - val_loss: 6.7838e-04\n",
            "Epoch 81/100\n",
            "6834/6834 [==============================] - 1s 132us/step - loss: 4.9149e-04 - val_loss: 6.8653e-04\n",
            "Epoch 82/100\n",
            "6834/6834 [==============================] - 1s 133us/step - loss: 5.0967e-04 - val_loss: 6.8475e-04\n",
            "Epoch 83/100\n",
            "6834/6834 [==============================] - 1s 131us/step - loss: 5.1623e-04 - val_loss: 6.9656e-04\n",
            "Epoch 84/100\n",
            "6834/6834 [==============================] - 1s 131us/step - loss: 5.0789e-04 - val_loss: 6.8053e-04\n",
            "Epoch 85/100\n",
            "6834/6834 [==============================] - 1s 132us/step - loss: 5.1113e-04 - val_loss: 6.5916e-04\n",
            "Epoch 86/100\n",
            "6834/6834 [==============================] - 1s 131us/step - loss: 5.0571e-04 - val_loss: 6.8784e-04\n",
            "Epoch 87/100\n",
            "6834/6834 [==============================] - 1s 131us/step - loss: 5.4187e-04 - val_loss: 6.7712e-04\n",
            "Epoch 88/100\n",
            "6834/6834 [==============================] - 1s 134us/step - loss: 4.6629e-04 - val_loss: 6.6409e-04\n",
            "Epoch 89/100\n",
            "6834/6834 [==============================] - 1s 133us/step - loss: 4.5841e-04 - val_loss: 6.7850e-04\n",
            "Epoch 90/100\n",
            "6834/6834 [==============================] - 1s 131us/step - loss: 5.0018e-04 - val_loss: 6.3904e-04\n",
            "Epoch 91/100\n",
            "6834/6834 [==============================] - 1s 138us/step - loss: 5.5308e-04 - val_loss: 6.9963e-04\n",
            "Epoch 92/100\n",
            "6834/6834 [==============================] - 1s 133us/step - loss: 4.6055e-04 - val_loss: 6.7831e-04\n",
            "Epoch 93/100\n",
            "6834/6834 [==============================] - 1s 134us/step - loss: 5.1013e-04 - val_loss: 6.4713e-04\n",
            "Epoch 94/100\n",
            "6834/6834 [==============================] - 1s 134us/step - loss: 4.6425e-04 - val_loss: 6.4257e-04\n",
            "Epoch 95/100\n",
            "6834/6834 [==============================] - 1s 127us/step - loss: 4.5512e-04 - val_loss: 6.7050e-04\n",
            "Epoch 96/100\n",
            "6834/6834 [==============================] - 1s 127us/step - loss: 4.8629e-04 - val_loss: 6.5300e-04\n",
            "Epoch 97/100\n",
            "6834/6834 [==============================] - 1s 134us/step - loss: 4.3672e-04 - val_loss: 6.3531e-04\n",
            "Epoch 98/100\n",
            "6834/6834 [==============================] - 1s 133us/step - loss: 4.6890e-04 - val_loss: 6.5192e-04\n",
            "Epoch 99/100\n",
            "6834/6834 [==============================] - 1s 133us/step - loss: 5.0331e-04 - val_loss: 6.4570e-04\n",
            "Epoch 100/100\n",
            "6834/6834 [==============================] - 1s 132us/step - loss: 4.4906e-04 - val_loss: 6.5045e-04\n"
          ],
          "name": "stdout"
        }
      ]
    },
    {
      "cell_type": "code",
      "metadata": {
        "id": "AgwhsL_jOND6",
        "colab_type": "code",
        "colab": {
          "base_uri": "https://localhost:8080/",
          "height": 296
        },
        "outputId": "c7c02e61-6f8f-4577-cf41-59fd631ba79d"
      },
      "source": [
        "plt.figure(0)\n",
        "plt.plot(hr.history['loss'], 'r')\n",
        "plt.plot(hr.history['val_loss'], 'g')\n",
        "plt.xlabel('n epochs')\n",
        "plt.ylabel('loss')"
      ],
      "execution_count": null,
      "outputs": [
        {
          "output_type": "execute_result",
          "data": {
            "text/plain": [
              "Text(0, 0.5, 'loss')"
            ]
          },
          "metadata": {
            "tags": []
          },
          "execution_count": 236
        },
        {
          "output_type": "display_data",
          "data": {
            "image/png": "[encoded data removed]",
            "text/plain": [
              "<Figure size 432x288 with 1 Axes>"
            ]
          },
          "metadata": {
            "tags": [],
            "needs_background": "light"
          }
        }
      ]
    },
    {
      "cell_type": "code",
      "metadata": {
        "id": "EKmjMD4CR1LD",
        "colab_type": "code",
        "colab": {
          "base_uri": "https://localhost:8080/",
          "height": 51
        },
        "outputId": "49aed3b0-a5b0-45eb-981a-dd107a697557"
      },
      "source": [
        "loss = modelr.evaluate(data_full_test_norm, testY_norm)\n",
        "print(f'Loss={loss}')"
      ],
      "execution_count": null,
      "outputs": [
        {
          "output_type": "stream",
          "text": [
            "2172/2172 [==============================] - 0s 58us/step\n",
            "Loss=0.000890565831199182\n"
          ],
          "name": "stdout"
        }
      ]
    },
    {
      "cell_type": "code",
      "metadata": {
        "id": "JtZwUQZkSNoU",
        "colab_type": "code",
        "colab": {
          "base_uri": "https://localhost:8080/",
          "height": 282
        },
        "outputId": "08c827e3-c3cb-4c4e-bd89-d4054062cd6a"
      },
      "source": [
        "y_pred = modelr.predict(data_full_test_norm)\n",
        "y_pred_denorm = y_pred[:, 0] * maxPrice\n",
        "y_test_denorm = testY_norm * maxPrice\n",
        "error_denorm = np.abs(y_pred_denorm - y_test_denorm)\n",
        "plt.plot(range(y_pred.shape[0]), error_denorm)\n",
        "print(f'Error medio absoluto: {error_denorm.mean()}')"
      ],
      "execution_count": null,
      "outputs": [
        {
          "output_type": "stream",
          "text": [
            "Error medio absoluto: 15.452216904466324\n"
          ],
          "name": "stdout"
        },
        {
          "output_type": "display_data",
          "data": {
            "image/png": "[encoded data removed]",
            "text/plain": [
              "<Figure size 432x288 with 1 Axes>"
            ]
          },
          "metadata": {
            "tags": [],
            "needs_background": "light"
          }
        }
      ]
    },
    {
      "cell_type": "code",
      "metadata": {
        "id": "NIwujxQLShZc",
        "colab_type": "code",
        "colab": {
          "base_uri": "https://localhost:8080/",
          "height": 1000
        },
        "outputId": "b8a353f7-ba0b-4088-82ea-7efb7a7becf9"
      },
      "source": [
        "for y, pred, error in zip(y_test_denorm, y_pred_denorm, error_denorm):\n",
        "  print(f'Valor: {y:.2f} Predición: {pred:.2f}. Error: {error:.2f}')"
      ],
      "execution_count": null,
      "outputs": [
        {
          "output_type": "stream",
          "text": [
            "Valor: 25.00 Predición: 34.39. Error: 9.39\n",
            "Valor: 65.00 Predición: 38.30. Error: 26.70\n",
            "Valor: 23.00 Predición: 25.82. Error: 2.82\n",
            "Valor: 68.00 Predición: 94.56. Error: 26.56\n",
            "Valor: 28.00 Predición: 31.85. Error: 3.85\n",
            "Valor: 65.00 Predición: 66.38. Error: 1.38\n",
            "Valor: 60.00 Predición: 76.44. Error: 16.44\n",
            "Valor: 30.00 Predición: 32.94. Error: 2.94\n",
            "Valor: 210.00 Predición: 159.13. Error: 50.87\n",
            "Valor: 40.00 Predición: 56.44. Error: 16.44\n",
            "Valor: 36.00 Predición: 28.65. Error: 7.35\n",
            "Valor: 43.00 Predición: 48.86. Error: 5.86\n",
            "Valor: 89.00 Predición: 68.09. Error: 20.91\n",
            "Valor: 32.00 Predición: 31.34. Error: 0.66\n",
            "Valor: 110.00 Predición: 87.19. Error: 22.81\n",
            "Valor: 75.00 Predición: 58.04. Error: 16.96\n",
            "Valor: 20.00 Predición: 33.84. Error: 13.84\n",
            "Valor: 300.00 Predición: 91.30. Error: 208.70\n",
            "Valor: 25.00 Predición: 37.50. Error: 12.50\n",
            "Valor: 25.00 Predición: 29.57. Error: 4.57\n",
            "Valor: 39.00 Predición: 54.26. Error: 15.26\n",
            "Valor: 45.00 Predición: 42.00. Error: 3.00\n",
            "Valor: 36.00 Predición: 51.42. Error: 15.42\n",
            "Valor: 40.00 Predición: 36.37. Error: 3.63\n",
            "Valor: 69.00 Predición: 42.32. Error: 26.68\n",
            "Valor: 80.00 Predición: 74.94. Error: 5.06\n",
            "Valor: 65.00 Predición: 49.13. Error: 15.87\n",
            "Valor: 25.00 Predición: 34.13. Error: 9.13\n",
            "Valor: 42.00 Predición: 42.09. Error: 0.09\n",
            "Valor: 35.00 Predición: 34.55. Error: 0.45\n",
            "Valor: 11.00 Predición: 26.19. Error: 15.19\n",
            "Valor: 50.00 Predición: 33.92. Error: 16.08\n",
            "Valor: 26.00 Predición: 36.27. Error: 10.27\n",
            "Valor: 37.00 Predición: 41.81. Error: 4.81\n",
            "Valor: 25.00 Predición: 30.18. Error: 5.18\n",
            "Valor: 54.00 Predición: 41.11. Error: 12.89\n",
            "Valor: 25.00 Predición: 28.88. Error: 3.88\n",
            "Valor: 110.00 Predición: 101.25. Error: 8.75\n",
            "Valor: 20.00 Predición: 31.01. Error: 11.01\n",
            "Valor: 33.00 Predición: 36.38. Error: 3.38\n",
            "Valor: 60.00 Predición: 66.24. Error: 6.24\n",
            "Valor: 50.00 Predición: 73.46. Error: 23.46\n",
            "Valor: 50.00 Predición: 72.60. Error: 22.60\n",
            "Valor: 50.00 Predición: 79.90. Error: 29.90\n",
            "Valor: 150.00 Predición: 198.58. Error: 48.58\n",
            "Valor: 80.00 Predición: 48.55. Error: 31.45\n",
            "Valor: 75.00 Predición: 57.73. Error: 17.27\n",
            "Valor: 71.00 Predición: 67.33. Error: 3.67\n",
            "Valor: 43.00 Predición: 32.98. Error: 10.02\n",
            "Valor: 25.00 Predición: 35.46. Error: 10.46\n",
            "Valor: 36.00 Predición: 31.14. Error: 4.86\n",
            "Valor: 120.00 Predición: 135.82. Error: 15.82\n",
            "Valor: 33.00 Predición: 30.63. Error: 2.37\n",
            "Valor: 18.00 Predición: 31.40. Error: 13.40\n",
            "Valor: 22.00 Predición: 36.82. Error: 14.82\n",
            "Valor: 106.00 Predición: 95.25. Error: 10.75\n",
            "Valor: 35.00 Predición: 33.57. Error: 1.43\n",
            "Valor: 40.00 Predición: 33.15. Error: 6.85\n",
            "Valor: 59.00 Predición: 68.04. Error: 9.04\n",
            "Valor: 17.00 Predición: 37.27. Error: 20.27\n",
            "Valor: 25.00 Predición: 36.24. Error: 11.24\n",
            "Valor: 99.00 Predición: 143.17. Error: 44.17\n",
            "Valor: 30.00 Predición: 63.51. Error: 33.51\n",
            "Valor: 40.00 Predición: 68.23. Error: 28.23\n",
            "Valor: 15.00 Predición: 25.82. Error: 10.82\n",
            "Valor: 149.00 Predición: 134.14. Error: 14.86\n",
            "Valor: 55.00 Predición: 61.54. Error: 6.54\n",
            "Valor: 25.00 Predición: 30.49. Error: 5.49\n",
            "Valor: 120.00 Predición: 103.22. Error: 16.78\n",
            "Valor: 35.00 Predición: 56.75. Error: 21.75\n",
            "Valor: 45.00 Predición: 29.42. Error: 15.58\n",
            "Valor: 50.00 Predición: 44.97. Error: 5.03\n",
            "Valor: 149.00 Predición: 106.81. Error: 42.19\n",
            "Valor: 25.00 Predición: 33.53. Error: 8.53\n",
            "Valor: 75.00 Predición: 74.91. Error: 0.09\n",
            "Valor: 82.00 Predición: 91.42. Error: 9.42\n",
            "Valor: 29.00 Predición: 28.10. Error: 0.90\n",
            "Valor: 29.00 Predición: 27.22. Error: 1.78\n",
            "Valor: 23.00 Predición: 33.94. Error: 10.94\n",
            "Valor: 22.00 Predición: 18.05. Error: 3.95\n",
            "Valor: 48.00 Predición: 52.55. Error: 4.55\n",
            "Valor: 100.00 Predición: 93.06. Error: 6.94\n",
            "Valor: 20.00 Predición: 25.47. Error: 5.47\n",
            "Valor: 19.00 Predición: 22.27. Error: 3.27\n",
            "Valor: 30.00 Predición: 38.02. Error: 8.02\n",
            "Valor: 49.00 Predición: 62.47. Error: 13.47\n",
            "Valor: 55.00 Predición: 37.57. Error: 17.43\n",
            "Valor: 85.00 Predición: 103.45. Error: 18.45\n",
            "Valor: 56.00 Predición: 100.17. Error: 44.17\n",
            "Valor: 125.00 Predición: 111.58. Error: 13.42\n",
            "Valor: 28.00 Predición: 36.60. Error: 8.60\n",
            "Valor: 20.00 Predición: 22.49. Error: 2.49\n",
            "Valor: 80.00 Predición: 97.94. Error: 17.94\n",
            "Valor: 70.00 Predición: 82.13. Error: 12.13\n",
            "Valor: 80.00 Predición: 82.15. Error: 2.15\n",
            "Valor: 20.00 Predición: 30.32. Error: 10.32\n",
            "Valor: 40.00 Predición: 56.28. Error: 16.28\n",
            "Valor: 120.00 Predición: 150.99. Error: 30.99\n",
            "Valor: 46.00 Predición: 52.47. Error: 6.47\n",
            "Valor: 35.00 Predición: 33.68. Error: 1.32\n",
            "Valor: 75.00 Predición: 42.83. Error: 32.17\n",
            "Valor: 35.00 Predición: 34.26. Error: 0.74\n",
            "Valor: 20.00 Predición: 34.03. Error: 14.03\n",
            "Valor: 70.00 Predición: 67.65. Error: 2.35\n",
            "Valor: 100.00 Predición: 63.77. Error: 36.23\n",
            "Valor: 42.00 Predición: 70.28. Error: 28.28\n",
            "Valor: 60.00 Predición: 51.06. Error: 8.94\n",
            "Valor: 360.00 Predición: 251.13. Error: 108.87\n",
            "Valor: 21.00 Predición: 38.02. Error: 17.02\n",
            "Valor: 80.00 Predición: 72.73. Error: 7.27\n",
            "Valor: 90.00 Predición: 82.78. Error: 7.22\n",
            "Valor: 79.00 Predición: 52.54. Error: 26.46\n",
            "Valor: 51.00 Predición: 56.41. Error: 5.41\n",
            "Valor: 46.00 Predición: 39.16. Error: 6.84\n",
            "Valor: 80.00 Predición: 87.40. Error: 7.40\n",
            "Valor: 70.00 Predición: 58.67. Error: 11.33\n",
            "Valor: 17.00 Predición: 30.08. Error: 13.08\n",
            "Valor: 70.00 Predición: 79.49. Error: 9.49\n",
            "Valor: 30.00 Predición: 35.58. Error: 5.58\n",
            "Valor: 105.00 Predición: 76.17. Error: 28.83\n",
            "Valor: 30.00 Predición: 27.40. Error: 2.60\n",
            "Valor: 130.00 Predición: 126.57. Error: 3.43\n",
            "Valor: 70.00 Predición: 50.58. Error: 19.42\n",
            "Valor: 23.00 Predición: 30.64. Error: 7.64\n",
            "Valor: 45.00 Predición: 38.65. Error: 6.35\n",
            "Valor: 60.00 Predición: 115.05. Error: 55.05\n",
            "Valor: 65.00 Predición: 54.40. Error: 10.60\n",
            "Valor: 25.00 Predición: 37.20. Error: 12.20\n",
            "Valor: 99.00 Predición: 121.49. Error: 22.49\n",
            "Valor: 160.00 Predición: 157.83. Error: 2.17\n",
            "Valor: 22.00 Predición: 39.58. Error: 17.58\n",
            "Valor: 45.00 Predición: 41.40. Error: 3.60\n",
            "Valor: 34.00 Predición: 40.52. Error: 6.52\n",
            "Valor: 25.00 Predición: 32.29. Error: 7.29\n",
            "Valor: 59.00 Predición: 78.01. Error: 19.01\n",
            "Valor: 237.00 Predición: 174.38. Error: 62.62\n",
            "Valor: 75.00 Predición: 133.47. Error: 58.47\n",
            "Valor: 99.00 Predición: 83.49. Error: 15.51\n",
            "Valor: 65.00 Predición: 56.73. Error: 8.27\n",
            "Valor: 51.00 Predición: 61.84. Error: 10.84\n",
            "Valor: 67.00 Predición: 68.28. Error: 1.28\n",
            "Valor: 80.00 Predición: 77.42. Error: 2.58\n",
            "Valor: 45.00 Predición: 35.39. Error: 9.61\n",
            "Valor: 20.00 Predición: 38.23. Error: 18.23\n",
            "Valor: 33.00 Predición: 37.51. Error: 4.51\n",
            "Valor: 65.00 Predición: 73.90. Error: 8.90\n",
            "Valor: 50.00 Predición: 55.53. Error: 5.53\n",
            "Valor: 67.00 Predición: 64.29. Error: 2.71\n",
            "Valor: 48.00 Predición: 47.87. Error: 0.13\n",
            "Valor: 75.00 Predición: 46.37. Error: 28.63\n",
            "Valor: 338.00 Predición: 235.04. Error: 102.96\n",
            "Valor: 20.00 Predición: 34.79. Error: 14.79\n",
            "Valor: 18.00 Predición: 29.44. Error: 11.44\n",
            "Valor: 60.00 Predición: 134.71. Error: 74.71\n",
            "Valor: 60.00 Predición: 89.04. Error: 29.04\n",
            "Valor: 45.00 Predición: 35.76. Error: 9.24\n",
            "Valor: 29.00 Predición: 26.68. Error: 2.32\n",
            "Valor: 30.00 Predición: 43.67. Error: 13.67\n",
            "Valor: 68.00 Predición: 88.43. Error: 20.43\n",
            "Valor: 19.00 Predición: 24.14. Error: 5.14\n",
            "Valor: 85.00 Predición: 60.77. Error: 24.23\n",
            "Valor: 250.00 Predición: 251.78. Error: 1.78\n",
            "Valor: 25.00 Predición: 38.27. Error: 13.27\n",
            "Valor: 20.00 Predición: 26.87. Error: 6.87\n",
            "Valor: 63.00 Predición: 42.41. Error: 20.59\n",
            "Valor: 19.00 Predición: 36.39. Error: 17.39\n",
            "Valor: 12.00 Predición: 29.60. Error: 17.60\n",
            "Valor: 22.00 Predición: 34.92. Error: 12.92\n",
            "Valor: 140.00 Predición: 144.55. Error: 4.55\n",
            "Valor: 32.00 Predición: 34.48. Error: 2.48\n",
            "Valor: 20.00 Predición: 28.46. Error: 8.46\n",
            "Valor: 29.00 Predición: 37.03. Error: 8.03\n",
            "Valor: 65.00 Predición: 54.46. Error: 10.54\n",
            "Valor: 79.00 Predición: 52.65. Error: 26.35\n",
            "Valor: 120.00 Predición: 130.19. Error: 10.19\n",
            "Valor: 42.00 Predición: 57.17. Error: 15.17\n",
            "Valor: 62.00 Predición: 60.75. Error: 1.25\n",
            "Valor: 125.00 Predición: 99.73. Error: 25.27\n",
            "Valor: 40.00 Predición: 39.32. Error: 0.68\n",
            "Valor: 59.00 Predición: 54.18. Error: 4.82\n",
            "Valor: 20.00 Predición: 27.84. Error: 7.84\n",
            "Valor: 90.00 Predición: 83.87. Error: 6.13\n",
            "Valor: 33.00 Predición: 30.41. Error: 2.59\n",
            "Valor: 133.00 Predición: 116.40. Error: 16.60\n",
            "Valor: 400.00 Predición: 262.07. Error: 137.93\n",
            "Valor: 48.00 Predición: 40.49. Error: 7.51\n",
            "Valor: 28.00 Predición: 40.37. Error: 12.37\n",
            "Valor: 159.00 Predición: 141.12. Error: 17.88\n",
            "Valor: 80.00 Predición: 60.52. Error: 19.48\n",
            "Valor: 70.00 Predición: 127.88. Error: 57.88\n",
            "Valor: 20.00 Predición: 34.03. Error: 14.03\n",
            "Valor: 67.00 Predición: 103.19. Error: 36.19\n",
            "Valor: 60.00 Predición: 56.67. Error: 3.33\n",
            "Valor: 91.00 Predición: 127.19. Error: 36.19\n",
            "Valor: 20.00 Predición: 35.14. Error: 15.14\n",
            "Valor: 85.00 Predición: 81.89. Error: 3.11\n",
            "Valor: 174.00 Predición: 152.37. Error: 21.63\n",
            "Valor: 27.00 Predición: 35.44. Error: 8.44\n",
            "Valor: 48.00 Predición: 38.32. Error: 9.68\n",
            "Valor: 32.00 Predición: 47.73. Error: 15.73\n",
            "Valor: 70.00 Predición: 86.17. Error: 16.17\n",
            "Valor: 23.00 Predición: 20.59. Error: 2.41\n",
            "Valor: 46.00 Predición: 36.56. Error: 9.44\n",
            "Valor: 50.00 Predición: 67.36. Error: 17.36\n",
            "Valor: 40.00 Predición: 38.79. Error: 1.21\n",
            "Valor: 20.00 Predición: 32.20. Error: 12.20\n",
            "Valor: 38.00 Predición: 34.56. Error: 3.44\n",
            "Valor: 42.00 Predición: 32.07. Error: 9.93\n",
            "Valor: 50.00 Predición: 35.74. Error: 14.26\n",
            "Valor: 70.00 Predición: 64.68. Error: 5.32\n",
            "Valor: 75.00 Predición: 84.16. Error: 9.16\n",
            "Valor: 98.00 Predición: 103.62. Error: 5.62\n",
            "Valor: 10.00 Predición: 19.15. Error: 9.15\n",
            "Valor: 50.00 Predición: 37.78. Error: 12.22\n",
            "Valor: 65.00 Predición: 51.15. Error: 13.85\n",
            "Valor: 53.00 Predición: 42.85. Error: 10.15\n",
            "Valor: 25.00 Predición: 35.12. Error: 10.12\n",
            "Valor: 80.00 Predición: 41.94. Error: 38.06\n",
            "Valor: 35.00 Predición: 34.96. Error: 0.04\n",
            "Valor: 96.00 Predición: 83.82. Error: 12.18\n",
            "Valor: 20.00 Predición: 39.87. Error: 19.87\n",
            "Valor: 45.00 Predición: 28.28. Error: 16.72\n",
            "Valor: 56.00 Predición: 41.00. Error: 15.00\n",
            "Valor: 45.00 Predición: 38.93. Error: 6.07\n",
            "Valor: 20.00 Predición: 26.64. Error: 6.64\n",
            "Valor: 50.00 Predición: 84.44. Error: 34.44\n",
            "Valor: 15.00 Predición: 33.62. Error: 18.62\n",
            "Valor: 105.00 Predición: 93.57. Error: 11.43\n",
            "Valor: 45.00 Predición: 36.29. Error: 8.71\n",
            "Valor: 75.00 Predición: 67.02. Error: 7.98\n",
            "Valor: 58.00 Predición: 77.13. Error: 19.13\n",
            "Valor: 60.00 Predición: 64.47. Error: 4.47\n",
            "Valor: 65.00 Predición: 49.27. Error: 15.73\n",
            "Valor: 50.00 Predición: 35.91. Error: 14.09\n",
            "Valor: 17.00 Predición: 35.63. Error: 18.63\n",
            "Valor: 300.00 Predición: 111.17. Error: 188.83\n",
            "Valor: 70.00 Predición: 126.00. Error: 56.00\n",
            "Valor: 45.00 Predición: 34.83. Error: 10.17\n",
            "Valor: 84.00 Predición: 80.54. Error: 3.46\n",
            "Valor: 90.00 Predición: 92.35. Error: 2.35\n",
            "Valor: 18.00 Predición: 33.99. Error: 15.99\n",
            "Valor: 50.00 Predición: 65.84. Error: 15.84\n",
            "Valor: 55.00 Predición: 54.07. Error: 0.93\n",
            "Valor: 80.00 Predición: 52.38. Error: 27.62\n",
            "Valor: 89.00 Predición: 94.53. Error: 5.53\n",
            "Valor: 22.00 Predición: 32.79. Error: 10.79\n",
            "Valor: 21.00 Predición: 25.42. Error: 4.42\n",
            "Valor: 25.00 Predición: 33.34. Error: 8.34\n",
            "Valor: 60.00 Predición: 55.35. Error: 4.65\n",
            "Valor: 69.00 Predición: 112.20. Error: 43.20\n",
            "Valor: 65.00 Predición: 47.51. Error: 17.49\n",
            "Valor: 65.00 Predición: 89.33. Error: 24.33\n",
            "Valor: 52.00 Predición: 33.66. Error: 18.34\n",
            "Valor: 90.00 Predición: 76.18. Error: 13.82\n",
            "Valor: 25.00 Predición: 31.71. Error: 6.71\n",
            "Valor: 69.00 Predición: 66.16. Error: 2.84\n",
            "Valor: 65.00 Predición: 43.77. Error: 21.23\n",
            "Valor: 15.00 Predición: 29.90. Error: 14.90\n",
            "Valor: 25.00 Predición: 42.76. Error: 17.76\n",
            "Valor: 40.00 Predición: 63.56. Error: 23.56\n",
            "Valor: 43.00 Predición: 60.11. Error: 17.11\n",
            "Valor: 26.00 Predición: 33.74. Error: 7.74\n",
            "Valor: 40.00 Predición: 37.54. Error: 2.46\n",
            "Valor: 59.00 Predición: 59.37. Error: 0.37\n",
            "Valor: 50.00 Predición: 76.36. Error: 26.36\n",
            "Valor: 20.00 Predición: 34.93. Error: 14.93\n",
            "Valor: 60.00 Predición: 48.80. Error: 11.20\n",
            "Valor: 29.00 Predición: 33.88. Error: 4.88\n",
            "Valor: 36.00 Predición: 34.49. Error: 1.51\n",
            "Valor: 30.00 Predición: 28.66. Error: 1.34\n",
            "Valor: 20.00 Predición: 40.61. Error: 20.61\n",
            "Valor: 15.00 Predición: 24.32. Error: 9.32\n",
            "Valor: 50.00 Predición: 35.16. Error: 14.84\n",
            "Valor: 90.00 Predición: 111.17. Error: 21.17\n",
            "Valor: 50.00 Predición: 78.11. Error: 28.11\n",
            "Valor: 22.00 Predición: 23.50. Error: 1.50\n",
            "Valor: 25.00 Predición: 34.63. Error: 9.63\n",
            "Valor: 24.00 Predición: 28.40. Error: 4.40\n",
            "Valor: 35.00 Predición: 43.43. Error: 8.43\n",
            "Valor: 70.00 Predición: 57.11. Error: 12.89\n",
            "Valor: 28.00 Predición: 30.69. Error: 2.69\n",
            "Valor: 70.00 Predición: 46.64. Error: 23.36\n",
            "Valor: 35.00 Predición: 32.17. Error: 2.83\n",
            "Valor: 30.00 Predición: 29.88. Error: 0.12\n",
            "Valor: 150.00 Predición: 115.51. Error: 34.49\n",
            "Valor: 54.00 Predición: 84.73. Error: 30.73\n",
            "Valor: 75.00 Predición: 67.43. Error: 7.57\n",
            "Valor: 50.00 Predición: 54.79. Error: 4.79\n",
            "Valor: 25.00 Predición: 28.69. Error: 3.69\n",
            "Valor: 29.00 Predición: 38.88. Error: 9.88\n",
            "Valor: 39.00 Predición: 85.50. Error: 46.50\n",
            "Valor: 50.00 Predición: 36.67. Error: 13.33\n",
            "Valor: 68.00 Predición: 99.32. Error: 31.32\n",
            "Valor: 105.00 Predición: 63.38. Error: 41.62\n",
            "Valor: 49.00 Predición: 66.84. Error: 17.84\n",
            "Valor: 32.00 Predición: 34.43. Error: 2.43\n",
            "Valor: 28.00 Predición: 35.86. Error: 7.86\n",
            "Valor: 70.00 Predición: 86.09. Error: 16.09\n",
            "Valor: 40.00 Predición: 58.55. Error: 18.55\n",
            "Valor: 19.00 Predición: 32.75. Error: 13.75\n",
            "Valor: 56.00 Predición: 91.36. Error: 35.36\n",
            "Valor: 70.00 Predición: 88.22. Error: 18.22\n",
            "Valor: 75.00 Predición: 58.77. Error: 16.23\n",
            "Valor: 59.00 Predición: 59.35. Error: 0.35\n",
            "Valor: 19.00 Predición: 29.39. Error: 10.39\n",
            "Valor: 145.00 Predición: 135.32. Error: 9.68\n",
            "Valor: 25.00 Predición: 45.93. Error: 20.93\n",
            "Valor: 23.00 Predición: 41.53. Error: 18.53\n",
            "Valor: 15.00 Predición: 30.34. Error: 15.34\n",
            "Valor: 75.00 Predición: 107.76. Error: 32.76\n",
            "Valor: 59.00 Predición: 39.25. Error: 19.75\n",
            "Valor: 39.00 Predición: 58.11. Error: 19.11\n",
            "Valor: 85.00 Predición: 61.43. Error: 23.57\n",
            "Valor: 44.00 Predición: 30.29. Error: 13.71\n",
            "Valor: 60.00 Predición: 61.64. Error: 1.64\n",
            "Valor: 15.00 Predición: 26.90. Error: 11.90\n",
            "Valor: 195.00 Predición: 171.94. Error: 23.06\n",
            "Valor: 80.00 Predición: 73.98. Error: 6.02\n",
            "Valor: 14.00 Predición: 26.06. Error: 12.06\n",
            "Valor: 99.00 Predición: 80.80. Error: 18.20\n",
            "Valor: 25.00 Predición: 30.30. Error: 5.30\n",
            "Valor: 145.00 Predición: 174.93. Error: 29.93\n",
            "Valor: 40.00 Predición: 44.76. Error: 4.76\n",
            "Valor: 190.00 Predición: 179.36. Error: 10.64\n",
            "Valor: 49.00 Predición: 55.20. Error: 6.20\n",
            "Valor: 75.00 Predición: 96.46. Error: 21.46\n",
            "Valor: 75.00 Predición: 39.28. Error: 35.72\n",
            "Valor: 125.00 Predición: 111.07. Error: 13.93\n",
            "Valor: 75.00 Predición: 55.01. Error: 19.99\n",
            "Valor: 85.00 Predición: 129.26. Error: 44.26\n",
            "Valor: 160.00 Predición: 140.02. Error: 19.98\n",
            "Valor: 69.00 Predición: 71.11. Error: 2.11\n",
            "Valor: 40.00 Predición: 38.43. Error: 1.57\n",
            "Valor: 52.00 Predición: 68.38. Error: 16.38\n",
            "Valor: 45.00 Predición: 41.89. Error: 3.11\n",
            "Valor: 450.00 Predición: 123.03. Error: 326.97\n",
            "Valor: 75.00 Predición: 72.77. Error: 2.23\n",
            "Valor: 40.00 Predición: 31.91. Error: 8.09\n",
            "Valor: 15.00 Predición: 25.59. Error: 10.59\n",
            "Valor: 50.00 Predición: 40.05. Error: 9.95\n",
            "Valor: 42.00 Predición: 37.58. Error: 4.42\n",
            "Valor: 22.00 Predición: 21.27. Error: 0.73\n",
            "Valor: 30.00 Predición: 31.87. Error: 1.87\n",
            "Valor: 18.00 Predición: 16.33. Error: 1.67\n",
            "Valor: 40.00 Predición: 36.94. Error: 3.06\n",
            "Valor: 18.00 Predición: 29.19. Error: 11.19\n",
            "Valor: 70.00 Predición: 81.10. Error: 11.10\n",
            "Valor: 70.00 Predición: 66.91. Error: 3.09\n",
            "Valor: 27.00 Predición: 32.52. Error: 5.52\n",
            "Valor: 23.00 Predición: 29.22. Error: 6.22\n",
            "Valor: 60.00 Predición: 34.97. Error: 25.03\n",
            "Valor: 120.00 Predición: 135.36. Error: 15.36\n",
            "Valor: 30.00 Predición: 29.65. Error: 0.35\n",
            "Valor: 69.00 Predición: 38.04. Error: 30.96\n",
            "Valor: 120.00 Predición: 141.93. Error: 21.93\n",
            "Valor: 150.00 Predición: 95.84. Error: 54.16\n",
            "Valor: 55.00 Predición: 72.74. Error: 17.74\n",
            "Valor: 49.00 Predición: 52.43. Error: 3.43\n",
            "Valor: 70.00 Predición: 45.23. Error: 24.77\n",
            "Valor: 90.00 Predición: 98.46. Error: 8.46\n",
            "Valor: 10.00 Predición: 28.62. Error: 18.62\n",
            "Valor: 65.00 Predición: 76.44. Error: 11.44\n",
            "Valor: 71.00 Predición: 76.87. Error: 5.87\n",
            "Valor: 16.00 Predición: 25.23. Error: 9.23\n",
            "Valor: 16.00 Predición: 28.42. Error: 12.42\n",
            "Valor: 90.00 Predición: 66.47. Error: 23.53\n",
            "Valor: 65.00 Predición: 64.40. Error: 0.60\n",
            "Valor: 75.00 Predición: 72.53. Error: 2.47\n",
            "Valor: 76.00 Predición: 68.70. Error: 7.30\n",
            "Valor: 25.00 Predición: 34.31. Error: 9.31\n",
            "Valor: 88.00 Predición: 71.09. Error: 16.91\n",
            "Valor: 45.00 Predición: 36.80. Error: 8.20\n",
            "Valor: 90.00 Predición: 89.41. Error: 0.59\n",
            "Valor: 73.00 Predición: 90.93. Error: 17.93\n",
            "Valor: 21.00 Predición: 37.20. Error: 16.20\n",
            "Valor: 90.00 Predición: 86.94. Error: 3.06\n",
            "Valor: 30.00 Predición: 18.50. Error: 11.50\n",
            "Valor: 22.00 Predición: 31.37. Error: 9.37\n",
            "Valor: 80.00 Predición: 96.02. Error: 16.02\n",
            "Valor: 60.00 Predición: 102.46. Error: 42.46\n",
            "Valor: 39.00 Predición: 36.69. Error: 2.31\n",
            "Valor: 30.00 Predición: 32.98. Error: 2.98\n",
            "Valor: 70.00 Predición: 55.62. Error: 14.38\n",
            "Valor: 45.00 Predición: 45.33. Error: 0.33\n",
            "Valor: 58.00 Predición: 54.47. Error: 3.53\n",
            "Valor: 15.00 Predición: 33.61. Error: 18.61\n",
            "Valor: 44.00 Predición: 64.99. Error: 20.99\n",
            "Valor: 77.00 Predición: 72.54. Error: 4.46\n",
            "Valor: 50.00 Predición: 29.25. Error: 20.75\n",
            "Valor: 30.00 Predición: 27.36. Error: 2.64\n",
            "Valor: 45.00 Predición: 61.63. Error: 16.63\n",
            "Valor: 60.00 Predición: 54.12. Error: 5.88\n",
            "Valor: 16.00 Predición: 28.35. Error: 12.35\n",
            "Valor: 31.00 Predición: 31.18. Error: 0.18\n",
            "Valor: 90.00 Predición: 34.89. Error: 55.11\n",
            "Valor: 45.00 Predición: 49.49. Error: 4.49\n",
            "Valor: 27.00 Predición: 38.97. Error: 11.97\n",
            "Valor: 49.00 Predición: 55.94. Error: 6.94\n",
            "Valor: 52.00 Predición: 64.23. Error: 12.23\n",
            "Valor: 29.00 Predición: 35.25. Error: 6.25\n",
            "Valor: 85.00 Predición: 96.40. Error: 11.40\n",
            "Valor: 57.00 Predición: 41.75. Error: 15.25\n",
            "Valor: 45.00 Predición: 38.26. Error: 6.74\n",
            "Valor: 85.00 Predición: 95.85. Error: 10.85\n",
            "Valor: 144.00 Predición: 138.16. Error: 5.84\n",
            "Valor: 70.00 Predición: 79.32. Error: 9.32\n",
            "Valor: 60.00 Predición: 38.72. Error: 21.28\n",
            "Valor: 49.00 Predición: 63.11. Error: 14.11\n",
            "Valor: 65.00 Predición: 41.56. Error: 23.44\n",
            "Valor: 109.00 Predición: 63.03. Error: 45.97\n",
            "Valor: 56.00 Predición: 52.57. Error: 3.43\n",
            "Valor: 180.00 Predición: 60.09. Error: 119.91\n",
            "Valor: 150.00 Predición: 166.53. Error: 16.53\n",
            "Valor: 75.00 Predición: 39.86. Error: 35.14\n",
            "Valor: 60.00 Predición: 80.41. Error: 20.41\n",
            "Valor: 50.00 Predición: 38.49. Error: 11.51\n",
            "Valor: 60.00 Predición: 40.21. Error: 19.79\n",
            "Valor: 18.00 Predición: 30.93. Error: 12.93\n",
            "Valor: 60.00 Predición: 60.67. Error: 0.67\n",
            "Valor: 75.00 Predición: 90.98. Error: 15.98\n",
            "Valor: 55.00 Predición: 63.75. Error: 8.75\n",
            "Valor: 30.00 Predición: 29.10. Error: 0.90\n",
            "Valor: 17.00 Predición: 37.04. Error: 20.04\n",
            "Valor: 60.00 Predición: 64.39. Error: 4.39\n",
            "Valor: 35.00 Predición: 27.11. Error: 7.89\n",
            "Valor: 85.00 Predición: 102.89. Error: 17.89\n",
            "Valor: 60.00 Predición: 65.71. Error: 5.71\n",
            "Valor: 38.00 Predición: 54.47. Error: 16.47\n",
            "Valor: 45.00 Predición: 52.67. Error: 7.67\n",
            "Valor: 30.00 Predición: 30.31. Error: 0.31\n",
            "Valor: 30.00 Predición: 32.30. Error: 2.30\n",
            "Valor: 80.00 Predición: 78.24. Error: 1.76\n",
            "Valor: 70.00 Predición: 80.97. Error: 10.97\n",
            "Valor: 22.00 Predición: 37.00. Error: 15.00\n",
            "Valor: 50.00 Predición: 59.14. Error: 9.14\n",
            "Valor: 22.00 Predición: 37.36. Error: 15.36\n",
            "Valor: 120.00 Predición: 80.49. Error: 39.51\n",
            "Valor: 41.00 Predición: 50.01. Error: 9.01\n",
            "Valor: 62.00 Predición: 54.72. Error: 7.28\n",
            "Valor: 33.00 Predición: 56.17. Error: 23.17\n",
            "Valor: 100.00 Predición: 38.10. Error: 61.90\n",
            "Valor: 25.00 Predición: 32.39. Error: 7.39\n",
            "Valor: 175.00 Predición: 181.40. Error: 6.40\n",
            "Valor: 240.00 Predición: 204.37. Error: 35.63\n",
            "Valor: 65.00 Predición: 49.02. Error: 15.98\n",
            "Valor: 10.00 Predición: 32.87. Error: 22.87\n",
            "Valor: 55.00 Predición: 61.96. Error: 6.96\n",
            "Valor: 33.00 Predición: 28.53. Error: 4.47\n",
            "Valor: 50.00 Predición: 61.62. Error: 11.62\n",
            "Valor: 25.00 Predición: 31.38. Error: 6.38\n",
            "Valor: 99.00 Predición: 66.90. Error: 32.10\n",
            "Valor: 114.00 Predición: 118.48. Error: 4.48\n",
            "Valor: 120.00 Predición: 82.65. Error: 37.35\n",
            "Valor: 125.00 Predición: 110.96. Error: 14.04\n",
            "Valor: 39.00 Predición: 38.08. Error: 0.92\n",
            "Valor: 18.00 Predición: 38.23. Error: 20.23\n",
            "Valor: 60.00 Predición: 76.51. Error: 16.51\n",
            "Valor: 25.00 Predición: 37.38. Error: 12.38\n",
            "Valor: 300.00 Predición: 208.16. Error: 91.84\n",
            "Valor: 75.00 Predición: 88.10. Error: 13.10\n",
            "Valor: 105.00 Predición: 68.74. Error: 36.26\n",
            "Valor: 60.00 Predición: 60.24. Error: 0.24\n",
            "Valor: 95.00 Predición: 96.23. Error: 1.23\n",
            "Valor: 100.00 Predición: 63.49. Error: 36.51\n",
            "Valor: 50.00 Predición: 42.58. Error: 7.42\n",
            "Valor: 30.00 Predición: 36.52. Error: 6.52\n",
            "Valor: 160.00 Predición: 160.76. Error: 0.76\n",
            "Valor: 10.00 Predición: 18.52. Error: 8.52\n",
            "Valor: 59.00 Predición: 44.30. Error: 14.70\n",
            "Valor: 40.00 Predición: 33.60. Error: 6.40\n",
            "Valor: 60.00 Predición: 51.27. Error: 8.73\n",
            "Valor: 100.00 Predición: 102.96. Error: 2.96\n",
            "Valor: 45.00 Predición: 64.93. Error: 19.93\n",
            "Valor: 25.00 Predición: 30.03. Error: 5.03\n",
            "Valor: 100.00 Predición: 48.28. Error: 51.72\n",
            "Valor: 18.00 Predición: 17.91. Error: 0.09\n",
            "Valor: 47.00 Predición: 51.57. Error: 4.57\n",
            "Valor: 59.00 Predición: 73.08. Error: 14.08\n",
            "Valor: 25.00 Predición: 29.69. Error: 4.69\n",
            "Valor: 20.00 Predición: 31.38. Error: 11.38\n",
            "Valor: 25.00 Predición: 31.17. Error: 6.17\n",
            "Valor: 31.00 Predición: 36.76. Error: 5.76\n",
            "Valor: 35.00 Predición: 32.91. Error: 2.09\n",
            "Valor: 30.00 Predición: 28.48. Error: 1.52\n",
            "Valor: 29.00 Predición: 28.04. Error: 0.96\n",
            "Valor: 60.00 Predición: 58.54. Error: 1.46\n",
            "Valor: 92.00 Predición: 92.71. Error: 0.71\n",
            "Valor: 180.00 Predición: 42.58. Error: 137.42\n",
            "Valor: 45.00 Predición: 32.95. Error: 12.05\n",
            "Valor: 80.00 Predición: 48.29. Error: 31.71\n",
            "Valor: 30.00 Predición: 32.10. Error: 2.10\n",
            "Valor: 70.00 Predición: 68.77. Error: 1.23\n",
            "Valor: 25.00 Predición: 35.15. Error: 10.15\n",
            "Valor: 60.00 Predición: 68.66. Error: 8.66\n",
            "Valor: 150.00 Predición: 194.84. Error: 44.84\n",
            "Valor: 210.00 Predición: 203.10. Error: 6.90\n",
            "Valor: 45.00 Predición: 50.92. Error: 5.92\n",
            "Valor: 55.00 Predición: 92.31. Error: 37.31\n",
            "Valor: 22.00 Predición: 21.64. Error: 0.36\n",
            "Valor: 22.00 Predición: 35.37. Error: 13.37\n",
            "Valor: 80.00 Predición: 127.49. Error: 47.49\n",
            "Valor: 65.00 Predición: 46.80. Error: 18.20\n",
            "Valor: 45.00 Predición: 56.90. Error: 11.90\n",
            "Valor: 110.00 Predición: 83.88. Error: 26.12\n",
            "Valor: 60.00 Predición: 52.58. Error: 7.42\n",
            "Valor: 75.00 Predición: 42.30. Error: 32.70\n",
            "Valor: 73.00 Predición: 72.84. Error: 0.16\n",
            "Valor: 20.00 Predición: 34.65. Error: 14.65\n",
            "Valor: 155.00 Predición: 146.43. Error: 8.57\n",
            "Valor: 60.00 Predición: 53.55. Error: 6.45\n",
            "Valor: 30.00 Predición: 25.24. Error: 4.76\n",
            "Valor: 55.00 Predición: 43.63. Error: 11.37\n",
            "Valor: 60.00 Predición: 58.01. Error: 1.99\n",
            "Valor: 18.00 Predición: 24.08. Error: 6.08\n",
            "Valor: 60.00 Predición: 34.57. Error: 25.43\n",
            "Valor: 66.00 Predición: 79.99. Error: 13.99\n",
            "Valor: 27.00 Predición: 42.62. Error: 15.62\n",
            "Valor: 85.00 Predición: 64.21. Error: 20.79\n",
            "Valor: 35.00 Predición: 37.68. Error: 2.68\n",
            "Valor: 125.00 Predición: 140.28. Error: 15.28\n",
            "Valor: 35.00 Predición: 35.41. Error: 0.41\n",
            "Valor: 25.00 Predición: 38.68. Error: 13.68\n",
            "Valor: 33.00 Predición: 34.44. Error: 1.44\n",
            "Valor: 73.00 Predición: 72.03. Error: 0.97\n",
            "Valor: 38.00 Predición: 46.55. Error: 8.55\n",
            "Valor: 160.00 Predición: 98.15. Error: 61.85\n",
            "Valor: 70.00 Predición: 67.68. Error: 2.32\n",
            "Valor: 33.00 Predición: 33.14. Error: 0.14\n",
            "Valor: 80.00 Predición: 67.35. Error: 12.65\n",
            "Valor: 100.00 Predición: 102.16. Error: 2.16\n",
            "Valor: 65.00 Predición: 75.38. Error: 10.38\n",
            "Valor: 59.00 Predición: 109.84. Error: 50.84\n",
            "Valor: 32.00 Predición: 50.26. Error: 18.26\n",
            "Valor: 22.00 Predición: 35.48. Error: 13.48\n",
            "Valor: 30.00 Predición: 33.76. Error: 3.76\n",
            "Valor: 38.00 Predición: 44.01. Error: 6.01\n",
            "Valor: 80.00 Predición: 92.56. Error: 12.56\n",
            "Valor: 60.00 Predición: 43.33. Error: 16.67\n",
            "Valor: 30.00 Predición: 38.35. Error: 8.35\n",
            "Valor: 38.00 Predición: 44.15. Error: 6.15\n",
            "Valor: 49.00 Predición: 46.72. Error: 2.28\n",
            "Valor: 23.00 Predición: 30.33. Error: 7.33\n",
            "Valor: 35.00 Predición: 35.44. Error: 0.44\n",
            "Valor: 30.00 Predición: 30.89. Error: 0.89\n",
            "Valor: 54.00 Predición: 43.20. Error: 10.80\n",
            "Valor: 50.00 Predición: 54.01. Error: 4.01\n",
            "Valor: 160.00 Predición: 186.92. Error: 26.92\n",
            "Valor: 55.00 Predición: 43.62. Error: 11.38\n",
            "Valor: 75.00 Predición: 90.70. Error: 15.70\n",
            "Valor: 185.00 Predición: 205.56. Error: 20.56\n",
            "Valor: 110.00 Predición: 58.25. Error: 51.75\n",
            "Valor: 65.00 Predición: 39.25. Error: 25.75\n",
            "Valor: 48.00 Predición: 50.90. Error: 2.90\n",
            "Valor: 66.00 Predición: 73.96. Error: 7.96\n",
            "Valor: 65.00 Predición: 70.80. Error: 5.80\n",
            "Valor: 90.00 Predición: 79.63. Error: 10.37\n",
            "Valor: 64.00 Predición: 53.61. Error: 10.39\n",
            "Valor: 69.00 Predición: 88.21. Error: 19.21\n",
            "Valor: 25.00 Predición: 45.43. Error: 20.43\n",
            "Valor: 45.00 Predición: 37.10. Error: 7.90\n",
            "Valor: 59.00 Predición: 72.66. Error: 13.66\n",
            "Valor: 50.00 Predición: 57.73. Error: 7.73\n",
            "Valor: 25.00 Predición: 30.05. Error: 5.05\n",
            "Valor: 99.00 Predición: 139.13. Error: 40.13\n",
            "Valor: 85.00 Predición: 105.80. Error: 20.80\n",
            "Valor: 30.00 Predición: 30.51. Error: 0.51\n",
            "Valor: 30.00 Predición: 27.65. Error: 2.35\n",
            "Valor: 35.00 Predición: 35.31. Error: 0.31\n",
            "Valor: 40.00 Predición: 39.59. Error: 0.41\n",
            "Valor: 60.00 Predición: 62.58. Error: 2.58\n",
            "Valor: 45.00 Predición: 64.40. Error: 19.40\n",
            "Valor: 60.00 Predición: 81.65. Error: 21.65\n",
            "Valor: 200.00 Predición: 187.02. Error: 12.98\n",
            "Valor: 18.00 Predición: 37.67. Error: 19.67\n",
            "Valor: 30.00 Predición: 27.83. Error: 2.17\n",
            "Valor: 75.00 Predición: 94.38. Error: 19.38\n",
            "Valor: 30.00 Predición: 44.48. Error: 14.48\n",
            "Valor: 30.00 Predición: 25.17. Error: 4.83\n",
            "Valor: 108.00 Predición: 123.73. Error: 15.73\n",
            "Valor: 20.00 Predición: 33.20. Error: 13.20\n",
            "Valor: 50.00 Predición: 47.84. Error: 2.16\n",
            "Valor: 110.00 Predición: 60.78. Error: 49.22\n",
            "Valor: 85.00 Predición: 39.06. Error: 45.94\n",
            "Valor: 11.00 Predición: 32.85. Error: 21.85\n",
            "Valor: 12.00 Predición: 34.66. Error: 22.66\n",
            "Valor: 75.00 Predición: 73.59. Error: 1.41\n",
            "Valor: 150.00 Predición: 146.15. Error: 3.85\n",
            "Valor: 31.00 Predición: 34.86. Error: 3.86\n",
            "Valor: 50.00 Predición: 63.87. Error: 13.87\n",
            "Valor: 110.00 Predición: 110.05. Error: 0.05\n",
            "Valor: 56.00 Predición: 52.90. Error: 3.10\n",
            "Valor: 48.00 Predición: 57.56. Error: 9.56\n",
            "Valor: 22.00 Predición: 36.13. Error: 14.13\n",
            "Valor: 23.00 Predición: 38.50. Error: 15.50\n",
            "Valor: 35.00 Predición: 38.80. Error: 3.80\n",
            "Valor: 85.00 Predición: 90.57. Error: 5.57\n",
            "Valor: 22.00 Predición: 31.46. Error: 9.46\n",
            "Valor: 57.00 Predición: 65.81. Error: 8.81\n",
            "Valor: 40.00 Predición: 39.28. Error: 0.72\n",
            "Valor: 26.00 Predición: 32.80. Error: 6.80\n",
            "Valor: 68.00 Predición: 55.41. Error: 12.59\n",
            "Valor: 30.00 Predición: 33.98. Error: 3.98\n",
            "Valor: 45.00 Predición: 35.82. Error: 9.18\n",
            "Valor: 20.00 Predición: 41.03. Error: 21.03\n",
            "Valor: 60.00 Predición: 56.05. Error: 3.95\n",
            "Valor: 80.00 Predición: 63.18. Error: 16.82\n",
            "Valor: 79.00 Predición: 57.82. Error: 21.18\n",
            "Valor: 50.00 Predición: 61.01. Error: 11.01\n",
            "Valor: 18.00 Predición: 28.39. Error: 10.39\n",
            "Valor: 29.00 Predición: 30.72. Error: 1.72\n",
            "Valor: 65.00 Predición: 43.54. Error: 21.46\n",
            "Valor: 115.00 Predición: 128.80. Error: 13.80\n",
            "Valor: 35.00 Predición: 37.44. Error: 2.44\n",
            "Valor: 35.00 Predición: 33.47. Error: 1.53\n",
            "Valor: 65.00 Predición: 110.78. Error: 45.78\n",
            "Valor: 25.00 Predición: 39.25. Error: 14.25\n",
            "Valor: 26.00 Predición: 36.06. Error: 10.06\n",
            "Valor: 35.00 Predición: 33.06. Error: 1.94\n",
            "Valor: 50.00 Predición: 42.99. Error: 7.01\n",
            "Valor: 110.00 Predición: 99.05. Error: 10.95\n",
            "Valor: 40.00 Predición: 38.08. Error: 1.92\n",
            "Valor: 45.00 Predición: 61.57. Error: 16.57\n",
            "Valor: 200.00 Predición: 137.78. Error: 62.22\n",
            "Valor: 110.00 Predición: 91.71. Error: 18.29\n",
            "Valor: 79.00 Predición: 77.36. Error: 1.64\n",
            "Valor: 40.00 Predición: 49.70. Error: 9.70\n",
            "Valor: 19.00 Predición: 32.32. Error: 13.32\n",
            "Valor: 20.00 Predición: 36.54. Error: 16.54\n",
            "Valor: 50.00 Predición: 73.58. Error: 23.58\n",
            "Valor: 22.00 Predición: 35.32. Error: 13.32\n",
            "Valor: 40.00 Predición: 28.71. Error: 11.29\n",
            "Valor: 58.00 Predición: 41.25. Error: 16.75\n",
            "Valor: 60.00 Predición: 64.40. Error: 4.40\n",
            "Valor: 40.00 Predición: 34.88. Error: 5.12\n",
            "Valor: 45.00 Predición: 33.97. Error: 11.03\n",
            "Valor: 79.00 Predición: 36.44. Error: 42.56\n",
            "Valor: 25.00 Predición: 31.03. Error: 6.03\n",
            "Valor: 85.00 Predición: 90.46. Error: 5.46\n",
            "Valor: 21.00 Predición: 30.29. Error: 9.29\n",
            "Valor: 19.00 Predición: 23.90. Error: 4.90\n",
            "Valor: 60.00 Predición: 44.12. Error: 15.88\n",
            "Valor: 50.00 Predición: 39.76. Error: 10.24\n",
            "Valor: 155.00 Predición: 174.74. Error: 19.74\n",
            "Valor: 231.00 Predición: 283.04. Error: 52.04\n",
            "Valor: 28.00 Predición: 34.53. Error: 6.53\n",
            "Valor: 34.00 Predición: 34.33. Error: 0.33\n",
            "Valor: 75.00 Predición: 75.09. Error: 0.09\n",
            "Valor: 16.00 Predición: 22.23. Error: 6.23\n",
            "Valor: 148.00 Predición: 154.49. Error: 6.49\n",
            "Valor: 37.00 Predición: 57.83. Error: 20.83\n",
            "Valor: 45.00 Predición: 67.66. Error: 22.66\n",
            "Valor: 113.00 Predición: 45.75. Error: 67.25\n",
            "Valor: 19.00 Predición: 32.49. Error: 13.49\n",
            "Valor: 300.00 Predición: 264.35. Error: 35.65\n",
            "Valor: 90.00 Predición: 142.11. Error: 52.11\n",
            "Valor: 35.00 Predición: 31.29. Error: 3.71\n",
            "Valor: 60.00 Predición: 91.13. Error: 31.13\n",
            "Valor: 41.00 Predición: 64.56. Error: 23.56\n",
            "Valor: 60.00 Predición: 67.33. Error: 7.33\n",
            "Valor: 25.00 Predición: 31.51. Error: 6.51\n",
            "Valor: 28.00 Predición: 30.62. Error: 2.62\n",
            "Valor: 20.00 Predición: 22.24. Error: 2.24\n",
            "Valor: 80.00 Predición: 86.49. Error: 6.49\n",
            "Valor: 49.00 Predición: 52.49. Error: 3.49\n",
            "Valor: 35.00 Predición: 38.72. Error: 3.72\n",
            "Valor: 20.00 Predición: 36.82. Error: 16.82\n",
            "Valor: 70.00 Predición: 89.40. Error: 19.40\n",
            "Valor: 30.00 Predición: 31.34. Error: 1.34\n",
            "Valor: 50.00 Predición: 50.13. Error: 0.13\n",
            "Valor: 150.00 Predición: 162.00. Error: 12.00\n",
            "Valor: 200.00 Predición: 151.43. Error: 48.57\n",
            "Valor: 32.00 Predición: 34.43. Error: 2.43\n",
            "Valor: 37.00 Predición: 23.69. Error: 13.31\n",
            "Valor: 45.00 Predición: 59.84. Error: 14.84\n",
            "Valor: 60.00 Predición: 59.04. Error: 0.96\n",
            "Valor: 27.00 Predición: 39.56. Error: 12.56\n",
            "Valor: 34.00 Predición: 38.69. Error: 4.69\n",
            "Valor: 20.00 Predición: 36.00. Error: 16.00\n",
            "Valor: 75.00 Predición: 54.85. Error: 20.15\n",
            "Valor: 75.00 Predición: 36.02. Error: 38.98\n",
            "Valor: 155.00 Predición: 157.61. Error: 2.61\n",
            "Valor: 195.00 Predición: 173.38. Error: 21.62\n",
            "Valor: 25.00 Predición: 26.72. Error: 1.72\n",
            "Valor: 80.00 Predición: 72.55. Error: 7.45\n",
            "Valor: 29.00 Predición: 35.75. Error: 6.75\n",
            "Valor: 60.00 Predición: 71.30. Error: 11.30\n",
            "Valor: 155.00 Predición: 214.41. Error: 59.41\n",
            "Valor: 50.00 Predición: 29.85. Error: 20.15\n",
            "Valor: 16.00 Predición: 28.16. Error: 12.16\n",
            "Valor: 36.00 Predición: 37.78. Error: 1.78\n",
            "Valor: 259.00 Predición: 203.08. Error: 55.92\n",
            "Valor: 165.00 Predición: 190.17. Error: 25.17\n",
            "Valor: 23.00 Predición: 31.62. Error: 8.62\n",
            "Valor: 41.00 Predición: 45.05. Error: 4.05\n",
            "Valor: 98.00 Predición: 126.88. Error: 28.88\n",
            "Valor: 21.00 Predición: 32.85. Error: 11.85\n",
            "Valor: 26.00 Predición: 64.19. Error: 38.19\n",
            "Valor: 57.00 Predición: 37.45. Error: 19.55\n",
            "Valor: 62.00 Predición: 83.80. Error: 21.80\n",
            "Valor: 19.00 Predición: 17.86. Error: 1.14\n",
            "Valor: 80.00 Predición: 78.02. Error: 1.98\n",
            "Valor: 210.00 Predición: 187.58. Error: 22.42\n",
            "Valor: 299.00 Predición: 305.04. Error: 6.04\n",
            "Valor: 90.00 Predición: 55.94. Error: 34.06\n",
            "Valor: 12.00 Predición: 22.22. Error: 10.22\n",
            "Valor: 20.00 Predición: 34.50. Error: 14.50\n",
            "Valor: 140.00 Predición: 89.92. Error: 50.08\n",
            "Valor: 30.00 Predición: 36.29. Error: 6.29\n",
            "Valor: 30.00 Predición: 35.56. Error: 5.56\n",
            "Valor: 17.00 Predición: 30.00. Error: 13.00\n",
            "Valor: 22.00 Predición: 35.90. Error: 13.90\n",
            "Valor: 45.00 Predición: 85.79. Error: 40.79\n",
            "Valor: 26.00 Predición: 32.96. Error: 6.96\n",
            "Valor: 20.00 Predición: 25.39. Error: 5.39\n",
            "Valor: 12.00 Predición: 25.40. Error: 13.40\n",
            "Valor: 25.00 Predición: 46.77. Error: 21.77\n",
            "Valor: 75.00 Predición: 61.12. Error: 13.88\n",
            "Valor: 35.00 Predición: 31.65. Error: 3.35\n",
            "Valor: 180.00 Predición: 161.27. Error: 18.73\n",
            "Valor: 64.00 Predición: 93.62. Error: 29.62\n",
            "Valor: 150.00 Predición: 117.01. Error: 32.99\n",
            "Valor: 28.00 Predición: 86.93. Error: 58.93\n",
            "Valor: 34.00 Predición: 62.29. Error: 28.29\n",
            "Valor: 115.00 Predición: 80.48. Error: 34.52\n",
            "Valor: 95.00 Predición: 38.08. Error: 56.92\n",
            "Valor: 120.00 Predición: 60.96. Error: 59.04\n",
            "Valor: 15.00 Predición: 26.57. Error: 11.57\n",
            "Valor: 41.00 Predición: 34.12. Error: 6.88\n",
            "Valor: 24.00 Predición: 33.50. Error: 9.50\n",
            "Valor: 69.00 Predición: 86.08. Error: 17.08\n",
            "Valor: 37.00 Predición: 39.75. Error: 2.75\n",
            "Valor: 29.00 Predición: 27.26. Error: 1.74\n",
            "Valor: 55.00 Predición: 52.90. Error: 2.10\n",
            "Valor: 25.00 Predición: 32.26. Error: 7.26\n",
            "Valor: 79.00 Predición: 53.58. Error: 25.42\n",
            "Valor: 18.00 Predición: 23.20. Error: 5.20\n",
            "Valor: 15.00 Predición: 33.24. Error: 18.24\n",
            "Valor: 39.00 Predición: 33.07. Error: 5.93\n",
            "Valor: 88.00 Predición: 99.77. Error: 11.77\n",
            "Valor: 54.00 Predición: 31.49. Error: 22.51\n",
            "Valor: 32.00 Predición: 19.72. Error: 12.28\n",
            "Valor: 260.00 Predición: 206.34. Error: 53.66\n",
            "Valor: 95.00 Predición: 95.43. Error: 0.43\n",
            "Valor: 35.00 Predición: 38.43. Error: 3.43\n",
            "Valor: 13.00 Predición: 27.55. Error: 14.55\n",
            "Valor: 50.00 Predición: 34.20. Error: 15.80\n",
            "Valor: 31.00 Predición: 30.70. Error: 0.30\n",
            "Valor: 24.00 Predición: 34.49. Error: 10.49\n",
            "Valor: 149.00 Predición: 132.94. Error: 16.06\n",
            "Valor: 20.00 Predición: 35.54. Error: 15.54\n",
            "Valor: 45.00 Predición: 36.09. Error: 8.91\n",
            "Valor: 20.00 Predición: 29.83. Error: 9.83\n",
            "Valor: 66.00 Predición: 53.83. Error: 12.17\n",
            "Valor: 98.00 Predición: 89.12. Error: 8.88\n",
            "Valor: 240.00 Predición: 218.64. Error: 21.36\n",
            "Valor: 20.00 Predición: 30.53. Error: 10.53\n",
            "Valor: 35.00 Predición: 38.53. Error: 3.53\n",
            "Valor: 60.00 Predición: 57.19. Error: 2.81\n",
            "Valor: 25.00 Predición: 35.81. Error: 10.81\n",
            "Valor: 82.00 Predición: 81.58. Error: 0.42\n",
            "Valor: 38.00 Predición: 34.92. Error: 3.08\n",
            "Valor: 125.00 Predición: 85.91. Error: 39.09\n",
            "Valor: 55.00 Predición: 67.75. Error: 12.75\n",
            "Valor: 81.00 Predición: 67.37. Error: 13.63\n",
            "Valor: 30.00 Predición: 33.58. Error: 3.58\n",
            "Valor: 54.00 Predición: 84.50. Error: 30.50\n",
            "Valor: 70.00 Predición: 51.04. Error: 18.96\n",
            "Valor: 26.00 Predición: 30.03. Error: 4.03\n",
            "Valor: 20.00 Predición: 37.24. Error: 17.24\n",
            "Valor: 75.00 Predición: 89.84. Error: 14.84\n",
            "Valor: 25.00 Predición: 33.78. Error: 8.78\n",
            "Valor: 25.00 Predición: 34.36. Error: 9.36\n",
            "Valor: 110.00 Predición: 133.75. Error: 23.75\n",
            "Valor: 150.00 Predición: 166.83. Error: 16.83\n",
            "Valor: 40.00 Predición: 33.47. Error: 6.53\n",
            "Valor: 74.00 Predición: 82.43. Error: 8.43\n",
            "Valor: 21.00 Predición: 32.12. Error: 11.12\n",
            "Valor: 34.00 Predición: 42.22. Error: 8.22\n",
            "Valor: 120.00 Predición: 112.52. Error: 7.48\n",
            "Valor: 22.00 Predición: 29.26. Error: 7.26\n",
            "Valor: 31.00 Predición: 29.98. Error: 1.02\n",
            "Valor: 29.00 Predición: 38.33. Error: 9.33\n",
            "Valor: 179.00 Predición: 223.20. Error: 44.20\n",
            "Valor: 100.00 Predición: 41.71. Error: 58.29\n",
            "Valor: 170.00 Predición: 152.47. Error: 17.53\n",
            "Valor: 48.00 Predición: 33.66. Error: 14.34\n",
            "Valor: 26.00 Predición: 21.77. Error: 4.23\n",
            "Valor: 240.00 Predición: 317.68. Error: 77.68\n",
            "Valor: 45.00 Predición: 37.68. Error: 7.32\n",
            "Valor: 25.00 Predición: 37.88. Error: 12.88\n",
            "Valor: 51.00 Predición: 47.57. Error: 3.43\n",
            "Valor: 36.00 Predición: 29.59. Error: 6.41\n",
            "Valor: 40.00 Predición: 71.42. Error: 31.42\n",
            "Valor: 117.00 Predición: 107.91. Error: 9.09\n",
            "Valor: 50.00 Predición: 46.75. Error: 3.25\n",
            "Valor: 25.00 Predición: 26.28. Error: 1.28\n",
            "Valor: 39.00 Predición: 46.60. Error: 7.60\n",
            "Valor: 100.00 Predición: 141.18. Error: 41.18\n",
            "Valor: 70.00 Predición: 89.20. Error: 19.20\n",
            "Valor: 50.00 Predición: 73.72. Error: 23.72\n",
            "Valor: 100.00 Predición: 151.10. Error: 51.10\n",
            "Valor: 50.00 Predición: 36.16. Error: 13.84\n",
            "Valor: 126.00 Predición: 64.07. Error: 61.93\n",
            "Valor: 43.00 Predición: 56.22. Error: 13.22\n",
            "Valor: 77.00 Predición: 84.88. Error: 7.88\n",
            "Valor: 50.00 Predición: 35.54. Error: 14.46\n",
            "Valor: 33.00 Predición: 34.53. Error: 1.53\n",
            "Valor: 95.00 Predición: 88.46. Error: 6.54\n",
            "Valor: 25.00 Predición: 30.57. Error: 5.57\n",
            "Valor: 30.00 Predición: 31.88. Error: 1.88\n",
            "Valor: 55.00 Predición: 68.40. Error: 13.40\n",
            "Valor: 55.00 Predición: 63.92. Error: 8.92\n",
            "Valor: 21.00 Predición: 27.81. Error: 6.81\n",
            "Valor: 85.00 Predición: 50.45. Error: 34.55\n",
            "Valor: 68.00 Predición: 68.14. Error: 0.14\n",
            "Valor: 20.00 Predición: 37.46. Error: 17.46\n",
            "Valor: 63.00 Predición: 64.35. Error: 1.35\n",
            "Valor: 37.00 Predición: 55.66. Error: 18.66\n",
            "Valor: 75.00 Predición: 60.98. Error: 14.02\n",
            "Valor: 51.00 Predición: 48.14. Error: 2.86\n",
            "Valor: 200.00 Predición: 194.36. Error: 5.64\n",
            "Valor: 77.00 Predición: 56.74. Error: 20.26\n",
            "Valor: 30.00 Predición: 40.56. Error: 10.56\n",
            "Valor: 25.00 Predición: 45.29. Error: 20.29\n",
            "Valor: 100.00 Predición: 131.26. Error: 31.26\n",
            "Valor: 22.00 Predición: 38.48. Error: 16.48\n",
            "Valor: 19.00 Predición: 32.86. Error: 13.86\n",
            "Valor: 58.00 Predición: 53.71. Error: 4.29\n",
            "Valor: 69.00 Predición: 89.43. Error: 20.43\n",
            "Valor: 310.00 Predición: 249.78. Error: 60.22\n",
            "Valor: 30.00 Predición: 37.77. Error: 7.77\n",
            "Valor: 35.00 Predición: 40.54. Error: 5.54\n",
            "Valor: 20.00 Predición: 30.89. Error: 10.89\n",
            "Valor: 105.00 Predición: 90.51. Error: 14.49\n",
            "Valor: 30.00 Predición: 31.84. Error: 1.84\n",
            "Valor: 89.00 Predición: 145.86. Error: 56.86\n",
            "Valor: 28.00 Predición: 35.53. Error: 7.53\n",
            "Valor: 60.00 Predición: 80.28. Error: 20.28\n",
            "Valor: 25.00 Predición: 36.23. Error: 11.23\n",
            "Valor: 75.00 Predición: 79.60. Error: 4.60\n",
            "Valor: 65.00 Predición: 64.77. Error: 0.23\n",
            "Valor: 60.00 Predición: 70.26. Error: 10.26\n",
            "Valor: 20.00 Predición: 30.40. Error: 10.40\n",
            "Valor: 100.00 Predición: 80.22. Error: 19.78\n",
            "Valor: 48.00 Predición: 39.69. Error: 8.31\n",
            "Valor: 39.00 Predición: 39.59. Error: 0.59\n",
            "Valor: 45.00 Predición: 34.54. Error: 10.46\n",
            "Valor: 29.00 Predición: 31.55. Error: 2.55\n",
            "Valor: 18.00 Predición: 30.05. Error: 12.05\n",
            "Valor: 62.00 Predición: 71.83. Error: 9.83\n",
            "Valor: 15.00 Predición: 31.15. Error: 16.15\n",
            "Valor: 59.00 Predición: 70.21. Error: 11.21\n",
            "Valor: 20.00 Predición: 37.05. Error: 17.05\n",
            "Valor: 28.00 Predición: 33.17. Error: 5.17\n",
            "Valor: 35.00 Predición: 24.78. Error: 10.22\n",
            "Valor: 54.00 Predición: 66.44. Error: 12.44\n",
            "Valor: 57.00 Predición: 66.14. Error: 9.14\n",
            "Valor: 25.00 Predición: 25.42. Error: 0.42\n",
            "Valor: 67.00 Predición: 60.08. Error: 6.92\n",
            "Valor: 750.00 Predición: 468.50. Error: 281.50\n",
            "Valor: 65.00 Predición: 72.45. Error: 7.45\n",
            "Valor: 39.00 Predición: 37.32. Error: 1.68\n",
            "Valor: 20.00 Predición: 39.57. Error: 19.57\n",
            "Valor: 35.00 Predición: 46.15. Error: 11.15\n",
            "Valor: 65.00 Predición: 46.15. Error: 18.85\n",
            "Valor: 50.00 Predición: 45.94. Error: 4.06\n",
            "Valor: 59.00 Predición: 98.43. Error: 39.43\n",
            "Valor: 70.00 Predición: 42.45. Error: 27.55\n",
            "Valor: 130.00 Predición: 144.55. Error: 14.55\n",
            "Valor: 22.00 Predición: 30.96. Error: 8.96\n",
            "Valor: 68.00 Predición: 77.29. Error: 9.29\n",
            "Valor: 69.00 Predición: 68.86. Error: 0.14\n",
            "Valor: 79.00 Predición: 92.50. Error: 13.50\n",
            "Valor: 30.00 Predición: 62.33. Error: 32.33\n",
            "Valor: 100.00 Predición: 75.19. Error: 24.81\n",
            "Valor: 78.00 Predición: 83.07. Error: 5.07\n",
            "Valor: 95.00 Predición: 85.19. Error: 9.81\n",
            "Valor: 17.00 Predición: 28.33. Error: 11.33\n",
            "Valor: 30.00 Predición: 35.57. Error: 5.57\n",
            "Valor: 68.00 Predición: 71.90. Error: 3.90\n",
            "Valor: 57.00 Predición: 48.34. Error: 8.66\n",
            "Valor: 40.00 Predición: 26.42. Error: 13.58\n",
            "Valor: 65.00 Predición: 45.34. Error: 19.66\n",
            "Valor: 50.00 Predición: 85.95. Error: 35.95\n",
            "Valor: 50.00 Predición: 52.27. Error: 2.27\n",
            "Valor: 42.00 Predición: 44.44. Error: 2.44\n",
            "Valor: 22.00 Predición: 34.78. Error: 12.78\n",
            "Valor: 40.00 Predición: 33.56. Error: 6.44\n",
            "Valor: 80.00 Predición: 110.00. Error: 30.00\n",
            "Valor: 65.00 Predición: 74.76. Error: 9.76\n",
            "Valor: 50.00 Predición: 68.05. Error: 18.05\n",
            "Valor: 50.00 Predición: 31.42. Error: 18.58\n",
            "Valor: 20.00 Predición: 40.04. Error: 20.04\n",
            "Valor: 75.00 Predición: 51.19. Error: 23.81\n",
            "Valor: 39.00 Predición: 39.69. Error: 0.69\n",
            "Valor: 11.00 Predición: 25.39. Error: 14.39\n",
            "Valor: 25.00 Predición: 30.18. Error: 5.18\n",
            "Valor: 74.00 Predición: 38.75. Error: 35.25\n",
            "Valor: 45.00 Predición: 90.13. Error: 45.13\n",
            "Valor: 17.00 Predición: 29.13. Error: 12.13\n",
            "Valor: 190.00 Predición: 256.82. Error: 66.82\n",
            "Valor: 29.00 Predición: 35.47. Error: 6.47\n",
            "Valor: 185.00 Predición: 168.63. Error: 16.37\n",
            "Valor: 25.00 Predición: 31.22. Error: 6.22\n",
            "Valor: 30.00 Predición: 34.34. Error: 4.34\n",
            "Valor: 27.00 Predición: 21.21. Error: 5.79\n",
            "Valor: 59.00 Predición: 76.64. Error: 17.64\n",
            "Valor: 120.00 Predición: 178.85. Error: 58.85\n",
            "Valor: 22.00 Predición: 37.31. Error: 15.31\n",
            "Valor: 24.00 Predición: 33.05. Error: 9.05\n",
            "Valor: 60.00 Predición: 53.00. Error: 7.00\n",
            "Valor: 32.00 Predición: 34.36. Error: 2.36\n",
            "Valor: 15.00 Predición: 29.81. Error: 14.81\n",
            "Valor: 25.00 Predición: 29.78. Error: 4.78\n",
            "Valor: 77.00 Predición: 87.72. Error: 10.72\n",
            "Valor: 80.00 Predición: 68.75. Error: 11.25\n",
            "Valor: 124.00 Predición: 118.89. Error: 5.11\n",
            "Valor: 22.00 Predición: 31.00. Error: 9.00\n",
            "Valor: 59.00 Predición: 41.57. Error: 17.43\n",
            "Valor: 45.00 Predición: 54.74. Error: 9.74\n",
            "Valor: 30.00 Predición: 28.71. Error: 1.29\n",
            "Valor: 50.00 Predición: 42.50. Error: 7.50\n",
            "Valor: 41.00 Predición: 67.35. Error: 26.35\n",
            "Valor: 100.00 Predición: 93.77. Error: 6.23\n",
            "Valor: 220.00 Predición: 191.04. Error: 28.96\n",
            "Valor: 25.00 Predición: 36.61. Error: 11.61\n",
            "Valor: 15.00 Predición: 31.14. Error: 16.14\n",
            "Valor: 20.00 Predición: 35.45. Error: 15.45\n",
            "Valor: 99.00 Predición: 125.78. Error: 26.78\n",
            "Valor: 45.00 Predición: 38.04. Error: 6.96\n",
            "Valor: 90.00 Predición: 86.83. Error: 3.17\n",
            "Valor: 50.00 Predición: 57.16. Error: 7.16\n",
            "Valor: 40.00 Predición: 39.29. Error: 0.71\n",
            "Valor: 36.00 Predición: 29.86. Error: 6.14\n",
            "Valor: 20.00 Predición: 31.98. Error: 11.98\n",
            "Valor: 27.00 Predición: 44.53. Error: 17.53\n",
            "Valor: 50.00 Predición: 69.38. Error: 19.38\n",
            "Valor: 85.00 Predición: 66.58. Error: 18.42\n",
            "Valor: 78.00 Predición: 58.87. Error: 19.13\n",
            "Valor: 30.00 Predición: 34.16. Error: 4.16\n",
            "Valor: 19.00 Predición: 27.09. Error: 8.09\n",
            "Valor: 24.00 Predición: 33.42. Error: 9.42\n",
            "Valor: 16.00 Predición: 32.18. Error: 16.18\n",
            "Valor: 40.00 Predición: 34.39. Error: 5.61\n",
            "Valor: 85.00 Predición: 92.89. Error: 7.89\n",
            "Valor: 45.00 Predición: 52.19. Error: 7.19\n",
            "Valor: 47.00 Predición: 63.32. Error: 16.32\n",
            "Valor: 89.00 Predición: 70.32. Error: 18.68\n",
            "Valor: 65.00 Predición: 34.68. Error: 30.32\n",
            "Valor: 28.00 Predición: 37.03. Error: 9.03\n",
            "Valor: 80.00 Predición: 86.86. Error: 6.86\n",
            "Valor: 68.00 Predición: 94.92. Error: 26.92\n",
            "Valor: 35.00 Predición: 33.35. Error: 1.65\n",
            "Valor: 70.00 Predición: 67.32. Error: 2.68\n",
            "Valor: 35.00 Predición: 32.74. Error: 2.26\n",
            "Valor: 30.00 Predición: 34.87. Error: 4.87\n",
            "Valor: 28.00 Predición: 30.42. Error: 2.42\n",
            "Valor: 78.00 Predición: 56.64. Error: 21.36\n",
            "Valor: 129.00 Predición: 118.22. Error: 10.78\n",
            "Valor: 49.00 Predición: 54.11. Error: 5.11\n",
            "Valor: 20.00 Predición: 29.41. Error: 9.41\n",
            "Valor: 60.00 Predición: 57.41. Error: 2.59\n",
            "Valor: 70.00 Predición: 34.76. Error: 35.24\n",
            "Valor: 19.00 Predición: 27.51. Error: 8.51\n",
            "Valor: 115.00 Predición: 131.31. Error: 16.31\n",
            "Valor: 45.00 Predición: 40.95. Error: 4.05\n",
            "Valor: 21.00 Predición: 52.01. Error: 31.01\n",
            "Valor: 28.00 Predición: 28.64. Error: 0.64\n",
            "Valor: 65.00 Predición: 66.50. Error: 1.50\n",
            "Valor: 70.00 Predición: 77.61. Error: 7.61\n",
            "Valor: 15.00 Predición: 31.08. Error: 16.08\n",
            "Valor: 130.00 Predición: 106.47. Error: 23.53\n",
            "Valor: 59.00 Predición: 65.07. Error: 6.07\n",
            "Valor: 21.00 Predición: 23.76. Error: 2.76\n",
            "Valor: 25.00 Predición: 35.43. Error: 10.43\n",
            "Valor: 30.00 Predición: 33.59. Error: 3.59\n",
            "Valor: 22.00 Predición: 25.58. Error: 3.58\n",
            "Valor: 45.00 Predición: 62.92. Error: 17.92\n",
            "Valor: 79.00 Predición: 84.73. Error: 5.73\n",
            "Valor: 45.00 Predición: 34.22. Error: 10.78\n",
            "Valor: 75.00 Predición: 97.34. Error: 22.34\n",
            "Valor: 105.00 Predición: 112.57. Error: 7.57\n",
            "Valor: 60.00 Predición: 66.93. Error: 6.93\n",
            "Valor: 21.00 Predición: 30.51. Error: 9.51\n",
            "Valor: 30.00 Predición: 69.49. Error: 39.49\n",
            "Valor: 37.00 Predición: 42.59. Error: 5.59\n",
            "Valor: 22.00 Predición: 37.67. Error: 15.67\n",
            "Valor: 81.00 Predición: 90.57. Error: 9.57\n",
            "Valor: 24.00 Predición: 26.58. Error: 2.58\n",
            "Valor: 75.00 Predición: 53.80. Error: 21.20\n",
            "Valor: 20.00 Predición: 36.52. Error: 16.52\n",
            "Valor: 160.00 Predición: 154.38. Error: 5.62\n",
            "Valor: 25.00 Predición: 44.93. Error: 19.93\n",
            "Valor: 50.00 Predición: 80.79. Error: 30.79\n",
            "Valor: 500.00 Predición: 388.22. Error: 111.78\n",
            "Valor: 55.00 Predición: 75.51. Error: 20.51\n",
            "Valor: 81.00 Predición: 98.80. Error: 17.80\n",
            "Valor: 52.00 Predición: 35.99. Error: 16.01\n",
            "Valor: 25.00 Predición: 37.15. Error: 12.15\n",
            "Valor: 50.00 Predición: 97.59. Error: 47.59\n",
            "Valor: 145.00 Predición: 82.43. Error: 62.57\n",
            "Valor: 36.00 Predición: 33.20. Error: 2.80\n",
            "Valor: 65.00 Predición: 67.15. Error: 2.15\n",
            "Valor: 90.00 Predición: 64.49. Error: 25.51\n",
            "Valor: 50.00 Predición: 41.16. Error: 8.84\n",
            "Valor: 50.00 Predición: 42.29. Error: 7.71\n",
            "Valor: 22.00 Predición: 23.81. Error: 1.81\n",
            "Valor: 25.00 Predición: 28.43. Error: 3.43\n",
            "Valor: 90.00 Predición: 98.93. Error: 8.93\n",
            "Valor: 79.00 Predición: 69.62. Error: 9.38\n",
            "Valor: 40.00 Predición: 32.37. Error: 7.63\n",
            "Valor: 69.00 Predición: 93.16. Error: 24.16\n",
            "Valor: 108.00 Predición: 183.38. Error: 75.38\n",
            "Valor: 195.00 Predición: 144.50. Error: 50.50\n",
            "Valor: 50.00 Predición: 154.01. Error: 104.01\n",
            "Valor: 60.00 Predición: 54.07. Error: 5.93\n",
            "Valor: 75.00 Predición: 51.73. Error: 23.27\n",
            "Valor: 30.00 Predición: 32.36. Error: 2.36\n",
            "Valor: 40.00 Predición: 32.67. Error: 7.33\n",
            "Valor: 55.00 Predición: 56.27. Error: 1.27\n",
            "Valor: 30.00 Predición: 45.73. Error: 15.73\n",
            "Valor: 40.00 Predición: 45.23. Error: 5.23\n",
            "Valor: 95.00 Predición: 100.26. Error: 5.26\n",
            "Valor: 15.00 Predición: 39.93. Error: 24.93\n",
            "Valor: 28.00 Predición: 35.08. Error: 7.08\n",
            "Valor: 89.00 Predición: 67.33. Error: 21.67\n",
            "Valor: 20.00 Predición: 25.37. Error: 5.37\n",
            "Valor: 34.00 Predición: 34.62. Error: 0.62\n",
            "Valor: 20.00 Predición: 37.81. Error: 17.81\n",
            "Valor: 90.00 Predición: 92.58. Error: 2.58\n",
            "Valor: 190.00 Predición: 98.03. Error: 91.97\n",
            "Valor: 32.00 Predición: 29.39. Error: 2.61\n",
            "Valor: 20.00 Predición: 27.52. Error: 7.52\n",
            "Valor: 84.00 Predición: 67.76. Error: 16.24\n",
            "Valor: 45.00 Predición: 43.89. Error: 1.11\n",
            "Valor: 12.00 Predición: 31.03. Error: 19.03\n",
            "Valor: 45.00 Predición: 57.34. Error: 12.34\n",
            "Valor: 110.00 Predición: 86.98. Error: 23.02\n",
            "Valor: 34.00 Predición: 43.72. Error: 9.72\n",
            "Valor: 53.00 Predición: 39.51. Error: 13.49\n",
            "Valor: 25.00 Predición: 37.37. Error: 12.37\n",
            "Valor: 29.00 Predición: 31.96. Error: 2.96\n",
            "Valor: 25.00 Predición: 31.35. Error: 6.35\n",
            "Valor: 30.00 Predición: 41.04. Error: 11.04\n",
            "Valor: 16.00 Predición: 35.06. Error: 19.06\n",
            "Valor: 35.00 Predición: 31.74. Error: 3.26\n",
            "Valor: 29.00 Predición: 29.09. Error: 0.09\n",
            "Valor: 18.00 Predición: 34.64. Error: 16.64\n",
            "Valor: 40.00 Predición: 33.36. Error: 6.64\n",
            "Valor: 19.00 Predición: 22.11. Error: 3.11\n",
            "Valor: 115.00 Predición: 95.12. Error: 19.88\n",
            "Valor: 40.00 Predición: 41.10. Error: 1.10\n",
            "Valor: 20.00 Predición: 28.86. Error: 8.86\n",
            "Valor: 29.00 Predición: 33.03. Error: 4.03\n",
            "Valor: 55.00 Predición: 46.77. Error: 8.23\n",
            "Valor: 45.00 Predición: 33.25. Error: 11.75\n",
            "Valor: 190.00 Predición: 173.18. Error: 16.82\n",
            "Valor: 42.00 Predición: 35.25. Error: 6.75\n",
            "Valor: 50.00 Predición: 50.33. Error: 0.33\n",
            "Valor: 250.00 Predición: 244.61. Error: 5.39\n",
            "Valor: 40.00 Predición: 33.46. Error: 6.54\n",
            "Valor: 30.00 Predición: 20.11. Error: 9.89\n",
            "Valor: 55.00 Predición: 88.11. Error: 33.11\n",
            "Valor: 70.00 Predición: 44.17. Error: 25.83\n",
            "Valor: 55.00 Predición: 40.98. Error: 14.02\n",
            "Valor: 60.00 Predición: 62.96. Error: 2.96\n",
            "Valor: 24.00 Predición: 34.93. Error: 10.93\n",
            "Valor: 30.00 Predición: 39.05. Error: 9.05\n",
            "Valor: 25.00 Predición: 32.32. Error: 7.32\n",
            "Valor: 25.00 Predición: 36.13. Error: 11.13\n",
            "Valor: 86.00 Predición: 115.93. Error: 29.93\n",
            "Valor: 81.00 Predición: 64.30. Error: 16.70\n",
            "Valor: 150.00 Predición: 181.22. Error: 31.22\n",
            "Valor: 62.00 Predición: 37.31. Error: 24.69\n",
            "Valor: 25.00 Predición: 27.49. Error: 2.49\n",
            "Valor: 45.00 Predición: 50.66. Error: 5.66\n",
            "Valor: 110.00 Predición: 77.44. Error: 32.56\n",
            "Valor: 60.00 Predición: 52.53. Error: 7.47\n",
            "Valor: 25.00 Predición: 26.44. Error: 1.44\n",
            "Valor: 300.00 Predición: 128.77. Error: 171.23\n",
            "Valor: 14.00 Predición: 39.82. Error: 25.82\n",
            "Valor: 30.00 Predición: 35.28. Error: 5.28\n",
            "Valor: 160.00 Predición: 93.46. Error: 66.54\n",
            "Valor: 28.00 Predición: 34.05. Error: 6.05\n",
            "Valor: 116.00 Predición: 88.08. Error: 27.92\n",
            "Valor: 60.00 Predición: 52.26. Error: 7.74\n",
            "Valor: 65.00 Predición: 71.96. Error: 6.96\n",
            "Valor: 47.00 Predición: 49.07. Error: 2.07\n",
            "Valor: 75.00 Predición: 85.22. Error: 10.22\n",
            "Valor: 17.00 Predición: 29.28. Error: 12.28\n",
            "Valor: 120.00 Predición: 75.87. Error: 44.13\n",
            "Valor: 195.00 Predición: 173.99. Error: 21.01\n",
            "Valor: 75.00 Predición: 81.65. Error: 6.65\n",
            "Valor: 25.00 Predición: 32.69. Error: 7.69\n",
            "Valor: 15.00 Predición: 24.56. Error: 9.56\n",
            "Valor: 60.00 Predición: 46.49. Error: 13.51\n",
            "Valor: 30.00 Predición: 27.28. Error: 2.72\n",
            "Valor: 168.00 Predición: 180.11. Error: 12.11\n",
            "Valor: 25.00 Predición: 33.40. Error: 8.40\n",
            "Valor: 23.00 Predición: 34.03. Error: 11.03\n",
            "Valor: 70.00 Predición: 141.87. Error: 71.87\n",
            "Valor: 80.00 Predición: 70.67. Error: 9.33\n",
            "Valor: 60.00 Predición: 58.42. Error: 1.58\n",
            "Valor: 180.00 Predición: 124.48. Error: 55.52\n",
            "Valor: 80.00 Predición: 65.41. Error: 14.59\n",
            "Valor: 90.00 Predición: 173.81. Error: 83.81\n",
            "Valor: 140.00 Predición: 153.95. Error: 13.95\n",
            "Valor: 80.00 Predición: 43.16. Error: 36.84\n",
            "Valor: 42.00 Predición: 29.90. Error: 12.10\n",
            "Valor: 100.00 Predición: 87.54. Error: 12.46\n",
            "Valor: 39.00 Predición: 38.34. Error: 0.66\n",
            "Valor: 65.00 Predición: 62.49. Error: 2.51\n",
            "Valor: 112.00 Predición: 62.35. Error: 49.65\n",
            "Valor: 30.00 Predición: 29.81. Error: 0.19\n",
            "Valor: 68.00 Predición: 103.45. Error: 35.45\n",
            "Valor: 45.00 Predición: 35.53. Error: 9.47\n",
            "Valor: 65.00 Predición: 59.29. Error: 5.71\n",
            "Valor: 25.00 Predición: 39.06. Error: 14.06\n",
            "Valor: 21.00 Predición: 31.45. Error: 10.45\n",
            "Valor: 30.00 Predición: 32.68. Error: 2.68\n",
            "Valor: 99.00 Predición: 159.69. Error: 60.69\n",
            "Valor: 42.00 Predición: 43.21. Error: 1.21\n",
            "Valor: 40.00 Predición: 39.66. Error: 0.34\n",
            "Valor: 25.00 Predición: 29.60. Error: 4.60\n",
            "Valor: 20.00 Predición: 31.16. Error: 11.16\n",
            "Valor: 19.00 Predición: 37.07. Error: 18.07\n",
            "Valor: 180.00 Predición: 139.10. Error: 40.90\n",
            "Valor: 25.00 Predición: 27.26. Error: 2.26\n",
            "Valor: 45.00 Predición: 51.84. Error: 6.84\n",
            "Valor: 34.00 Predición: 23.24. Error: 10.76\n",
            "Valor: 15.00 Predición: 41.31. Error: 26.31\n",
            "Valor: 280.00 Predición: 232.93. Error: 47.07\n",
            "Valor: 20.00 Predición: 51.30. Error: 31.30\n",
            "Valor: 85.00 Predición: 55.62. Error: 29.38\n",
            "Valor: 20.00 Predición: 25.11. Error: 5.11\n",
            "Valor: 28.00 Predición: 32.87. Error: 4.87\n",
            "Valor: 25.00 Predición: 31.64. Error: 6.64\n",
            "Valor: 89.00 Predición: 94.92. Error: 5.92\n",
            "Valor: 34.00 Predición: 35.33. Error: 1.33\n",
            "Valor: 80.00 Predición: 107.30. Error: 27.30\n",
            "Valor: 80.00 Predición: 65.33. Error: 14.67\n",
            "Valor: 40.00 Predición: 38.01. Error: 1.99\n",
            "Valor: 90.00 Predición: 73.07. Error: 16.93\n",
            "Valor: 28.00 Predición: 33.23. Error: 5.23\n",
            "Valor: 35.00 Predición: 36.82. Error: 1.82\n",
            "Valor: 20.00 Predición: 27.66. Error: 7.66\n",
            "Valor: 27.00 Predición: 60.77. Error: 33.77\n",
            "Valor: 29.00 Predición: 35.81. Error: 6.81\n",
            "Valor: 115.00 Predición: 109.49. Error: 5.51\n",
            "Valor: 30.00 Predición: 36.51. Error: 6.51\n",
            "Valor: 50.00 Predición: 52.35. Error: 2.35\n",
            "Valor: 15.00 Predición: 26.19. Error: 11.19\n",
            "Valor: 50.00 Predición: 38.62. Error: 11.38\n",
            "Valor: 42.00 Predición: 37.48. Error: 4.52\n",
            "Valor: 190.00 Predición: 192.02. Error: 2.02\n",
            "Valor: 19.00 Predición: 31.73. Error: 12.73\n",
            "Valor: 40.00 Predición: 27.00. Error: 13.00\n",
            "Valor: 22.00 Predición: 34.24. Error: 12.24\n",
            "Valor: 75.00 Predición: 113.85. Error: 38.85\n",
            "Valor: 30.00 Predición: 40.35. Error: 10.35\n",
            "Valor: 70.00 Predición: 50.24. Error: 19.76\n",
            "Valor: 100.00 Predición: 102.76. Error: 2.76\n",
            "Valor: 85.00 Predición: 66.01. Error: 18.99\n",
            "Valor: 25.00 Predición: 44.20. Error: 19.20\n",
            "Valor: 27.00 Predición: 26.29. Error: 0.71\n",
            "Valor: 55.00 Predición: 50.93. Error: 4.07\n",
            "Valor: 125.00 Predición: 93.69. Error: 31.31\n",
            "Valor: 175.00 Predición: 166.43. Error: 8.57\n",
            "Valor: 65.00 Predición: 76.18. Error: 11.18\n",
            "Valor: 50.00 Predición: 75.84. Error: 25.84\n",
            "Valor: 64.00 Predición: 55.06. Error: 8.94\n",
            "Valor: 39.00 Predición: 39.23. Error: 0.23\n",
            "Valor: 60.00 Predición: 64.52. Error: 4.52\n",
            "Valor: 50.00 Predición: 34.87. Error: 15.13\n",
            "Valor: 95.00 Predición: 97.43. Error: 2.43\n",
            "Valor: 70.00 Predición: 71.23. Error: 1.23\n",
            "Valor: 35.00 Predición: 37.55. Error: 2.55\n",
            "Valor: 50.00 Predición: 53.52. Error: 3.52\n",
            "Valor: 135.00 Predición: 125.02. Error: 9.98\n",
            "Valor: 40.00 Predición: 39.47. Error: 0.53\n",
            "Valor: 91.00 Predición: 94.54. Error: 3.54\n",
            "Valor: 40.00 Predición: 37.27. Error: 2.73\n",
            "Valor: 38.00 Predición: 39.12. Error: 1.12\n",
            "Valor: 13.00 Predición: 35.25. Error: 22.25\n",
            "Valor: 55.00 Predición: 45.25. Error: 9.75\n",
            "Valor: 100.00 Predición: 98.02. Error: 1.98\n",
            "Valor: 35.00 Predición: 43.02. Error: 8.02\n",
            "Valor: 245.00 Predición: 263.76. Error: 18.76\n",
            "Valor: 15.00 Predición: 30.97. Error: 15.97\n",
            "Valor: 57.00 Predición: 40.98. Error: 16.02\n",
            "Valor: 38.00 Predición: 38.88. Error: 0.88\n",
            "Valor: 110.00 Predición: 87.41. Error: 22.59\n",
            "Valor: 45.00 Predición: 43.66. Error: 1.34\n",
            "Valor: 65.00 Predición: 90.36. Error: 25.36\n",
            "Valor: 20.00 Predición: 25.57. Error: 5.57\n",
            "Valor: 70.00 Predición: 36.99. Error: 33.01\n",
            "Valor: 120.00 Predición: 84.11. Error: 35.89\n",
            "Valor: 70.00 Predición: 39.63. Error: 30.37\n",
            "Valor: 28.00 Predición: 29.98. Error: 1.98\n",
            "Valor: 35.00 Predición: 38.95. Error: 3.95\n",
            "Valor: 65.00 Predición: 35.59. Error: 29.41\n",
            "Valor: 50.00 Predición: 48.96. Error: 1.04\n",
            "Valor: 55.00 Predición: 44.11. Error: 10.89\n",
            "Valor: 69.00 Predición: 69.17. Error: 0.17\n",
            "Valor: 80.00 Predición: 83.26. Error: 3.26\n",
            "Valor: 200.00 Predición: 141.25. Error: 58.75\n",
            "Valor: 32.00 Predición: 33.72. Error: 1.72\n",
            "Valor: 50.00 Predición: 50.01. Error: 0.01\n",
            "Valor: 32.00 Predición: 33.76. Error: 1.76\n",
            "Valor: 79.00 Predición: 61.34. Error: 17.66\n",
            "Valor: 24.00 Predición: 33.88. Error: 9.88\n",
            "Valor: 89.00 Predición: 90.68. Error: 1.68\n",
            "Valor: 120.00 Predición: 38.88. Error: 81.12\n",
            "Valor: 50.00 Predición: 49.51. Error: 0.49\n",
            "Valor: 63.00 Predición: 58.85. Error: 4.15\n",
            "Valor: 75.00 Predición: 75.57. Error: 0.57\n",
            "Valor: 100.00 Predición: 120.80. Error: 20.80\n",
            "Valor: 28.00 Predición: 30.16. Error: 2.16\n",
            "Valor: 49.00 Predición: 69.44. Error: 20.44\n",
            "Valor: 35.00 Predición: 37.52. Error: 2.52\n",
            "Valor: 42.00 Predición: 38.29. Error: 3.71\n",
            "Valor: 65.00 Predición: 58.57. Error: 6.43\n",
            "Valor: 280.00 Predición: 194.58. Error: 85.42\n",
            "Valor: 60.00 Predición: 57.92. Error: 2.08\n",
            "Valor: 45.00 Predición: 54.56. Error: 9.56\n",
            "Valor: 85.00 Predición: 91.25. Error: 6.25\n",
            "Valor: 60.00 Predición: 82.19. Error: 22.19\n",
            "Valor: 75.00 Predición: 51.80. Error: 23.20\n",
            "Valor: 95.00 Predición: 67.81. Error: 27.19\n",
            "Valor: 47.00 Predición: 48.27. Error: 1.27\n",
            "Valor: 40.00 Predición: 44.11. Error: 4.11\n",
            "Valor: 32.00 Predición: 35.26. Error: 3.26\n",
            "Valor: 60.00 Predición: 80.62. Error: 20.62\n",
            "Valor: 20.00 Predición: 34.04. Error: 14.04\n",
            "Valor: 33.00 Predición: 35.62. Error: 2.62\n",
            "Valor: 25.00 Predición: 37.42. Error: 12.42\n",
            "Valor: 26.00 Predición: 34.95. Error: 8.95\n",
            "Valor: 23.00 Predición: 27.63. Error: 4.63\n",
            "Valor: 55.00 Predición: 80.95. Error: 25.95\n",
            "Valor: 48.00 Predición: 45.41. Error: 2.59\n",
            "Valor: 50.00 Predición: 66.88. Error: 16.88\n",
            "Valor: 65.00 Predición: 48.31. Error: 16.69\n",
            "Valor: 59.00 Predición: 87.20. Error: 28.20\n",
            "Valor: 55.00 Predición: 67.21. Error: 12.21\n",
            "Valor: 40.00 Predición: 38.74. Error: 1.26\n",
            "Valor: 12.00 Predición: 32.78. Error: 20.78\n",
            "Valor: 20.00 Predición: 36.58. Error: 16.58\n",
            "Valor: 22.00 Predición: 33.16. Error: 11.16\n",
            "Valor: 16.00 Predición: 46.19. Error: 30.19\n",
            "Valor: 32.00 Predición: 38.05. Error: 6.05\n",
            "Valor: 53.00 Predición: 64.10. Error: 11.10\n",
            "Valor: 59.00 Predición: 67.79. Error: 8.79\n",
            "Valor: 100.00 Predición: 121.81. Error: 21.81\n",
            "Valor: 35.00 Predición: 33.29. Error: 1.71\n",
            "Valor: 60.00 Predición: 81.16. Error: 21.16\n",
            "Valor: 80.00 Predición: 48.82. Error: 31.18\n",
            "Valor: 63.00 Predición: 68.40. Error: 5.40\n",
            "Valor: 35.00 Predición: 38.12. Error: 3.12\n",
            "Valor: 70.00 Predición: 63.84. Error: 6.16\n",
            "Valor: 109.00 Predición: 84.11. Error: 24.89\n",
            "Valor: 22.00 Predición: 29.53. Error: 7.53\n",
            "Valor: 40.00 Predición: 41.25. Error: 1.25\n",
            "Valor: 125.00 Predición: 122.64. Error: 2.36\n",
            "Valor: 23.00 Predición: 32.03. Error: 9.03\n",
            "Valor: 90.00 Predición: 87.26. Error: 2.74\n",
            "Valor: 50.00 Predición: 77.35. Error: 27.35\n",
            "Valor: 100.00 Predición: 40.41. Error: 59.59\n",
            "Valor: 18.00 Predición: 34.89. Error: 16.89\n",
            "Valor: 100.00 Predición: 68.45. Error: 31.55\n",
            "Valor: 33.00 Predición: 33.76. Error: 0.76\n",
            "Valor: 60.00 Predición: 74.54. Error: 14.54\n",
            "Valor: 70.00 Predición: 87.81. Error: 17.81\n",
            "Valor: 45.00 Predición: 35.32. Error: 9.68\n",
            "Valor: 60.00 Predición: 71.38. Error: 11.38\n",
            "Valor: 60.00 Predición: 42.58. Error: 17.42\n",
            "Valor: 85.00 Predición: 77.71. Error: 7.29\n",
            "Valor: 58.00 Predición: 87.09. Error: 29.09\n",
            "Valor: 43.00 Predición: 48.68. Error: 5.68\n",
            "Valor: 48.00 Predición: 46.63. Error: 1.37\n",
            "Valor: 200.00 Predición: 148.88. Error: 51.12\n",
            "Valor: 38.00 Predición: 35.35. Error: 2.65\n",
            "Valor: 60.00 Predición: 28.37. Error: 31.63\n",
            "Valor: 50.00 Predición: 31.52. Error: 18.48\n",
            "Valor: 20.00 Predición: 37.28. Error: 17.28\n",
            "Valor: 70.00 Predición: 37.89. Error: 32.11\n",
            "Valor: 60.00 Predición: 53.39. Error: 6.61\n",
            "Valor: 16.00 Predición: 28.59. Error: 12.59\n",
            "Valor: 61.00 Predición: 57.28. Error: 3.72\n",
            "Valor: 17.00 Predición: 35.14. Error: 18.14\n",
            "Valor: 26.00 Predición: 30.92. Error: 4.92\n",
            "Valor: 15.00 Predición: 26.02. Error: 11.02\n",
            "Valor: 40.00 Predición: 67.11. Error: 27.11\n",
            "Valor: 55.00 Predición: 78.83. Error: 23.83\n",
            "Valor: 26.00 Predición: 21.93. Error: 4.07\n",
            "Valor: 50.00 Predición: 36.04. Error: 13.96\n",
            "Valor: 65.00 Predición: 59.22. Error: 5.78\n",
            "Valor: 90.00 Predición: 81.66. Error: 8.34\n",
            "Valor: 45.00 Predición: 39.51. Error: 5.49\n",
            "Valor: 42.00 Predición: 39.41. Error: 2.59\n",
            "Valor: 40.00 Predición: 43.77. Error: 3.77\n",
            "Valor: 25.00 Predición: 27.95. Error: 2.95\n",
            "Valor: 35.00 Predición: 44.37. Error: 9.37\n",
            "Valor: 15.00 Predición: 31.89. Error: 16.89\n",
            "Valor: 450.00 Predición: 277.35. Error: 172.65\n",
            "Valor: 15.00 Predición: 28.73. Error: 13.73\n",
            "Valor: 75.00 Predición: 84.83. Error: 9.83\n",
            "Valor: 134.00 Predición: 107.29. Error: 26.71\n",
            "Valor: 35.00 Predición: 29.40. Error: 5.60\n",
            "Valor: 120.00 Predición: 132.82. Error: 12.82\n",
            "Valor: 35.00 Predición: 35.24. Error: 0.24\n",
            "Valor: 37.00 Predición: 28.17. Error: 8.83\n",
            "Valor: 100.00 Predición: 73.46. Error: 26.54\n",
            "Valor: 55.00 Predición: 54.53. Error: 0.47\n",
            "Valor: 57.00 Predición: 62.26. Error: 5.26\n",
            "Valor: 38.00 Predición: 42.20. Error: 4.20\n",
            "Valor: 25.00 Predición: 31.03. Error: 6.03\n",
            "Valor: 200.00 Predición: 295.84. Error: 95.84\n",
            "Valor: 70.00 Predición: 33.06. Error: 36.94\n",
            "Valor: 45.00 Predición: 41.09. Error: 3.91\n",
            "Valor: 52.00 Predición: 64.38. Error: 12.38\n",
            "Valor: 73.00 Predición: 54.19. Error: 18.81\n",
            "Valor: 33.00 Predición: 29.27. Error: 3.73\n",
            "Valor: 73.00 Predición: 59.88. Error: 13.12\n",
            "Valor: 75.00 Predición: 84.31. Error: 9.31\n",
            "Valor: 89.00 Predición: 100.96. Error: 11.96\n",
            "Valor: 60.00 Predición: 77.87. Error: 17.87\n",
            "Valor: 57.00 Predición: 70.32. Error: 13.32\n",
            "Valor: 65.00 Predición: 69.48. Error: 4.48\n",
            "Valor: 25.00 Predición: 32.26. Error: 7.26\n",
            "Valor: 300.00 Predición: 367.04. Error: 67.04\n",
            "Valor: 70.00 Predición: 64.00. Error: 6.00\n",
            "Valor: 25.00 Predición: 34.32. Error: 9.32\n",
            "Valor: 48.00 Predición: 43.59. Error: 4.41\n",
            "Valor: 105.00 Predición: 78.18. Error: 26.82\n",
            "Valor: 110.00 Predición: 140.31. Error: 30.31\n",
            "Valor: 38.00 Predición: 33.76. Error: 4.24\n",
            "Valor: 27.00 Predición: 41.40. Error: 14.40\n",
            "Valor: 95.00 Predición: 78.40. Error: 16.60\n",
            "Valor: 109.00 Predición: 158.57. Error: 49.57\n",
            "Valor: 44.00 Predición: 36.24. Error: 7.76\n",
            "Valor: 65.00 Predición: 47.44. Error: 17.56\n",
            "Valor: 30.00 Predición: 28.42. Error: 1.58\n",
            "Valor: 31.00 Predición: 28.21. Error: 2.79\n",
            "Valor: 90.00 Predición: 106.33. Error: 16.33\n",
            "Valor: 500.00 Predición: 281.97. Error: 218.03\n",
            "Valor: 109.00 Predición: 61.49. Error: 47.51\n",
            "Valor: 45.00 Predición: 56.48. Error: 11.48\n",
            "Valor: 60.00 Predición: 61.90. Error: 1.90\n",
            "Valor: 65.00 Predición: 67.44. Error: 2.44\n",
            "Valor: 55.00 Predición: 51.67. Error: 3.33\n",
            "Valor: 32.00 Predición: 36.27. Error: 4.27\n",
            "Valor: 20.00 Predición: 32.85. Error: 12.85\n",
            "Valor: 30.00 Predición: 23.55. Error: 6.45\n",
            "Valor: 70.00 Predición: 43.18. Error: 26.82\n",
            "Valor: 125.00 Predición: 132.76. Error: 7.76\n",
            "Valor: 60.00 Predición: 63.75. Error: 3.75\n",
            "Valor: 23.00 Predición: 36.36. Error: 13.36\n",
            "Valor: 30.00 Predición: 70.72. Error: 40.72\n",
            "Valor: 42.00 Predición: 50.81. Error: 8.81\n",
            "Valor: 60.00 Predición: 74.86. Error: 14.86\n",
            "Valor: 65.00 Predición: 96.80. Error: 31.80\n",
            "Valor: 45.00 Predición: 55.24. Error: 10.24\n",
            "Valor: 50.00 Predición: 54.15. Error: 4.15\n",
            "Valor: 140.00 Predición: 104.80. Error: 35.20\n",
            "Valor: 70.00 Predición: 63.48. Error: 6.52\n",
            "Valor: 69.00 Predición: 83.81. Error: 14.81\n",
            "Valor: 180.00 Predición: 153.33. Error: 26.67\n",
            "Valor: 36.00 Predición: 46.55. Error: 10.55\n",
            "Valor: 18.00 Predición: 35.05. Error: 17.05\n",
            "Valor: 39.00 Predición: 38.63. Error: 0.37\n",
            "Valor: 16.00 Predición: 20.41. Error: 4.41\n",
            "Valor: 20.00 Predición: 24.18. Error: 4.18\n",
            "Valor: 40.00 Predición: 34.80. Error: 5.20\n",
            "Valor: 80.00 Predición: 39.99. Error: 40.01\n",
            "Valor: 90.00 Predición: 120.53. Error: 30.53\n",
            "Valor: 25.00 Predición: 19.23. Error: 5.77\n",
            "Valor: 98.00 Predición: 55.71. Error: 42.29\n",
            "Valor: 60.00 Predición: 42.03. Error: 17.97\n",
            "Valor: 80.00 Predición: 60.15. Error: 19.85\n",
            "Valor: 195.00 Predición: 178.96. Error: 16.04\n",
            "Valor: 65.00 Predición: 51.57. Error: 13.43\n",
            "Valor: 53.00 Predición: 46.76. Error: 6.24\n",
            "Valor: 186.00 Predición: 78.41. Error: 107.59\n",
            "Valor: 100.00 Predición: 131.90. Error: 31.90\n",
            "Valor: 28.00 Predición: 33.67. Error: 5.67\n",
            "Valor: 15.00 Predición: 32.31. Error: 17.31\n",
            "Valor: 27.00 Predición: 33.54. Error: 6.54\n",
            "Valor: 125.00 Predición: 116.54. Error: 8.46\n",
            "Valor: 18.00 Predición: 30.78. Error: 12.78\n",
            "Valor: 45.00 Predición: 42.10. Error: 2.90\n",
            "Valor: 21.00 Predición: 34.60. Error: 13.60\n",
            "Valor: 35.00 Predición: 44.45. Error: 9.45\n",
            "Valor: 22.00 Predición: 29.91. Error: 7.91\n",
            "Valor: 95.00 Predición: 108.75. Error: 13.75\n",
            "Valor: 30.00 Predición: 37.04. Error: 7.04\n",
            "Valor: 149.00 Predición: 96.32. Error: 52.68\n",
            "Valor: 95.00 Predición: 49.17. Error: 45.83\n",
            "Valor: 50.00 Predición: 76.00. Error: 26.00\n",
            "Valor: 21.00 Predición: 26.13. Error: 5.13\n",
            "Valor: 55.00 Predición: 40.38. Error: 14.62\n",
            "Valor: 63.00 Predición: 57.35. Error: 5.65\n",
            "Valor: 65.00 Predición: 86.00. Error: 21.00\n",
            "Valor: 135.00 Predición: 94.27. Error: 40.73\n",
            "Valor: 38.00 Predición: 35.16. Error: 2.84\n",
            "Valor: 25.00 Predición: 26.17. Error: 1.17\n",
            "Valor: 20.00 Predición: 31.93. Error: 11.93\n",
            "Valor: 25.00 Predición: 26.31. Error: 1.31\n",
            "Valor: 45.00 Predición: 66.00. Error: 21.00\n",
            "Valor: 90.00 Predición: 122.59. Error: 32.59\n",
            "Valor: 29.00 Predición: 32.19. Error: 3.19\n",
            "Valor: 32.00 Predición: 27.55. Error: 4.45\n",
            "Valor: 30.00 Predición: 36.84. Error: 6.84\n",
            "Valor: 59.00 Predición: 52.12. Error: 6.88\n",
            "Valor: 29.00 Predición: 45.32. Error: 16.32\n",
            "Valor: 27.00 Predición: 36.11. Error: 9.11\n",
            "Valor: 43.00 Predición: 36.73. Error: 6.27\n",
            "Valor: 16.00 Predición: 17.32. Error: 1.32\n",
            "Valor: 58.00 Predición: 96.85. Error: 38.85\n",
            "Valor: 18.00 Predición: 27.44. Error: 9.44\n",
            "Valor: 17.00 Predición: 22.81. Error: 5.81\n",
            "Valor: 100.00 Predición: 102.98. Error: 2.98\n",
            "Valor: 55.00 Predición: 56.38. Error: 1.38\n",
            "Valor: 27.00 Predición: 27.51. Error: 0.51\n",
            "Valor: 39.00 Predición: 31.81. Error: 7.19\n",
            "Valor: 60.00 Predición: 65.61. Error: 5.61\n",
            "Valor: 60.00 Predición: 76.13. Error: 16.13\n",
            "Valor: 75.00 Predición: 70.13. Error: 4.87\n",
            "Valor: 61.00 Predición: 38.65. Error: 22.35\n",
            "Valor: 24.00 Predición: 27.13. Error: 3.13\n",
            "Valor: 11.00 Predición: 25.78. Error: 14.78\n",
            "Valor: 595.00 Predición: 460.47. Error: 134.53\n",
            "Valor: 50.00 Predición: 52.70. Error: 2.70\n",
            "Valor: 50.00 Predición: 39.09. Error: 10.91\n",
            "Valor: 300.00 Predición: 183.56. Error: 116.44\n",
            "Valor: 20.00 Predición: 22.69. Error: 2.69\n",
            "Valor: 20.00 Predición: 29.97. Error: 9.97\n",
            "Valor: 23.00 Predición: 28.97. Error: 5.97\n",
            "Valor: 128.00 Predición: 145.29. Error: 17.29\n",
            "Valor: 19.00 Predición: 35.43. Error: 16.43\n",
            "Valor: 15.00 Predición: 32.20. Error: 17.20\n",
            "Valor: 28.00 Predición: 30.94. Error: 2.94\n",
            "Valor: 23.00 Predición: 24.20. Error: 1.20\n",
            "Valor: 35.00 Predición: 33.28. Error: 1.72\n",
            "Valor: 59.00 Predición: 40.76. Error: 18.24\n",
            "Valor: 140.00 Predición: 113.29. Error: 26.71\n",
            "Valor: 39.00 Predición: 38.04. Error: 0.96\n",
            "Valor: 65.00 Predición: 64.20. Error: 0.80\n",
            "Valor: 48.00 Predición: 62.01. Error: 14.01\n",
            "Valor: 70.00 Predición: 111.18. Error: 41.18\n",
            "Valor: 18.00 Predición: 39.45. Error: 21.45\n",
            "Valor: 50.00 Predición: 42.90. Error: 7.10\n",
            "Valor: 30.00 Predición: 35.88. Error: 5.88\n",
            "Valor: 70.00 Predición: 115.20. Error: 45.20\n",
            "Valor: 40.00 Predición: 26.16. Error: 13.84\n",
            "Valor: 18.00 Predición: 31.98. Error: 13.98\n",
            "Valor: 150.00 Predición: 87.35. Error: 62.65\n",
            "Valor: 60.00 Predición: 51.70. Error: 8.30\n",
            "Valor: 80.00 Predición: 97.02. Error: 17.02\n",
            "Valor: 35.00 Predición: 32.70. Error: 2.30\n",
            "Valor: 40.00 Predición: 63.62. Error: 23.62\n",
            "Valor: 43.00 Predición: 28.27. Error: 14.73\n",
            "Valor: 49.00 Predición: 41.64. Error: 7.36\n",
            "Valor: 40.00 Predición: 32.74. Error: 7.26\n",
            "Valor: 63.00 Predición: 79.83. Error: 16.83\n",
            "Valor: 65.00 Predición: 59.17. Error: 5.83\n",
            "Valor: 22.00 Predición: 26.68. Error: 4.68\n",
            "Valor: 80.00 Predición: 104.02. Error: 24.02\n",
            "Valor: 50.00 Predición: 72.51. Error: 22.51\n",
            "Valor: 22.00 Predición: 24.75. Error: 2.75\n",
            "Valor: 33.00 Predición: 28.64. Error: 4.36\n",
            "Valor: 95.00 Predición: 56.10. Error: 38.90\n",
            "Valor: 50.00 Predición: 117.25. Error: 67.25\n",
            "Valor: 12.00 Predición: 36.05. Error: 24.05\n",
            "Valor: 29.00 Predición: 21.43. Error: 7.57\n",
            "Valor: 52.00 Predición: 55.75. Error: 3.75\n",
            "Valor: 17.00 Predición: 35.71. Error: 18.71\n",
            "Valor: 65.00 Predición: 67.12. Error: 2.12\n",
            "Valor: 55.00 Predición: 44.53. Error: 10.47\n",
            "Valor: 90.00 Predición: 66.03. Error: 23.97\n",
            "Valor: 74.00 Predición: 57.65. Error: 16.35\n",
            "Valor: 20.00 Predición: 30.09. Error: 10.09\n",
            "Valor: 95.00 Predición: 121.45. Error: 26.45\n",
            "Valor: 30.00 Predición: 35.50. Error: 5.50\n",
            "Valor: 25.00 Predición: 31.75. Error: 6.75\n",
            "Valor: 19.00 Predición: 40.08. Error: 21.08\n",
            "Valor: 25.00 Predición: 25.95. Error: 0.95\n",
            "Valor: 122.00 Predición: 66.84. Error: 55.16\n",
            "Valor: 50.00 Predición: 45.37. Error: 4.63\n",
            "Valor: 20.00 Predición: 18.78. Error: 1.22\n",
            "Valor: 43.00 Predición: 60.87. Error: 17.87\n",
            "Valor: 150.00 Predición: 149.92. Error: 0.08\n",
            "Valor: 82.00 Predición: 74.91. Error: 7.09\n",
            "Valor: 28.00 Predición: 30.63. Error: 2.63\n",
            "Valor: 60.00 Predición: 38.23. Error: 21.77\n",
            "Valor: 29.00 Predición: 51.09. Error: 22.09\n",
            "Valor: 60.00 Predición: 62.08. Error: 2.08\n",
            "Valor: 16.00 Predición: 30.75. Error: 14.75\n",
            "Valor: 58.00 Predición: 73.52. Error: 15.52\n",
            "Valor: 49.00 Predición: 55.55. Error: 6.55\n",
            "Valor: 60.00 Predición: 48.29. Error: 11.71\n",
            "Valor: 18.00 Predición: 34.00. Error: 16.00\n",
            "Valor: 18.00 Predición: 35.11. Error: 17.11\n",
            "Valor: 110.00 Predición: 101.94. Error: 8.06\n",
            "Valor: 28.00 Predición: 49.96. Error: 21.96\n",
            "Valor: 63.00 Predición: 59.98. Error: 3.02\n",
            "Valor: 61.00 Predición: 91.33. Error: 30.33\n",
            "Valor: 90.00 Predición: 187.88. Error: 97.88\n",
            "Valor: 22.00 Predición: 36.64. Error: 14.64\n",
            "Valor: 19.00 Predición: 26.14. Error: 7.14\n",
            "Valor: 30.00 Predición: 29.77. Error: 0.23\n",
            "Valor: 20.00 Predición: 29.32. Error: 9.32\n",
            "Valor: 74.00 Predición: 125.55. Error: 51.55\n",
            "Valor: 70.00 Predición: 92.49. Error: 22.49\n",
            "Valor: 70.00 Predición: 73.12. Error: 3.12\n",
            "Valor: 102.00 Predición: 102.49. Error: 0.49\n",
            "Valor: 250.00 Predición: 250.58. Error: 0.58\n",
            "Valor: 46.00 Predición: 48.69. Error: 2.69\n",
            "Valor: 35.00 Predición: 34.70. Error: 0.30\n",
            "Valor: 65.00 Predición: 77.90. Error: 12.90\n",
            "Valor: 47.00 Predición: 51.90. Error: 4.90\n",
            "Valor: 49.00 Predición: 64.01. Error: 15.01\n",
            "Valor: 35.00 Predición: 76.88. Error: 41.88\n",
            "Valor: 70.00 Predición: 74.31. Error: 4.31\n",
            "Valor: 33.00 Predición: 33.39. Error: 0.39\n",
            "Valor: 45.00 Predición: 32.02. Error: 12.98\n",
            "Valor: 45.00 Predición: 29.96. Error: 15.04\n",
            "Valor: 30.00 Predición: 33.32. Error: 3.32\n",
            "Valor: 23.00 Predición: 40.49. Error: 17.49\n",
            "Valor: 35.00 Predición: 35.23. Error: 0.23\n",
            "Valor: 18.00 Predición: 32.70. Error: 14.70\n",
            "Valor: 65.00 Predición: 54.90. Error: 10.10\n",
            "Valor: 70.00 Predición: 66.42. Error: 3.58\n",
            "Valor: 41.00 Predición: 37.89. Error: 3.11\n",
            "Valor: 85.00 Predición: 82.34. Error: 2.66\n",
            "Valor: 20.00 Predición: 27.97. Error: 7.97\n",
            "Valor: 95.00 Predición: 85.83. Error: 9.17\n",
            "Valor: 80.00 Predición: 74.24. Error: 5.76\n",
            "Valor: 17.00 Predición: 23.95. Error: 6.95\n",
            "Valor: 16.00 Predición: 26.20. Error: 10.20\n",
            "Valor: 30.00 Predición: 30.49. Error: 0.49\n",
            "Valor: 29.00 Predición: 40.79. Error: 11.79\n",
            "Valor: 48.00 Predición: 68.15. Error: 20.15\n",
            "Valor: 62.00 Predición: 69.29. Error: 7.29\n",
            "Valor: 25.00 Predición: 47.97. Error: 22.97\n",
            "Valor: 34.00 Predición: 38.73. Error: 4.73\n",
            "Valor: 77.00 Predición: 87.42. Error: 10.42\n",
            "Valor: 125.00 Predición: 113.25. Error: 11.75\n",
            "Valor: 25.00 Predición: 32.27. Error: 7.27\n",
            "Valor: 21.00 Predición: 28.22. Error: 7.22\n",
            "Valor: 35.00 Predición: 80.97. Error: 45.97\n",
            "Valor: 99.00 Predición: 133.40. Error: 34.40\n",
            "Valor: 50.00 Predición: 73.04. Error: 23.04\n",
            "Valor: 90.00 Predición: 142.41. Error: 52.41\n",
            "Valor: 89.00 Predición: 144.14. Error: 55.14\n",
            "Valor: 69.00 Predición: 70.23. Error: 1.23\n",
            "Valor: 140.00 Predición: 169.10. Error: 29.10\n",
            "Valor: 38.00 Predición: 36.95. Error: 1.05\n",
            "Valor: 38.00 Predición: 50.19. Error: 12.19\n",
            "Valor: 24.00 Predición: 32.22. Error: 8.22\n",
            "Valor: 76.00 Predición: 55.12. Error: 20.88\n",
            "Valor: 46.00 Predición: 49.40. Error: 3.40\n",
            "Valor: 35.00 Predición: 40.61. Error: 5.61\n",
            "Valor: 30.00 Predición: 36.56. Error: 6.56\n",
            "Valor: 14.00 Predición: 23.66. Error: 9.66\n",
            "Valor: 54.00 Predición: 60.31. Error: 6.31\n",
            "Valor: 80.00 Predición: 40.97. Error: 39.03\n",
            "Valor: 65.00 Predición: 60.58. Error: 4.42\n",
            "Valor: 30.00 Predición: 36.32. Error: 6.32\n",
            "Valor: 29.00 Predición: 65.01. Error: 36.01\n",
            "Valor: 40.00 Predición: 37.01. Error: 2.99\n",
            "Valor: 120.00 Predición: 111.60. Error: 8.40\n",
            "Valor: 50.00 Predición: 56.98. Error: 6.98\n",
            "Valor: 69.00 Predición: 77.51. Error: 8.51\n",
            "Valor: 25.00 Predición: 24.20. Error: 0.80\n",
            "Valor: 50.00 Predición: 36.42. Error: 13.58\n",
            "Valor: 20.00 Predición: 31.97. Error: 11.97\n",
            "Valor: 35.00 Predición: 34.28. Error: 0.72\n",
            "Valor: 55.00 Predición: 55.56. Error: 0.56\n",
            "Valor: 50.00 Predición: 77.61. Error: 27.61\n",
            "Valor: 50.00 Predición: 38.00. Error: 12.00\n",
            "Valor: 69.00 Predición: 51.93. Error: 17.07\n",
            "Valor: 69.00 Predición: 90.60. Error: 21.60\n",
            "Valor: 160.00 Predición: 184.56. Error: 24.56\n",
            "Valor: 40.00 Predición: 34.68. Error: 5.32\n",
            "Valor: 45.00 Predición: 56.61. Error: 11.61\n",
            "Valor: 19.00 Predición: 31.60. Error: 12.60\n",
            "Valor: 30.00 Predición: 44.37. Error: 14.37\n",
            "Valor: 20.00 Predición: 33.16. Error: 13.16\n",
            "Valor: 23.00 Predición: 33.57. Error: 10.57\n",
            "Valor: 50.00 Predición: 50.39. Error: 0.39\n",
            "Valor: 119.00 Predición: 113.91. Error: 5.09\n",
            "Valor: 20.00 Predición: 34.96. Error: 14.96\n",
            "Valor: 100.00 Predición: 83.58. Error: 16.42\n",
            "Valor: 50.00 Predición: 37.73. Error: 12.27\n",
            "Valor: 35.00 Predición: 36.17. Error: 1.17\n",
            "Valor: 25.00 Predición: 26.68. Error: 1.68\n",
            "Valor: 25.00 Predición: 37.47. Error: 12.47\n",
            "Valor: 90.00 Predición: 139.92. Error: 49.92\n",
            "Valor: 64.00 Predición: 95.02. Error: 31.02\n",
            "Valor: 60.00 Predición: 57.65. Error: 2.35\n",
            "Valor: 52.00 Predición: 72.01. Error: 20.01\n",
            "Valor: 55.00 Predición: 44.36. Error: 10.64\n",
            "Valor: 70.00 Predición: 68.31. Error: 1.69\n",
            "Valor: 90.00 Predición: 141.65. Error: 51.65\n",
            "Valor: 14.00 Predición: 30.53. Error: 16.53\n",
            "Valor: 35.00 Predición: 30.80. Error: 4.20\n",
            "Valor: 25.00 Predición: 23.32. Error: 1.68\n",
            "Valor: 75.00 Predición: 101.83. Error: 26.83\n",
            "Valor: 80.00 Predición: 131.67. Error: 51.67\n",
            "Valor: 60.00 Predición: 54.63. Error: 5.37\n",
            "Valor: 70.00 Predición: 65.20. Error: 4.80\n",
            "Valor: 119.00 Predición: 134.96. Error: 15.96\n",
            "Valor: 15.00 Predición: 32.26. Error: 17.26\n",
            "Valor: 25.00 Predición: 34.10. Error: 9.10\n",
            "Valor: 80.00 Predición: 50.05. Error: 29.95\n",
            "Valor: 46.00 Predición: 64.44. Error: 18.44\n",
            "Valor: 177.00 Predición: 193.39. Error: 16.39\n",
            "Valor: 45.00 Predición: 66.88. Error: 21.88\n",
            "Valor: 90.00 Predición: 112.19. Error: 22.19\n",
            "Valor: 42.00 Predición: 44.80. Error: 2.80\n",
            "Valor: 28.00 Predición: 35.54. Error: 7.54\n",
            "Valor: 59.00 Predición: 62.26. Error: 3.26\n",
            "Valor: 31.00 Predición: 38.75. Error: 7.75\n",
            "Valor: 65.00 Predición: 64.02. Error: 0.98\n",
            "Valor: 65.00 Predición: 64.02. Error: 0.98\n",
            "Valor: 70.00 Predición: 64.43. Error: 5.57\n",
            "Valor: 200.00 Predición: 192.83. Error: 7.17\n",
            "Valor: 100.00 Predición: 69.51. Error: 30.49\n",
            "Valor: 35.00 Predición: 31.43. Error: 3.57\n",
            "Valor: 40.00 Predición: 38.92. Error: 1.08\n",
            "Valor: 53.00 Predición: 43.07. Error: 9.93\n",
            "Valor: 62.00 Predición: 78.75. Error: 16.75\n",
            "Valor: 28.00 Predición: 30.78. Error: 2.78\n",
            "Valor: 31.00 Predición: 38.36. Error: 7.36\n",
            "Valor: 38.00 Predición: 33.49. Error: 4.51\n",
            "Valor: 45.00 Predición: 40.45. Error: 4.55\n",
            "Valor: 32.00 Predición: 55.17. Error: 23.17\n",
            "Valor: 45.00 Predición: 36.63. Error: 8.37\n",
            "Valor: 25.00 Predición: 28.61. Error: 3.61\n",
            "Valor: 70.00 Predición: 87.75. Error: 17.75\n",
            "Valor: 51.00 Predición: 35.24. Error: 15.76\n",
            "Valor: 24.00 Predición: 33.10. Error: 9.10\n",
            "Valor: 80.00 Predición: 65.19. Error: 14.81\n",
            "Valor: 33.00 Predición: 34.58. Error: 1.58\n",
            "Valor: 17.00 Predición: 30.77. Error: 13.77\n",
            "Valor: 48.00 Predición: 71.07. Error: 23.07\n",
            "Valor: 100.00 Predición: 85.75. Error: 14.25\n",
            "Valor: 33.00 Predición: 41.00. Error: 8.00\n",
            "Valor: 20.00 Predición: 32.43. Error: 12.43\n",
            "Valor: 40.00 Predición: 47.52. Error: 7.52\n",
            "Valor: 115.00 Predición: 70.99. Error: 44.01\n",
            "Valor: 20.00 Predición: 28.56. Error: 8.56\n",
            "Valor: 39.00 Predición: 40.39. Error: 1.39\n",
            "Valor: 25.00 Predición: 30.64. Error: 5.64\n",
            "Valor: 37.00 Predición: 36.77. Error: 0.23\n",
            "Valor: 15.00 Predición: 30.17. Error: 15.17\n",
            "Valor: 72.00 Predición: 71.19. Error: 0.81\n",
            "Valor: 50.00 Predición: 37.63. Error: 12.37\n",
            "Valor: 230.00 Predición: 331.80. Error: 101.80\n",
            "Valor: 127.00 Predición: 89.83. Error: 37.17\n",
            "Valor: 29.00 Predición: 33.27. Error: 4.27\n",
            "Valor: 30.00 Predición: 36.13. Error: 6.13\n",
            "Valor: 33.00 Predición: 40.15. Error: 7.15\n",
            "Valor: 90.00 Predición: 108.25. Error: 18.25\n",
            "Valor: 40.00 Predición: 38.74. Error: 1.26\n",
            "Valor: 80.00 Predición: 53.88. Error: 26.12\n",
            "Valor: 64.00 Predición: 63.96. Error: 0.04\n",
            "Valor: 50.00 Predición: 54.41. Error: 4.41\n",
            "Valor: 26.00 Predición: 32.67. Error: 6.67\n",
            "Valor: 30.00 Predición: 33.22. Error: 3.22\n",
            "Valor: 64.00 Predición: 65.05. Error: 1.05\n",
            "Valor: 78.00 Predición: 67.11. Error: 10.89\n",
            "Valor: 120.00 Predición: 80.16. Error: 39.84\n",
            "Valor: 130.00 Predición: 84.84. Error: 45.16\n",
            "Valor: 60.00 Predición: 95.81. Error: 35.81\n",
            "Valor: 180.00 Predición: 166.63. Error: 13.37\n",
            "Valor: 49.00 Predición: 64.29. Error: 15.29\n",
            "Valor: 50.00 Predición: 42.23. Error: 7.77\n",
            "Valor: 18.00 Predición: 29.76. Error: 11.76\n",
            "Valor: 65.00 Predición: 85.92. Error: 20.92\n",
            "Valor: 40.00 Predición: 35.77. Error: 4.23\n",
            "Valor: 84.00 Predición: 110.53. Error: 26.53\n",
            "Valor: 30.00 Predición: 38.03. Error: 8.03\n",
            "Valor: 49.00 Predición: 37.49. Error: 11.51\n",
            "Valor: 66.00 Predición: 77.45. Error: 11.45\n",
            "Valor: 106.00 Predición: 169.43. Error: 63.43\n",
            "Valor: 65.00 Predición: 53.67. Error: 11.33\n",
            "Valor: 30.00 Predición: 37.53. Error: 7.53\n",
            "Valor: 85.00 Predición: 55.14. Error: 29.86\n",
            "Valor: 50.00 Predición: 67.79. Error: 17.79\n",
            "Valor: 23.00 Predición: 35.04. Error: 12.04\n",
            "Valor: 41.00 Predición: 34.13. Error: 6.87\n",
            "Valor: 18.00 Predición: 30.33. Error: 12.33\n",
            "Valor: 90.00 Predición: 62.33. Error: 27.67\n",
            "Valor: 60.00 Predición: 54.93. Error: 5.07\n",
            "Valor: 70.00 Predición: 95.47. Error: 25.47\n",
            "Valor: 20.00 Predición: 19.50. Error: 0.50\n",
            "Valor: 179.00 Predición: 147.97. Error: 31.03\n",
            "Valor: 25.00 Predición: 30.92. Error: 5.92\n",
            "Valor: 60.00 Predición: 98.63. Error: 38.63\n",
            "Valor: 55.00 Predición: 61.67. Error: 6.67\n",
            "Valor: 64.00 Predición: 69.30. Error: 5.30\n",
            "Valor: 30.00 Predición: 29.33. Error: 0.67\n",
            "Valor: 68.00 Predición: 67.28. Error: 0.72\n",
            "Valor: 195.00 Predición: 130.45. Error: 64.55\n",
            "Valor: 65.00 Predición: 73.89. Error: 8.89\n",
            "Valor: 30.00 Predición: 43.28. Error: 13.28\n",
            "Valor: 26.00 Predición: 36.89. Error: 10.89\n",
            "Valor: 300.00 Predición: 257.00. Error: 43.00\n",
            "Valor: 50.00 Predición: 33.55. Error: 16.45\n",
            "Valor: 77.00 Predición: 74.82. Error: 2.18\n",
            "Valor: 49.00 Predición: 47.05. Error: 1.95\n",
            "Valor: 24.00 Predición: 27.18. Error: 3.18\n",
            "Valor: 40.00 Predición: 36.54. Error: 3.46\n",
            "Valor: 120.00 Predición: 90.45. Error: 29.55\n",
            "Valor: 63.00 Predición: 89.97. Error: 26.97\n",
            "Valor: 16.00 Predición: 22.32. Error: 6.32\n",
            "Valor: 12.00 Predición: 30.70. Error: 18.70\n",
            "Valor: 150.00 Predición: 123.19. Error: 26.81\n",
            "Valor: 75.00 Predición: 61.74. Error: 13.26\n",
            "Valor: 40.00 Predición: 41.26. Error: 1.26\n",
            "Valor: 52.00 Predición: 25.41. Error: 26.59\n",
            "Valor: 190.00 Predición: 155.74. Error: 34.26\n",
            "Valor: 60.00 Predición: 44.58. Error: 15.42\n",
            "Valor: 12.00 Predición: 25.64. Error: 13.64\n",
            "Valor: 80.00 Predición: 48.93. Error: 31.07\n",
            "Valor: 55.00 Predición: 47.31. Error: 7.69\n",
            "Valor: 60.00 Predición: 34.47. Error: 25.53\n",
            "Valor: 35.00 Predición: 62.34. Error: 27.34\n",
            "Valor: 50.00 Predición: 87.44. Error: 37.44\n",
            "Valor: 60.00 Predición: 76.70. Error: 16.70\n",
            "Valor: 55.00 Predición: 76.17. Error: 21.17\n",
            "Valor: 19.00 Predición: 33.49. Error: 14.49\n",
            "Valor: 25.00 Predición: 36.55. Error: 11.55\n",
            "Valor: 35.00 Predición: 23.35. Error: 11.65\n",
            "Valor: 50.00 Predición: 49.59. Error: 0.41\n",
            "Valor: 18.00 Predición: 28.93. Error: 10.93\n",
            "Valor: 90.00 Predición: 87.34. Error: 2.66\n",
            "Valor: 85.00 Predición: 80.65. Error: 4.35\n",
            "Valor: 35.00 Predición: 29.78. Error: 5.22\n",
            "Valor: 10.00 Predición: 30.25. Error: 20.25\n",
            "Valor: 43.00 Predición: 35.08. Error: 7.92\n",
            "Valor: 77.00 Predición: 80.13. Error: 3.13\n",
            "Valor: 50.00 Predición: 102.76. Error: 52.76\n",
            "Valor: 45.00 Predición: 55.88. Error: 10.88\n",
            "Valor: 89.00 Predición: 98.47. Error: 9.47\n",
            "Valor: 20.00 Predición: 24.99. Error: 4.99\n",
            "Valor: 80.00 Predición: 63.79. Error: 16.21\n",
            "Valor: 70.00 Predición: 54.05. Error: 15.95\n",
            "Valor: 16.00 Predición: 31.93. Error: 15.93\n",
            "Valor: 79.00 Predición: 47.66. Error: 31.34\n",
            "Valor: 35.00 Predición: 33.65. Error: 1.35\n",
            "Valor: 37.00 Predición: 34.29. Error: 2.71\n",
            "Valor: 25.00 Predición: 21.32. Error: 3.68\n",
            "Valor: 15.00 Predición: 22.67. Error: 7.67\n",
            "Valor: 70.00 Predición: 84.99. Error: 14.99\n",
            "Valor: 85.00 Predición: 68.35. Error: 16.65\n",
            "Valor: 10.00 Predición: 30.62. Error: 20.62\n",
            "Valor: 20.00 Predición: 23.13. Error: 3.13\n",
            "Valor: 15.00 Predición: 22.63. Error: 7.63\n",
            "Valor: 80.00 Predición: 99.47. Error: 19.47\n",
            "Valor: 37.00 Predición: 38.39. Error: 1.39\n",
            "Valor: 90.00 Predición: 65.83. Error: 24.17\n",
            "Valor: 70.00 Predición: 45.67. Error: 24.33\n",
            "Valor: 50.00 Predición: 52.93. Error: 2.93\n",
            "Valor: 45.00 Predición: 40.66. Error: 4.34\n",
            "Valor: 37.00 Predición: 50.36. Error: 13.36\n",
            "Valor: 75.00 Predición: 70.97. Error: 4.03\n",
            "Valor: 42.00 Predición: 40.24. Error: 1.76\n",
            "Valor: 30.00 Predición: 35.24. Error: 5.24\n",
            "Valor: 69.00 Predición: 66.98. Error: 2.02\n",
            "Valor: 80.00 Predición: 77.33. Error: 2.67\n",
            "Valor: 70.00 Predición: 64.89. Error: 5.11\n",
            "Valor: 68.00 Predición: 81.23. Error: 13.23\n",
            "Valor: 40.00 Predición: 38.07. Error: 1.93\n",
            "Valor: 135.00 Predición: 165.24. Error: 30.24\n",
            "Valor: 70.00 Predición: 65.17. Error: 4.83\n",
            "Valor: 40.00 Predición: 71.35. Error: 31.35\n",
            "Valor: 22.00 Predición: 27.12. Error: 5.12\n",
            "Valor: 84.00 Predición: 117.62. Error: 33.62\n",
            "Valor: 55.00 Predición: 42.57. Error: 12.43\n",
            "Valor: 30.00 Predición: 38.94. Error: 8.94\n",
            "Valor: 29.00 Predición: 32.36. Error: 3.36\n",
            "Valor: 15.00 Predición: 33.14. Error: 18.14\n",
            "Valor: 15.00 Predición: 25.67. Error: 10.67\n",
            "Valor: 27.00 Predición: 34.19. Error: 7.19\n",
            "Valor: 80.00 Predición: 84.23. Error: 4.23\n",
            "Valor: 63.00 Predición: 52.31. Error: 10.69\n",
            "Valor: 140.00 Predición: 188.32. Error: 48.32\n",
            "Valor: 105.00 Predición: 98.35. Error: 6.65\n",
            "Valor: 65.00 Predición: 38.79. Error: 26.21\n",
            "Valor: 113.00 Predición: 90.19. Error: 22.81\n",
            "Valor: 120.00 Predición: 55.16. Error: 64.84\n",
            "Valor: 40.00 Predición: 52.25. Error: 12.25\n",
            "Valor: 60.00 Predición: 48.68. Error: 11.32\n",
            "Valor: 70.00 Predición: 60.14. Error: 9.86\n",
            "Valor: 70.00 Predición: 78.29. Error: 8.29\n",
            "Valor: 100.00 Predición: 80.34. Error: 19.66\n",
            "Valor: 10.00 Predición: 29.31. Error: 19.31\n",
            "Valor: 70.00 Predición: 67.40. Error: 2.60\n",
            "Valor: 25.00 Predición: 35.27. Error: 10.27\n",
            "Valor: 50.00 Predición: 37.15. Error: 12.85\n",
            "Valor: 14.00 Predición: 30.24. Error: 16.24\n",
            "Valor: 30.00 Predición: 29.48. Error: 0.52\n",
            "Valor: 30.00 Predición: 47.92. Error: 17.92\n",
            "Valor: 70.00 Predición: 75.68. Error: 5.68\n",
            "Valor: 17.00 Predición: 32.07. Error: 15.07\n",
            "Valor: 60.00 Predición: 36.24. Error: 23.76\n",
            "Valor: 119.00 Predición: 187.59. Error: 68.59\n",
            "Valor: 15.00 Predición: 33.49. Error: 18.49\n",
            "Valor: 17.00 Predición: 30.12. Error: 13.12\n",
            "Valor: 10.00 Predición: 29.42. Error: 19.42\n",
            "Valor: 65.00 Predición: 61.74. Error: 3.26\n",
            "Valor: 89.00 Predición: 99.43. Error: 10.43\n",
            "Valor: 39.00 Predición: 88.87. Error: 49.87\n",
            "Valor: 200.00 Predición: 94.10. Error: 105.90\n",
            "Valor: 50.00 Predición: 64.12. Error: 14.12\n",
            "Valor: 40.00 Predición: 34.93. Error: 5.07\n",
            "Valor: 69.00 Predición: 56.42. Error: 12.58\n",
            "Valor: 26.00 Predición: 34.90. Error: 8.90\n",
            "Valor: 50.00 Predición: 62.51. Error: 12.51\n",
            "Valor: 42.00 Predición: 36.05. Error: 5.95\n",
            "Valor: 25.00 Predición: 19.14. Error: 5.86\n",
            "Valor: 16.00 Predición: 25.76. Error: 9.76\n",
            "Valor: 116.00 Predición: 59.23. Error: 56.77\n",
            "Valor: 50.00 Predición: 40.13. Error: 9.87\n",
            "Valor: 58.00 Predición: 55.40. Error: 2.60\n",
            "Valor: 78.00 Predición: 90.84. Error: 12.84\n",
            "Valor: 143.00 Predición: 203.89. Error: 60.89\n",
            "Valor: 42.00 Predición: 56.59. Error: 14.59\n",
            "Valor: 30.00 Predición: 31.86. Error: 1.86\n",
            "Valor: 60.00 Predición: 37.69. Error: 22.31\n",
            "Valor: 28.00 Predición: 39.36. Error: 11.36\n",
            "Valor: 15.00 Predición: 33.51. Error: 18.51\n",
            "Valor: 80.00 Predición: 82.99. Error: 2.99\n",
            "Valor: 65.00 Predición: 59.11. Error: 5.89\n",
            "Valor: 11.00 Predición: 25.36. Error: 14.36\n",
            "Valor: 90.00 Predición: 76.51. Error: 13.49\n",
            "Valor: 39.00 Predición: 38.61. Error: 0.39\n",
            "Valor: 150.00 Predición: 125.26. Error: 24.74\n",
            "Valor: 45.00 Predición: 50.45. Error: 5.45\n",
            "Valor: 85.00 Predición: 58.21. Error: 26.79\n",
            "Valor: 95.00 Predición: 115.22. Error: 20.22\n",
            "Valor: 90.00 Predición: 101.23. Error: 11.23\n",
            "Valor: 72.00 Predición: 65.15. Error: 6.85\n",
            "Valor: 25.00 Predición: 27.21. Error: 2.21\n",
            "Valor: 39.00 Predición: 37.72. Error: 1.28\n",
            "Valor: 40.00 Predición: 50.72. Error: 10.72\n",
            "Valor: 80.00 Predición: 66.17. Error: 13.83\n",
            "Valor: 31.00 Predición: 35.50. Error: 4.50\n",
            "Valor: 40.00 Predición: 34.60. Error: 5.40\n",
            "Valor: 70.00 Predición: 51.05. Error: 18.95\n",
            "Valor: 55.00 Predición: 47.85. Error: 7.15\n",
            "Valor: 40.00 Predición: 38.60. Error: 1.40\n",
            "Valor: 25.00 Predición: 29.37. Error: 4.37\n",
            "Valor: 69.00 Predición: 36.27. Error: 32.73\n",
            "Valor: 200.00 Predición: 100.47. Error: 99.53\n",
            "Valor: 19.00 Predición: 35.42. Error: 16.42\n",
            "Valor: 50.00 Predición: 54.14. Error: 4.14\n",
            "Valor: 30.00 Predición: 26.97. Error: 3.03\n",
            "Valor: 23.00 Predición: 28.21. Error: 5.21\n",
            "Valor: 45.00 Predición: 32.47. Error: 12.53\n",
            "Valor: 55.00 Predición: 36.23. Error: 18.77\n",
            "Valor: 40.00 Predición: 71.57. Error: 31.57\n",
            "Valor: 245.00 Predición: 114.67. Error: 130.33\n",
            "Valor: 85.00 Predición: 114.39. Error: 29.39\n",
            "Valor: 24.00 Predición: 35.89. Error: 11.89\n",
            "Valor: 20.00 Predición: 26.68. Error: 6.68\n",
            "Valor: 42.00 Predición: 39.61. Error: 2.39\n",
            "Valor: 70.00 Predición: 66.66. Error: 3.34\n",
            "Valor: 47.00 Predición: 38.74. Error: 8.26\n",
            "Valor: 33.00 Predición: 38.54. Error: 5.54\n",
            "Valor: 31.00 Predición: 49.64. Error: 18.64\n",
            "Valor: 55.00 Predición: 70.33. Error: 15.33\n",
            "Valor: 35.00 Predición: 42.97. Error: 7.97\n",
            "Valor: 80.00 Predición: 64.27. Error: 15.73\n",
            "Valor: 60.00 Predición: 58.61. Error: 1.39\n",
            "Valor: 36.00 Predición: 42.30. Error: 6.30\n",
            "Valor: 200.00 Predición: 152.09. Error: 47.91\n",
            "Valor: 150.00 Predición: 126.98. Error: 23.02\n",
            "Valor: 37.00 Predición: 26.00. Error: 11.00\n",
            "Valor: 16.00 Predición: 34.67. Error: 18.67\n",
            "Valor: 63.00 Predición: 81.06. Error: 18.06\n",
            "Valor: 18.00 Predición: 34.01. Error: 16.01\n",
            "Valor: 70.00 Predición: 58.92. Error: 11.08\n",
            "Valor: 31.00 Predición: 36.02. Error: 5.02\n",
            "Valor: 37.00 Predición: 38.98. Error: 1.98\n",
            "Valor: 50.00 Predición: 38.95. Error: 11.05\n",
            "Valor: 17.00 Predición: 27.79. Error: 10.79\n",
            "Valor: 24.00 Predición: 28.07. Error: 4.07\n",
            "Valor: 70.00 Predición: 87.57. Error: 17.57\n",
            "Valor: 100.00 Predición: 68.95. Error: 31.05\n",
            "Valor: 25.00 Predición: 24.52. Error: 0.48\n",
            "Valor: 52.00 Predición: 57.13. Error: 5.13\n",
            "Valor: 55.00 Predición: 38.50. Error: 16.50\n",
            "Valor: 38.00 Predición: 50.66. Error: 12.66\n",
            "Valor: 90.00 Predición: 54.92. Error: 35.08\n",
            "Valor: 75.00 Predición: 48.61. Error: 26.39\n",
            "Valor: 24.00 Predición: 39.51. Error: 15.51\n",
            "Valor: 52.00 Predición: 69.71. Error: 17.71\n",
            "Valor: 55.00 Predición: 46.69. Error: 8.31\n",
            "Valor: 65.00 Predición: 66.79. Error: 1.79\n",
            "Valor: 45.00 Predición: 35.39. Error: 9.61\n",
            "Valor: 120.00 Predición: 171.69. Error: 51.69\n",
            "Valor: 50.00 Predición: 42.11. Error: 7.89\n",
            "Valor: 125.00 Predición: 119.80. Error: 5.20\n",
            "Valor: 45.00 Predición: 33.89. Error: 11.11\n",
            "Valor: 22.00 Predición: 32.91. Error: 10.91\n",
            "Valor: 37.00 Predición: 33.14. Error: 3.86\n",
            "Valor: 24.00 Predición: 33.65. Error: 9.65\n",
            "Valor: 54.00 Predición: 67.60. Error: 13.60\n",
            "Valor: 40.00 Predición: 30.71. Error: 9.29\n",
            "Valor: 59.00 Predición: 39.64. Error: 19.36\n",
            "Valor: 42.00 Predición: 24.46. Error: 17.54\n",
            "Valor: 51.00 Predición: 59.35. Error: 8.35\n",
            "Valor: 45.00 Predición: 41.56. Error: 3.44\n",
            "Valor: 30.00 Predición: 25.96. Error: 4.04\n",
            "Valor: 90.00 Predición: 66.68. Error: 23.32\n",
            "Valor: 50.00 Predición: 37.09. Error: 12.91\n",
            "Valor: 50.00 Predición: 52.21. Error: 2.21\n",
            "Valor: 49.00 Predición: 57.25. Error: 8.25\n",
            "Valor: 10.00 Predición: 35.82. Error: 25.82\n",
            "Valor: 80.00 Predición: 74.29. Error: 5.71\n",
            "Valor: 80.00 Predición: 95.67. Error: 15.67\n",
            "Valor: 90.00 Predición: 65.79. Error: 24.21\n",
            "Valor: 27.00 Predición: 34.80. Error: 7.80\n",
            "Valor: 32.00 Predición: 30.28. Error: 1.72\n",
            "Valor: 109.00 Predición: 42.44. Error: 66.56\n",
            "Valor: 52.00 Predición: 41.24. Error: 10.76\n",
            "Valor: 23.00 Predición: 35.56. Error: 12.56\n",
            "Valor: 70.00 Predición: 103.12. Error: 33.12\n",
            "Valor: 40.00 Predición: 54.31. Error: 14.31\n",
            "Valor: 40.00 Predición: 39.23. Error: 0.77\n",
            "Valor: 158.00 Predición: 103.50. Error: 54.50\n",
            "Valor: 158.00 Predición: 131.34. Error: 26.66\n",
            "Valor: 160.00 Predición: 182.39. Error: 22.39\n",
            "Valor: 75.00 Predición: 56.30. Error: 18.70\n",
            "Valor: 11.00 Predición: 31.87. Error: 20.87\n",
            "Valor: 200.00 Predición: 176.25. Error: 23.75\n",
            "Valor: 40.00 Predición: 48.02. Error: 8.02\n",
            "Valor: 99.00 Predición: 86.24. Error: 12.76\n",
            "Valor: 160.00 Predición: 168.31. Error: 8.31\n",
            "Valor: 55.00 Predición: 39.80. Error: 15.20\n",
            "Valor: 15.00 Predición: 22.59. Error: 7.59\n",
            "Valor: 49.00 Predición: 42.36. Error: 6.64\n",
            "Valor: 16.00 Predición: 25.10. Error: 9.10\n",
            "Valor: 40.00 Predición: 41.65. Error: 1.65\n",
            "Valor: 150.00 Predición: 155.04. Error: 5.04\n",
            "Valor: 39.00 Predición: 50.56. Error: 11.56\n",
            "Valor: 50.00 Predición: 77.70. Error: 27.70\n",
            "Valor: 50.00 Predición: 54.66. Error: 4.66\n",
            "Valor: 59.00 Predición: 85.68. Error: 26.68\n",
            "Valor: 89.00 Predición: 75.22. Error: 13.78\n",
            "Valor: 136.00 Predición: 103.04. Error: 32.96\n",
            "Valor: 110.00 Predición: 87.93. Error: 22.07\n",
            "Valor: 55.00 Predición: 82.58. Error: 27.58\n",
            "Valor: 15.00 Predición: 31.30. Error: 16.30\n",
            "Valor: 70.00 Predición: 34.19. Error: 35.81\n",
            "Valor: 80.00 Predición: 71.16. Error: 8.84\n",
            "Valor: 50.00 Predición: 38.15. Error: 11.85\n",
            "Valor: 60.00 Predición: 61.11. Error: 1.11\n",
            "Valor: 100.00 Predición: 104.09. Error: 4.09\n",
            "Valor: 21.00 Predición: 26.84. Error: 5.84\n",
            "Valor: 25.00 Predición: 33.66. Error: 8.66\n",
            "Valor: 58.00 Predición: 82.91. Error: 24.91\n",
            "Valor: 65.00 Predición: 43.84. Error: 21.16\n",
            "Valor: 110.00 Predición: 103.42. Error: 6.58\n",
            "Valor: 25.00 Predición: 23.77. Error: 1.23\n",
            "Valor: 85.00 Predición: 46.56. Error: 38.44\n",
            "Valor: 46.00 Predición: 43.74. Error: 2.26\n",
            "Valor: 120.00 Predición: 76.64. Error: 43.36\n",
            "Valor: 75.00 Predición: 49.61. Error: 25.39\n",
            "Valor: 40.00 Predición: 36.08. Error: 3.92\n",
            "Valor: 37.00 Predición: 58.68. Error: 21.68\n",
            "Valor: 54.00 Predición: 57.53. Error: 3.53\n",
            "Valor: 33.00 Predición: 53.13. Error: 20.13\n",
            "Valor: 75.00 Predición: 48.26. Error: 26.74\n",
            "Valor: 79.00 Predición: 57.16. Error: 21.84\n",
            "Valor: 40.00 Predición: 37.08. Error: 2.92\n",
            "Valor: 50.00 Predición: 82.16. Error: 32.16\n",
            "Valor: 40.00 Predición: 23.99. Error: 16.01\n",
            "Valor: 16.00 Predición: 31.06. Error: 15.06\n",
            "Valor: 80.00 Predición: 92.42. Error: 12.42\n",
            "Valor: 20.00 Predición: 30.17. Error: 10.17\n",
            "Valor: 75.00 Predición: 85.02. Error: 10.02\n",
            "Valor: 40.00 Predición: 40.07. Error: 0.07\n",
            "Valor: 35.00 Predición: 44.18. Error: 9.18\n",
            "Valor: 160.00 Predición: 133.39. Error: 26.61\n",
            "Valor: 19.00 Predición: 33.63. Error: 14.63\n",
            "Valor: 65.00 Predición: 62.50. Error: 2.50\n",
            "Valor: 45.00 Predición: 29.21. Error: 15.79\n",
            "Valor: 60.00 Predición: 64.51. Error: 4.51\n",
            "Valor: 18.00 Predición: 35.20. Error: 17.20\n",
            "Valor: 52.00 Predición: 35.44. Error: 16.56\n",
            "Valor: 75.00 Predición: 72.29. Error: 2.71\n",
            "Valor: 24.00 Predición: 30.77. Error: 6.77\n",
            "Valor: 19.00 Predición: 34.98. Error: 15.98\n",
            "Valor: 40.00 Predición: 37.18. Error: 2.82\n",
            "Valor: 120.00 Predición: 45.64. Error: 74.36\n",
            "Valor: 19.00 Predición: 25.38. Error: 6.38\n",
            "Valor: 49.00 Predición: 46.22. Error: 2.78\n",
            "Valor: 100.00 Predición: 104.25. Error: 4.25\n",
            "Valor: 60.00 Predición: 62.89. Error: 2.89\n",
            "Valor: 58.00 Predición: 66.43. Error: 8.43\n",
            "Valor: 90.00 Predición: 57.89. Error: 32.11\n",
            "Valor: 80.00 Predición: 83.60. Error: 3.60\n",
            "Valor: 60.00 Predición: 32.89. Error: 27.11\n",
            "Valor: 45.00 Predición: 45.35. Error: 0.35\n",
            "Valor: 65.00 Predición: 76.61. Error: 11.61\n",
            "Valor: 80.00 Predición: 57.69. Error: 22.31\n",
            "Valor: 16.00 Predición: 27.72. Error: 11.72\n",
            "Valor: 13.00 Predición: 27.13. Error: 14.13\n",
            "Valor: 150.00 Predición: 110.29. Error: 39.71\n",
            "Valor: 62.00 Predición: 77.91. Error: 15.91\n",
            "Valor: 85.00 Predición: 49.75. Error: 35.25\n",
            "Valor: 49.00 Predición: 31.81. Error: 17.19\n",
            "Valor: 45.00 Predición: 37.69. Error: 7.31\n",
            "Valor: 85.00 Predición: 65.24. Error: 19.76\n",
            "Valor: 19.00 Predición: 31.64. Error: 12.64\n",
            "Valor: 70.00 Predición: 148.86. Error: 78.86\n",
            "Valor: 18.00 Predición: 30.97. Error: 12.97\n",
            "Valor: 20.00 Predición: 33.56. Error: 13.56\n",
            "Valor: 12.00 Predición: 32.35. Error: 20.35\n",
            "Valor: 50.00 Predición: 44.90. Error: 5.10\n",
            "Valor: 35.00 Predición: 39.10. Error: 4.10\n",
            "Valor: 45.00 Predición: 52.66. Error: 7.66\n",
            "Valor: 50.00 Predición: 59.13. Error: 9.13\n",
            "Valor: 75.00 Predición: 78.10. Error: 3.10\n",
            "Valor: 40.00 Predición: 38.86. Error: 1.14\n",
            "Valor: 35.00 Predición: 28.71. Error: 6.29\n",
            "Valor: 75.00 Predición: 93.75. Error: 18.75\n",
            "Valor: 20.00 Predición: 36.22. Error: 16.22\n",
            "Valor: 95.00 Predición: 73.31. Error: 21.69\n",
            "Valor: 45.00 Predición: 45.22. Error: 0.22\n",
            "Valor: 125.00 Predición: 111.80. Error: 13.20\n",
            "Valor: 100.00 Predición: 83.29. Error: 16.71\n",
            "Valor: 22.00 Predición: 25.48. Error: 3.48\n",
            "Valor: 23.00 Predición: 35.84. Error: 12.84\n",
            "Valor: 30.00 Predición: 31.16. Error: 1.16\n",
            "Valor: 18.00 Predición: 33.08. Error: 15.08\n",
            "Valor: 130.00 Predición: 127.29. Error: 2.71\n",
            "Valor: 73.00 Predición: 96.53. Error: 23.53\n",
            "Valor: 99.00 Predición: 122.00. Error: 23.00\n",
            "Valor: 45.00 Predición: 37.11. Error: 7.89\n",
            "Valor: 95.00 Predición: 148.57. Error: 53.57\n",
            "Valor: 70.00 Predición: 69.90. Error: 0.10\n",
            "Valor: 25.00 Predición: 34.75. Error: 9.75\n",
            "Valor: 135.00 Predición: 96.65. Error: 38.35\n",
            "Valor: 55.00 Predición: 48.80. Error: 6.20\n",
            "Valor: 10.00 Predición: 26.39. Error: 16.39\n",
            "Valor: 95.00 Predición: 105.93. Error: 10.93\n",
            "Valor: 30.00 Predición: 34.57. Error: 4.57\n",
            "Valor: 45.00 Predición: 39.45. Error: 5.55\n",
            "Valor: 80.00 Predición: 96.50. Error: 16.50\n",
            "Valor: 45.00 Predición: 26.51. Error: 18.49\n",
            "Valor: 77.00 Predición: 61.65. Error: 15.35\n",
            "Valor: 55.00 Predición: 77.58. Error: 22.58\n",
            "Valor: 90.00 Predición: 88.65. Error: 1.35\n",
            "Valor: 200.00 Predición: 213.66. Error: 13.66\n",
            "Valor: 30.00 Predición: 72.78. Error: 42.78\n",
            "Valor: 30.00 Predición: 31.88. Error: 1.88\n",
            "Valor: 27.00 Predición: 38.10. Error: 11.10\n",
            "Valor: 40.00 Predición: 112.10. Error: 72.10\n",
            "Valor: 73.00 Predición: 61.53. Error: 11.47\n",
            "Valor: 15.00 Predición: 28.50. Error: 13.50\n",
            "Valor: 42.00 Predición: 37.59. Error: 4.41\n",
            "Valor: 19.00 Predición: 31.80. Error: 12.80\n",
            "Valor: 35.00 Predición: 34.68. Error: 0.32\n",
            "Valor: 75.00 Predición: 87.13. Error: 12.13\n",
            "Valor: 95.00 Predición: 73.12. Error: 21.88\n",
            "Valor: 17.00 Predición: 34.15. Error: 17.15\n",
            "Valor: 190.00 Predición: 184.61. Error: 5.39\n",
            "Valor: 79.00 Predición: 84.78. Error: 5.78\n",
            "Valor: 80.00 Predición: 83.89. Error: 3.89\n",
            "Valor: 89.00 Predición: 89.41. Error: 0.41\n",
            "Valor: 80.00 Predición: 94.21. Error: 14.21\n",
            "Valor: 31.00 Predición: 32.36. Error: 1.36\n",
            "Valor: 85.00 Predición: 93.16. Error: 8.16\n",
            "Valor: 35.00 Predición: 30.52. Error: 4.48\n",
            "Valor: 35.00 Predición: 42.90. Error: 7.90\n",
            "Valor: 75.00 Predición: 61.71. Error: 13.29\n",
            "Valor: 22.00 Predición: 18.51. Error: 3.49\n",
            "Valor: 43.00 Predición: 54.04. Error: 11.04\n",
            "Valor: 28.00 Predición: 31.08. Error: 3.08\n",
            "Valor: 68.00 Predición: 93.85. Error: 25.85\n",
            "Valor: 45.00 Predición: 37.60. Error: 7.40\n",
            "Valor: 40.00 Predición: 32.77. Error: 7.23\n",
            "Valor: 79.00 Predición: 95.10. Error: 16.10\n",
            "Valor: 20.00 Predición: 36.09. Error: 16.09\n",
            "Valor: 50.00 Predición: 44.71. Error: 5.29\n",
            "Valor: 29.00 Predición: 24.67. Error: 4.33\n",
            "Valor: 23.00 Predición: 32.97. Error: 9.97\n",
            "Valor: 20.00 Predición: 15.48. Error: 4.52\n",
            "Valor: 47.00 Predición: 34.44. Error: 12.56\n",
            "Valor: 36.00 Predición: 32.85. Error: 3.15\n",
            "Valor: 53.00 Predición: 34.19. Error: 18.81\n",
            "Valor: 38.00 Predición: 36.28. Error: 1.72\n",
            "Valor: 22.00 Predición: 27.05. Error: 5.05\n",
            "Valor: 39.00 Predición: 34.14. Error: 4.86\n",
            "Valor: 78.00 Predición: 85.99. Error: 7.99\n",
            "Valor: 45.00 Predición: 40.46. Error: 4.54\n",
            "Valor: 50.00 Predición: 39.08. Error: 10.92\n",
            "Valor: 21.00 Predición: 27.02. Error: 6.02\n",
            "Valor: 49.00 Predición: 40.79. Error: 8.21\n",
            "Valor: 70.00 Predición: 78.01. Error: 8.01\n",
            "Valor: 22.00 Predición: 26.72. Error: 4.72\n",
            "Valor: 120.00 Predición: 102.63. Error: 17.37\n",
            "Valor: 81.00 Predición: 118.38. Error: 37.38\n",
            "Valor: 59.00 Predición: 62.70. Error: 3.70\n",
            "Valor: 28.00 Predición: 31.07. Error: 3.07\n",
            "Valor: 35.00 Predición: 26.74. Error: 8.26\n",
            "Valor: 32.00 Predición: 31.37. Error: 0.63\n",
            "Valor: 22.00 Predición: 24.64. Error: 2.64\n",
            "Valor: 63.00 Predición: 98.91. Error: 35.91\n",
            "Valor: 39.00 Predición: 31.25. Error: 7.75\n",
            "Valor: 69.00 Predición: 72.71. Error: 3.71\n",
            "Valor: 95.00 Predición: 112.84. Error: 17.84\n",
            "Valor: 13.00 Predición: 21.51. Error: 8.51\n",
            "Valor: 60.00 Predición: 82.01. Error: 22.01\n",
            "Valor: 30.00 Predición: 40.12. Error: 10.12\n",
            "Valor: 30.00 Predición: 36.26. Error: 6.26\n",
            "Valor: 38.00 Predición: 38.76. Error: 0.76\n",
            "Valor: 150.00 Predición: 61.02. Error: 88.98\n",
            "Valor: 38.00 Predición: 37.27. Error: 0.73\n",
            "Valor: 38.00 Predición: 33.52. Error: 4.48\n",
            "Valor: 45.00 Predición: 49.95. Error: 4.95\n",
            "Valor: 62.00 Predición: 62.40. Error: 0.40\n",
            "Valor: 25.00 Predición: 26.23. Error: 1.23\n",
            "Valor: 32.00 Predición: 42.02. Error: 10.02\n",
            "Valor: 32.00 Predición: 36.04. Error: 4.04\n",
            "Valor: 28.00 Predición: 34.46. Error: 6.46\n",
            "Valor: 33.00 Predición: 42.16. Error: 9.16\n",
            "Valor: 74.00 Predición: 66.75. Error: 7.25\n",
            "Valor: 43.00 Predición: 37.04. Error: 5.96\n",
            "Valor: 46.00 Predición: 80.37. Error: 34.37\n",
            "Valor: 80.00 Predición: 62.46. Error: 17.54\n",
            "Valor: 40.00 Predición: 34.51. Error: 5.49\n",
            "Valor: 25.00 Predición: 32.97. Error: 7.97\n",
            "Valor: 80.00 Predición: 90.53. Error: 10.53\n",
            "Valor: 11.00 Predición: 22.23. Error: 11.23\n",
            "Valor: 50.00 Predición: 38.44. Error: 11.56\n",
            "Valor: 85.00 Predición: 75.86. Error: 9.14\n",
            "Valor: 125.00 Predición: 150.09. Error: 25.09\n",
            "Valor: 20.00 Predición: 21.64. Error: 1.64\n",
            "Valor: 23.00 Predición: 29.90. Error: 6.90\n",
            "Valor: 90.00 Predición: 43.37. Error: 46.63\n",
            "Valor: 30.00 Predición: 38.43. Error: 8.43\n",
            "Valor: 40.00 Predición: 51.88. Error: 11.88\n",
            "Valor: 91.00 Predición: 90.63. Error: 0.37\n",
            "Valor: 59.00 Predición: 60.58. Error: 1.58\n",
            "Valor: 45.00 Predición: 65.98. Error: 20.98\n",
            "Valor: 18.00 Predición: 42.23. Error: 24.23\n",
            "Valor: 45.00 Predición: 49.33. Error: 4.33\n",
            "Valor: 110.00 Predición: 102.04. Error: 7.96\n",
            "Valor: 70.00 Predición: 55.52. Error: 14.48\n",
            "Valor: 58.00 Predición: 78.65. Error: 20.65\n",
            "Valor: 79.00 Predición: 91.06. Error: 12.06\n",
            "Valor: 100.00 Predición: 87.81. Error: 12.19\n",
            "Valor: 159.00 Predición: 162.97. Error: 3.97\n",
            "Valor: 155.00 Predición: 150.08. Error: 4.92\n",
            "Valor: 39.00 Predición: 35.13. Error: 3.87\n",
            "Valor: 45.00 Predición: 64.51. Error: 19.51\n",
            "Valor: 100.00 Predición: 112.21. Error: 12.21\n",
            "Valor: 170.00 Predición: 148.14. Error: 21.86\n",
            "Valor: 21.00 Predición: 28.20. Error: 7.20\n",
            "Valor: 40.00 Predición: 48.14. Error: 8.14\n",
            "Valor: 50.00 Predición: 55.39. Error: 5.39\n",
            "Valor: 25.00 Predición: 33.94. Error: 8.94\n",
            "Valor: 17.00 Predición: 29.89. Error: 12.89\n",
            "Valor: 39.00 Predición: 43.10. Error: 4.10\n",
            "Valor: 85.00 Predición: 77.66. Error: 7.34\n",
            "Valor: 20.00 Predición: 35.54. Error: 15.54\n"
          ],
          "name": "stdout"
        }
      ]
    },
    {
      "cell_type": "code",
      "metadata": {
        "id": "ocNHhvC-SsTU",
        "colab_type": "code",
        "colab": {
          "base_uri": "https://localhost:8080/",
          "height": 51
        },
        "outputId": "ad082405-1afb-4022-d3ca-3de5bde128d4"
      },
      "source": [
        "print(f'Error absoluto: {np.mean(error_denorm)}')\n",
        "print(f'Error cuadrático medio: {np.mean(error_denorm**2)}')"
      ],
      "execution_count": null,
      "outputs": [
        {
          "output_type": "stream",
          "text": [
            "Error absoluto: 15.452216904466324\n",
            "Error cuadrático medio: 643.4337719608313\n"
          ],
          "name": "stdout"
        }
      ]
    }
  ]
}